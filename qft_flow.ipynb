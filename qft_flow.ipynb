{
  "cells": [
    {
      "cell_type": "markdown",
      "metadata": {
        "id": "view-in-github",
        "colab_type": "text"
      },
      "source": [
        "<a href=\"https://colab.research.google.com/github/d-passaro/pySeifert/blob/main/qft_flow.ipynb\" target=\"_parent\"><img src=\"https://colab.research.google.com/assets/colab-badge.svg\" alt=\"Open In Colab\"/></a>"
      ]
    },
    {
      "cell_type": "code",
      "execution_count": 1,
      "id": "97724f4e-dee2-4a35-a275-48a3a86a90f0",
      "metadata": {
        "id": "97724f4e-dee2-4a35-a275-48a3a86a90f0"
      },
      "outputs": [],
      "source": [
        "import torch\n",
        "from torch.utils.data import Dataset\n",
        "from torchvision import datasets\n",
        "from torchvision.transforms import ToTensor, Compose\n",
        "import matplotlib.pyplot as plt\n",
        "import numpy as np"
      ]
    },
    {
      "cell_type": "code",
      "execution_count": null,
      "id": "e3be7d91-b37c-418d-84b4-58fa92cce9c8",
      "metadata": {
        "id": "e3be7d91-b37c-418d-84b4-58fa92cce9c8"
      },
      "outputs": [],
      "source": [
        "!pip install torchdiffeq --quiet\n",
        "from torchdiffeq import odeint"
      ]
    },
    {
      "cell_type": "code",
      "execution_count": null,
      "id": "4596aa6d-167f-459c-9673-5caa0ba0b82c",
      "metadata": {
        "id": "4596aa6d-167f-459c-9673-5caa0ba0b82c"
      },
      "outputs": [],
      "source": [
        "DEVICE = torch.device('cpu')\n",
        "if torch.cuda.is_available():\n",
        "  DEVICE = torch.device('cuda')\n",
        "elif hasattr(torch, 'has_mps') and torch.backends.mps.is_available():\n",
        "  DEVICE = torch.device('mps')"
      ]
    },
    {
      "cell_type": "markdown",
      "id": "8c2b0d87-c200-45da-b4ce-6e08a9a3e34a",
      "metadata": {
        "id": "8c2b0d87-c200-45da-b4ce-6e08a9a3e34a"
      },
      "source": [
        "Partially based on [2101.08176]"
      ]
    },
    {
      "cell_type": "markdown",
      "id": "8d49bfc3-5409-460d-b8fe-06a419efe876",
      "metadata": {
        "id": "8d49bfc3-5409-460d-b8fe-06a419efe876"
      },
      "source": [
        "# Prior distribution"
      ]
    },
    {
      "cell_type": "code",
      "execution_count": null,
      "id": "2bb30849-5735-4a58-9cd5-d7e747c5f32b",
      "metadata": {
        "id": "2bb30849-5735-4a58-9cd5-d7e747c5f32b"
      },
      "outputs": [],
      "source": [
        "class SimpleNormal:\n",
        "  def __init__(self, loc, var):\n",
        "    self.dist = torch.distributions.normal.Normal(\n",
        "      torch.flatten(loc), torch.flatten(var))\n",
        "    self.shape = loc.shape\n",
        "  def log_prob(self, x):\n",
        "    logp = self.dist.log_prob(x.reshape(x.shape[0], -1))\n",
        "    return torch.sum(logp, dim=1)\n",
        "  def sample_n(self, batch_size):\n",
        "    x = self.dist.sample((batch_size,))\n",
        "    return x.reshape(batch_size, *self.shape)"
      ]
    },
    {
      "cell_type": "markdown",
      "id": "e0000938-f247-431e-a011-3cd4f33bf157",
      "metadata": {
        "id": "e0000938-f247-431e-a011-3cd4f33bf157"
      },
      "source": [
        "# Theory action"
      ]
    },
    {
      "cell_type": "code",
      "execution_count": null,
      "id": "5ef1f4c6-9780-40a9-b57b-58a0823e6f05",
      "metadata": {
        "id": "5ef1f4c6-9780-40a9-b57b-58a0823e6f05"
      },
      "outputs": [],
      "source": [
        "class ScalarPhi4Action:\n",
        "  def __init__(self, M2, lam):\n",
        "    self.M2 = M2\n",
        "    self.lam = lam\n",
        "  def __call__(self, cfgs):\n",
        "    # potential term\n",
        "    action_density = self.M2*cfgs**2 + self.lam*cfgs**4\n",
        "    # kinetic term (discrete Laplacian)\n",
        "    Nd = len(cfgs.shape)-1\n",
        "    dims = range(1,Nd+1)\n",
        "    for mu in dims:\n",
        "      action_density += 2*cfgs**2\n",
        "      action_density -= cfgs*torch.roll(cfgs, -1, mu)\n",
        "      action_density -= cfgs*torch.roll(cfgs, 1, mu)\n",
        "    return torch.sum(action_density, dim=tuple(dims))"
      ]
    },
    {
      "cell_type": "markdown",
      "id": "1c90ab4d-ff5f-4e70-a990-bcd87a598817",
      "metadata": {
        "id": "1c90ab4d-ff5f-4e70-a990-bcd87a598817"
      },
      "source": [
        "# Network architecture"
      ]
    },
    {
      "cell_type": "code",
      "execution_count": null,
      "id": "bdc9b5dc-4b69-49c0-8485-8d97ed766dcb",
      "metadata": {
        "id": "bdc9b5dc-4b69-49c0-8485-8d97ed766dcb"
      },
      "outputs": [],
      "source": [
        "from torch import nn\n",
        "\n",
        "\n",
        "def linear_kernel(val, pos, width):\n",
        "  val = 1 - torch.abs(val - pos) / width\n",
        "  return torch.maximum(val, torch.tensor(0.))\n",
        "\n",
        "\n",
        "class CNF(nn.Module):\n",
        "  def __init__(self, lattice_size=5, n_freq=10, n_time=5):\n",
        "    super().__init__()\n",
        "\n",
        "    self.shape = (lattice_size, lattice_size)\n",
        "    \n",
        "    assert lattice_size % 2 == 1, 'lattice size must be odd for padding to work.'\n",
        "    self.conv = nn.Conv2d(n_freq, n_time, lattice_size, padding_mode='circular', padding=lattice_size//2)\n",
        "    self.conv.weight = torch.nn.Parameter(torch.zeros_like(self.conv.weight))\n",
        "\n",
        "    self.register_parameter(name='freq', param=torch.nn.Parameter(5 * torch.randn(n_freq)))\n",
        "    \n",
        "    self.pos = torch.linspace(0, 1, n_time)\n",
        "    self.width = 1 / (n_time - 1)\n",
        "    \n",
        "    self.prior = SimpleNormal(torch.zeros(*self.shape), torch.tensor(1.))\n",
        "      \n",
        "\n",
        "  def forward(self, t, phi_logp):\n",
        "    phi, logp = phi_logp\n",
        "    freq = self.get_parameter('freq').reshape(1, -1, 1, 1)\n",
        "    freq_features = torch.sin(phi.reshape(-1, 1, *self.shape) * freq)\n",
        "    time_features = self.conv(freq_features)\n",
        "    time_kernel = linear_kernel(t, self.pos, self.width)\n",
        "    grad = torch.einsum('bt...,t->b...', time_features, time_kernel)\n",
        "    \n",
        "    weight_0 = self.conv.weight[:, :, self.shape[0]//2, self.shape[1]//2]\n",
        "    freq_features_grad = freq * torch.cos(phi.reshape(-1, 1, *self.shape) * freq)\n",
        "    grad_logp = - torch.einsum('tf,bfxy,t->b', weight_0, freq_features_grad, time_kernel)\n",
        "    return grad, grad_logp\n",
        "  \n",
        "  \n",
        "  def sample(self, batch_size):\n",
        "    x = self.prior.sample_n(batch_size)\n",
        "    logp = self.prior.log_prob(x)\n",
        "    (_, phi), (_, logp) = odeint(self, (x, logp), torch.tensor([0., 1.]), method='rk4', options=dict(step_size=1/30))\n",
        "    return phi, logp"
      ]
    },
    {
      "cell_type": "markdown",
      "id": "474ed882-5db3-4b47-ae3e-14cdffc7602b",
      "metadata": {
        "tags": [],
        "id": "474ed882-5db3-4b47-ae3e-14cdffc7602b"
      },
      "source": [
        "# Plotting during training"
      ]
    },
    {
      "cell_type": "code",
      "execution_count": null,
      "id": "15910dca-29d8-4d0a-8f7d-cde97aa6c9bc",
      "metadata": {
        "id": "15910dca-29d8-4d0a-8f7d-cde97aa6c9bc"
      },
      "outputs": [],
      "source": [
        "from IPython.display import display\n",
        "\n",
        "def init_live_plot(dpi=125, figsize=(8,4)):\n",
        "  fig, ax_ess = plt.subplots(1,1, dpi=dpi, figsize=figsize)\n",
        "  plt.xlim(0, N_era*N_epoch)\n",
        "  plt.ylim(0, 1)\n",
        "  \n",
        "  ess_line = plt.plot([0],[0], alpha=0.5) # dummy\n",
        "  plt.grid(False)\n",
        "  plt.ylabel('ESS')\n",
        "  \n",
        "  ax_loss = ax_ess.twinx()\n",
        "  loss_line = plt.plot([0],[0], alpha=0.5, c='orange') # dummy\n",
        "  plt.grid(False)\n",
        "  plt.ylabel('Loss')\n",
        "  \n",
        "  plt.xlabel('Epoch')\n",
        "\n",
        "  display_id = display(fig, display_id=True)\n",
        "\n",
        "  return dict(\n",
        "    fig=fig, ax_ess=ax_ess, ax_loss=ax_loss,\n",
        "    ess_line=ess_line, loss_line=loss_line,\n",
        "    display_id=display_id\n",
        "  )\n",
        "\n",
        "def moving_average(x, window=10):\n",
        "  if len(x) < window:\n",
        "    return np.mean(x, keepdims=True)\n",
        "  else:\n",
        "    return np.convolve(x, np.ones(window), 'valid') / window\n",
        "\n",
        "def update_plots(history, fig, ax_ess, ax_loss, ess_line, loss_line, display_id):\n",
        "  Y = np.array(history['ess'])\n",
        "  Y = moving_average(Y, window=15)\n",
        "  ess_line[0].set_ydata(Y)\n",
        "  ess_line[0].set_xdata(np.arange(len(Y)))\n",
        "  Y = history['loss']\n",
        "  Y = moving_average(Y, window=15)\n",
        "  loss_line[0].set_ydata(np.array(Y))\n",
        "  loss_line[0].set_xdata(np.arange(len(Y)))\n",
        "  ax_loss.relim()\n",
        "  ax_loss.autoscale_view()\n",
        "  fig.canvas.draw()\n",
        "  display_id.update(fig)"
      ]
    },
    {
      "cell_type": "markdown",
      "id": "7789872b-a25f-48ff-8467-4e971373c3cd",
      "metadata": {
        "id": "7789872b-a25f-48ff-8467-4e971373c3cd"
      },
      "source": [
        "# Training "
      ]
    },
    {
      "cell_type": "markdown",
      "id": "ebe17958-b58a-40f9-a9d0-dc68f9f73c73",
      "metadata": {
        "id": "ebe17958-b58a-40f9-a9d0-dc68f9f73c73"
      },
      "source": [
        "## setup"
      ]
    },
    {
      "cell_type": "code",
      "execution_count": null,
      "id": "fdac2e5b-f862-4b01-919d-d9a4e6a8ad18",
      "metadata": {
        "id": "fdac2e5b-f862-4b01-919d-d9a4e6a8ad18"
      },
      "outputs": [],
      "source": [
        "L = 5\n",
        "action = ScalarPhi4Action(-4, 8.0)\n",
        "model = CNF(L, 5, 10)\n",
        "optimizer = torch.optim.Adam(model.parameters(), lr=1e-2, betas=(.85, .9))"
      ]
    },
    {
      "cell_type": "markdown",
      "id": "b7da3b4c-e7f5-423b-8d8d-e490734edc52",
      "metadata": {
        "id": "b7da3b4c-e7f5-423b-8d8d-e490734edc52"
      },
      "source": [
        "## loss & training step"
      ]
    },
    {
      "cell_type": "code",
      "execution_count": null,
      "id": "015bd634-49ce-471e-b2a2-104936f19f0b",
      "metadata": {
        "id": "015bd634-49ce-471e-b2a2-104936f19f0b"
      },
      "outputs": [],
      "source": [
        "def calc_dkl(logp, logq):\n",
        "  return (logq - logp).mean()"
      ]
    },
    {
      "cell_type": "code",
      "execution_count": null,
      "id": "e466071a-1cdc-49b5-9623-36e1b7968ecf",
      "metadata": {
        "id": "e466071a-1cdc-49b5-9623-36e1b7968ecf"
      },
      "outputs": [],
      "source": [
        "def train_step(model, optimizer, metrics):\n",
        "  optimizer.zero_grad()\n",
        "\n",
        "  x, logq = model.sample(batch_size)\n",
        "  logp = -action(x)\n",
        "  loss = calc_dkl(logp, logq)\n",
        "  loss.backward()\n",
        "\n",
        "  optimizer.step()\n",
        "\n",
        "  metrics['loss'].append(loss.detach().cpu().numpy())\n",
        "  metrics['ess'].append(compute_ess(logp, logq).detach().cpu().numpy())"
      ]
    },
    {
      "cell_type": "code",
      "execution_count": null,
      "id": "dc1b45b1-f0ae-4750-b1e4-116bbdb159a8",
      "metadata": {
        "id": "dc1b45b1-f0ae-4750-b1e4-116bbdb159a8"
      },
      "outputs": [],
      "source": [
        "def compute_ess(logp, logq):\n",
        "  logw = logp - logq\n",
        "  log_ess = 2*torch.logsumexp(logw, dim=0) - torch.logsumexp(2*logw, dim=0)\n",
        "  ess_per_cfg = torch.exp(log_ess) / len(logw)\n",
        "  return ess_per_cfg"
      ]
    },
    {
      "cell_type": "markdown",
      "id": "8533bd92-b235-4fda-b3dc-c858f94fe11c",
      "metadata": {
        "id": "8533bd92-b235-4fda-b3dc-c858f94fe11c"
      },
      "source": [
        "## run training"
      ]
    },
    {
      "cell_type": "code",
      "execution_count": null,
      "id": "6526474f-d6d1-4a02-8a60-8986ff4580b4",
      "metadata": {
        "colab": {
          "base_uri": "https://localhost:8080/",
          "height": 456
        },
        "id": "6526474f-d6d1-4a02-8a60-8986ff4580b4",
        "outputId": "181c38c6-c0af-4967-d8c5-3c64f1a26cbd"
      },
      "outputs": [
        {
          "output_type": "display_data",
          "data": {
            "text/plain": [
              "<Figure size 1000x500 with 2 Axes>"
            ],
            "image/png": "[encoded data removed]"
          },
          "metadata": {}
        }
      ],
      "source": [
        "N_era = 4\n",
        "N_epoch = 100\n",
        "batch_size = 64\n",
        "plot_freq = 10\n",
        "\n",
        "history = {\n",
        "  'loss' : [],\n",
        "  'ess' : []\n",
        "}\n",
        "\n",
        "[plt.close(plt.figure(fignum)) for fignum in plt.get_fignums()] # close all existing figures\n",
        "live_plot = init_live_plot()\n",
        "\n",
        "for era in range(N_era):\n",
        "  for epoch in range(N_epoch):\n",
        "    train_step(model, optimizer, history)\n",
        "\n",
        "    if epoch % plot_freq == 0:\n",
        "      update_plots(history, **live_plot)\n",
        "\n",
        "plt.close('all')"
      ]
    },
    {
      "cell_type": "markdown",
      "id": "fca121d5-60d7-4396-b487-88857b247d18",
      "metadata": {
        "id": "fca121d5-60d7-4396-b487-88857b247d18"
      },
      "source": [
        "## look at examples"
      ]
    },
    {
      "cell_type": "code",
      "execution_count": null,
      "id": "5bacdd58-865f-4a87-be2f-147d1170adad",
      "metadata": {
        "colab": {
          "base_uri": "https://localhost:8080/",
          "height": 242
        },
        "id": "5bacdd58-865f-4a87-be2f-147d1170adad",
        "outputId": "e693a520-aea4-4caa-9470-0d961929c472"
      },
      "outputs": [
        {
          "output_type": "display_data",
          "data": {
            "text/plain": [
              "<Figure size 1152x288 with 4 Axes>"
            ],
            "image/png": "[encoded data removed]"
          },
          "metadata": {
            "needs_background": "light"
          }
        }
      ],
      "source": [
        "plt.figure(figsize=(16, 4))\n",
        "\n",
        "phis, _ = model.sample(4)\n",
        "for i in range(4):\n",
        "  plt.subplot(141 + i)\n",
        "  plt.imshow(phis[i].cpu().detach().numpy())"
      ]
    },
    {
      "cell_type": "code",
      "execution_count": null,
      "id": "4714f3dc-5237-4db6-95c4-a0a22d6537e0",
      "metadata": {
        "id": "4714f3dc-5237-4db6-95c4-a0a22d6537e0"
      },
      "outputs": [],
      "source": [
        ""
      ]
    }
  ],
  "metadata": {
    "kernelspec": {
      "display_name": "Python 3",
      "name": "python3"
    },
    "language_info": {
      "name": "python"
    },
    "colab": {
      "name": "qft-flow.ipynb",
      "provenance": [],
      "collapsed_sections": [],
      "include_colab_link": true
    },
    "accelerator": "GPU",
    "gpuClass": "standard"
  },
  "nbformat": 4,
  "nbformat_minor": 5
}