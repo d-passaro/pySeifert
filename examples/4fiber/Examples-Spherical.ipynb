{
 "cells": [
  {
   "cell_type": "code",
   "execution_count": null,
   "id": "aaeb5e09",
   "metadata": {
    "vscode": {
     "languageId": "python"
    }
   },
   "outputs": [],
   "source": []
  },
  {
   "cell_type": "markdown",
   "id": "7874aa55",
   "metadata": {},
   "source": [
    "# 4-Manifolds and Log VOA\n",
    "## Example section companion notebook"
   ]
  },
  {
   "cell_type": "markdown",
   "id": "5b8f6283",
   "metadata": {},
   "source": [
    "Seifert manifolds with four singular fibers can be related to characters of $\\mathcal V(p,p')$ VOAs. Theorem 4.7 provides a detailed description of this relation for spherical Seifert manifolds. In this example notebook, we replicate the computations done in writing the first paragraph of section 6.2 of arXiv:2201.04640, while at the same time demonstrating the capabilities and main functions of pySeifert: a Sage toolkit for the computation of $\\hat{Z}$ invariants for Seifert manifolds and related q-series invariants."
   ]
  },
  {
   "cell_type": "markdown",
   "id": "d7ef7c00",
   "metadata": {},
   "source": [
    "We start by loading pySeifert and defining a Seifert manifold"
   ]
  },
  {
   "cell_type": "code",
   "execution_count": 1,
   "id": "2f3a07e5",
   "metadata": {
    "vscode": {
     "languageId": "python"
    }
   },
   "outputs": [
    {
     "data": {
      "text/plain": [
       "Seifert manifold with 4 exceptional fibers.\n",
       "Seifert data:\n",
       "[-2, 1, 2, 2, 3, 2, 5, 3, 7]\n",
       "Plumbing Matrix:\n",
       "[-2  1  1  0  1  0  1  0  0]\n",
       "[ 1 -2  0  0  0  0  0  0  0]\n",
       "[ 1  0 -2  1  0  0  0  0  0]\n",
       "[ 0  0  1 -2  0  0  0  0  0]\n",
       "[ 1  0  0  0 -3  1  0  0  0]\n",
       "[ 0  0  0  0  1 -2  0  0  0]\n",
       "[ 1  0  0  0  0  0 -3  1  0]\n",
       "[ 0  0  0  0  0  0  1 -2  1]\n",
       "[ 0  0  0  0  0  0  0  1 -2]\n",
       "D: 1, m: 210, det(M): -1"
      ]
     },
     "execution_count": 1,
     "metadata": {},
     "output_type": "execute_result"
    }
   ],
   "source": [
    "load(\"../../pySeifert.sage\")\n",
    "S = Seifert([-2, 1, 2, 2, 3, 2, 5, 3, 7]);S"
   ]
  },
  {
   "cell_type": "markdown",
   "id": "5a94db10",
   "metadata": {},
   "source": [
    "The plumbing matrix is unitary therefore $S$ is a spherical manifold and the lattice dilation factor $D$ is one.\n",
    "Becuase $S$ is spherical we expect to see only trivial boundary conditions."
   ]
  },
  {
   "cell_type": "code",
   "execution_count": 2,
   "id": "f4a8f316",
   "metadata": {
    "vscode": {
     "languageId": "python"
    }
   },
   "outputs": [
    {
     "data": {
      "text/plain": [
       "[[(-1), (1/2), (0), (1/2), (0), (1/2), (0), (0), (1/2)]]"
      ]
     },
     "execution_count": 2,
     "metadata": {},
     "output_type": "execute_result"
    }
   ],
   "source": [
    "B = S.boundary_conditions([\"A\",1],basis=\"root\"); B"
   ]
  },
  {
   "cell_type": "markdown",
   "id": "c8f3c79b",
   "metadata": {},
   "source": [
    "Pairs $p$ and $p'$ should be chosen such that $pp'=m$ and $p=p_i$ from the Seifert data. In this case $m=210$, so the possible pairs of $p$, $p'$ are,:"
   ]
  },
  {
   "cell_type": "code",
   "execution_count": 4,
   "id": "1be8c6b4",
   "metadata": {
    "vscode": {
     "languageId": "python"
    }
   },
   "outputs": [
    {
     "data": {
      "text/plain": [
       "[[2, 105], [3, 70], [5, 42], [7, 30]]"
      ]
     },
     "execution_count": 4,
     "metadata": {},
     "output_type": "execute_result"
    }
   ],
   "source": [
    "p_pp_l = list()\n",
    "for p in S.p:\n",
    "    p_pp_l.append([p,S.m/p])\n",
    "p_pp_l"
   ]
  },
  {
   "cell_type": "markdown",
   "id": "8b571532",
   "metadata": {},
   "source": [
    "To compare the $\\hat Z$ integrand to the triplet characters it is useful to list all possible $\\hat w$ along with their lengths."
   ]
  },
  {
   "cell_type": "code",
   "execution_count": 6,
   "id": "86393418",
   "metadata": {
    "vscode": {
     "languageId": "python"
    }
   },
   "outputs": [],
   "source": [
    "WG = weyl_group([\"A\",1])\n",
    "WL = [det(g) for g in WG]\n",
    "wh_l = list(itertools.product(*[WG if d == 1 else [matrix(1)] for d in S.deg]))\n",
    "wl_l = list(itertools.product(*[WL if d == 1 else [1] for d in S.deg]))"
   ]
  },
  {
   "cell_type": "markdown",
   "id": "37c5fda6",
   "metadata": {},
   "source": [
    "For each choice of $p,p'$ we can compute the linear combination of $\\log-\\mathcal{V}(p,p')$ characters (as in equation 4.54) and compare to the $\\hat{Z}$ invariant"
   ]
  },
  {
   "cell_type": "code",
   "execution_count": 13,
   "id": "e5155612",
   "metadata": {
    "vscode": {
     "languageId": "python"
    }
   },
   "outputs": [
    {
     "name": "stdout",
     "output_type": "stream",
     "text": [
      "p: 2\n",
      "p': 105\n",
      "Ẑ integrand:\n",
      " -2*q^(317/4)*z^2/(z^2 + 1/z^2 - 2) + 4*q^(317/4)/(z^2 + 1/z^2 - 2) - 2*q^(317/4)/((z^2 + 1/z^2 - 2)*z^2) - 2*q^(261/4)*z^2/(z^2 + 1/z^2 - 2) + 4*q^(261/4)/(z^2 + 1/z^2 - 2) - 2*q^(261/4)/((z^2 + 1/z^2 - 2)*z^2) + 2*q^(145/4)*z^2/(z^2 + 1/z^2 - 2) - 4*q^(145/4)/(z^2 + 1/z^2 - 2) + 2*q^(145/4)/((z^2 + 1/z^2 - 2)*z^2)\n",
      "Triplet character:\n",
      " -2*(z^2 + 1/z^2 - 2)*q^(66049/840)/(z - 1/z)^2 - 2*(z^2 + 1/z^2 - 2)*q^(54289/840)/(z - 1/z)^2 + 2*(z^2 + 1/z^2 - 2)*q^(29929/840)/(z - 1/z)^2\n",
      "Ẑ integrand - q^delta * triplet character: 0\n"
     ]
    }
   ],
   "source": [
    "n = 0\n",
    "p = S.p[n]\n",
    "pp = S.m/p\n",
    "r = 1\n",
    "Chp = 0\n",
    "Trip = 0\n",
    "expMax = 100\n",
    "delta = S.delta([\"A\",1])\n",
    "s_list = list()\n",
    "for wh,l in zip(wh_l,wl_l):\n",
    "    l_red = [li for li,d in zip(l,S.deg) if d == 1]\n",
    "    Chp += product(l_red)*S.chi_prime_4f_sph(wh,expMax,basis=\"root\")\n",
    "    if l_red[n] == 1:\n",
    "        s = abs(pp*(sum([li*sgn(qi)/pi for pi,qi,li in zip(S.p,S.q,l_red) if pi != p])))\n",
    "        epss = sign(S.q[n]*sum([li*sgn(qi)/pi for pi,qi,li in zip(S.p,S.q,l_red) if pi != p]))\n",
    "        s_list.append(abs(s))\n",
    "        Trip += product(l_red)*epss*triplet_character_p_pprime(p,pp,s,r,expMax-delta)\n",
    "print(f\"p: {p}\")\n",
    "print(f\"p': {pp}\")\n",
    "print(f\"Ẑ integrand:\\n {Chp}\")\n",
    "print(f\"Triplet character:\\n {Trip}\")\n",
    "print(f\"Ẑ integrand - q^delta * triplet character: {expand(Chp-q^delta*Trip)}\")"
   ]
  },
  {
   "cell_type": "code",
   "execution_count": 12,
   "id": "62ae34c8",
   "metadata": {
    "vscode": {
     "languageId": "python"
    }
   },
   "outputs": [
    {
     "name": "stdout",
     "output_type": "stream",
     "text": [
      "p: 3\n",
      "p': 70\n",
      "Ẑ integrand:\n",
      " -2*q^(317/4)*z^2/(z^2 + 1/z^2 - 2) + 4*q^(317/4)/(z^2 + 1/z^2 - 2) - 2*q^(317/4)/((z^2 + 1/z^2 - 2)*z^2) - 2*q^(261/4)*z^2/(z^2 + 1/z^2 - 2) + 4*q^(261/4)/(z^2 + 1/z^2 - 2) - 2*q^(261/4)/((z^2 + 1/z^2 - 2)*z^2) + 2*q^(145/4)*z^2/(z^2 + 1/z^2 - 2) - 4*q^(145/4)/(z^2 + 1/z^2 - 2) + 2*q^(145/4)/((z^2 + 1/z^2 - 2)*z^2)\n",
      "Triplet character:\n",
      " -2*(z^2 + 1/z^2 - 2)*q^(66049/840)/(z - 1/z)^2 - 2*(z^2 + 1/z^2 - 2)*q^(54289/840)/(z - 1/z)^2 + 2*(z^2 + 1/z^2 - 2)*q^(29929/840)/(z - 1/z)^2\n",
      "Ẑ integrand - q^delta * triplet character: 0\n"
     ]
    }
   ],
   "source": [
    "n = 1\n",
    "p = S.p[n]\n",
    "pp = S.m/p\n",
    "r = 1\n",
    "Chp = 0\n",
    "Trip = 0\n",
    "expMax = 100\n",
    "delta = S.delta([\"A\",1])\n",
    "s_list = list()\n",
    "for wh,l in zip(wh_l,wl_l):\n",
    "    l_red = [li for li,d in zip(l,S.deg) if d == 1]\n",
    "    Chp += product(l_red)*S.chi_prime_4f_sph(wh,expMax,basis=\"root\")\n",
    "    if l_red[n] == 1:\n",
    "        s = abs(pp*(sum([li*sgn(qi)/pi for pi,qi,li in zip(S.p,S.q,l_red) if pi != p])))\n",
    "        epss = sign(S.q[n]*sum([li*sgn(qi)/pi for pi,qi,li in zip(S.p,S.q,l_red) if pi != p]))\n",
    "        s_list.append(abs(s))\n",
    "        Trip += product(l_red)*epss*triplet_character_p_pprime(p,pp,s,r,expMax-delta)\n",
    "print(f\"p: {p}\")\n",
    "print(f\"p': {pp}\")\n",
    "print(f\"Ẑ integrand:\\n {Chp}\")\n",
    "print(f\"Triplet character:\\n {Trip}\")\n",
    "print(f\"Ẑ integrand - q^delta * triplet character: {expand(Chp-q^delta*Trip)}\")"
   ]
  },
  {
   "cell_type": "code",
   "execution_count": 14,
   "id": "4247bec9",
   "metadata": {
    "vscode": {
     "languageId": "python"
    }
   },
   "outputs": [
    {
     "name": "stdout",
     "output_type": "stream",
     "text": [
      "p: 5\n",
      "p': 42\n",
      "Ẑ integrand:\n",
      " -2*q^(317/4)*z^2/(z^2 + 1/z^2 - 2) + 4*q^(317/4)/(z^2 + 1/z^2 - 2) - 2*q^(317/4)/((z^2 + 1/z^2 - 2)*z^2) - 2*q^(261/4)*z^2/(z^2 + 1/z^2 - 2) + 4*q^(261/4)/(z^2 + 1/z^2 - 2) - 2*q^(261/4)/((z^2 + 1/z^2 - 2)*z^2) + 2*q^(145/4)*z^2/(z^2 + 1/z^2 - 2) - 4*q^(145/4)/(z^2 + 1/z^2 - 2) + 2*q^(145/4)/((z^2 + 1/z^2 - 2)*z^2)\n",
      "Triplet character:\n",
      " -2*(z^2 + 1/z^2 - 2)*q^(66049/840)/(z - 1/z)^2 - 2*(z^2 + 1/z^2 - 2)*q^(54289/840)/(z - 1/z)^2 + 2*(z^2 + 1/z^2 - 2)*q^(29929/840)/(z - 1/z)^2\n",
      "Ẑ integrand - q^delta * triplet character: 0\n"
     ]
    }
   ],
   "source": [
    "n = 2\n",
    "p = S.p[n]\n",
    "pp = S.m/p\n",
    "r = 1\n",
    "Chp = 0\n",
    "Trip = 0\n",
    "expMax = 100\n",
    "delta = S.delta([\"A\",1])\n",
    "s_list = list()\n",
    "for wh,l in zip(wh_l,wl_l):\n",
    "    l_red = [li for li,d in zip(l,S.deg) if d == 1]\n",
    "    Chp += product(l_red)*S.chi_prime_4f_sph(wh,expMax,basis=\"root\")\n",
    "    if l_red[n] == 1:\n",
    "        s = abs(pp*(sum([li*sgn(qi)/pi for pi,qi,li in zip(S.p,S.q,l_red) if pi != p])))\n",
    "        epss = sign(S.q[n]*sum([li*sgn(qi)/pi for pi,qi,li in zip(S.p,S.q,l_red) if pi != p]))\n",
    "        s_list.append(abs(s))\n",
    "        Trip += product(l_red)*epss*triplet_character_p_pprime(p,pp,s,r,expMax-delta)\n",
    "print(f\"p: {p}\")\n",
    "print(f\"p': {pp}\")\n",
    "print(f\"Ẑ integrand:\\n {Chp}\")\n",
    "print(f\"Triplet character:\\n {Trip}\")\n",
    "print(f\"Ẑ integrand - q^delta * triplet character: {expand(Chp-q^delta*Trip)}\")"
   ]
  },
  {
   "cell_type": "code",
   "execution_count": 15,
   "id": "a56c70d3",
   "metadata": {
    "vscode": {
     "languageId": "python"
    }
   },
   "outputs": [
    {
     "name": "stdout",
     "output_type": "stream",
     "text": [
      "p: 7\n",
      "p': 30\n",
      "Ẑ integrand:\n",
      " -2*q^(317/4)*z^2/(z^2 + 1/z^2 - 2) + 4*q^(317/4)/(z^2 + 1/z^2 - 2) - 2*q^(317/4)/((z^2 + 1/z^2 - 2)*z^2) - 2*q^(261/4)*z^2/(z^2 + 1/z^2 - 2) + 4*q^(261/4)/(z^2 + 1/z^2 - 2) - 2*q^(261/4)/((z^2 + 1/z^2 - 2)*z^2) + 2*q^(145/4)*z^2/(z^2 + 1/z^2 - 2) - 4*q^(145/4)/(z^2 + 1/z^2 - 2) + 2*q^(145/4)/((z^2 + 1/z^2 - 2)*z^2)\n",
      "Triplet character:\n",
      " -2*(z^2 + 1/z^2 - 2)*q^(66049/840)/(z - 1/z)^2 - 2*(z^2 + 1/z^2 - 2)*q^(54289/840)/(z - 1/z)^2 + 2*(z^2 + 1/z^2 - 2)*q^(29929/840)/(z - 1/z)^2\n",
      "Ẑ integrand - q^delta * triplet character: 0\n"
     ]
    }
   ],
   "source": [
    "n = 3\n",
    "p = S.p[n]\n",
    "pp = S.m/p\n",
    "r = 1\n",
    "Chp = 0\n",
    "Trip = 0\n",
    "expMax = 100\n",
    "delta = S.delta([\"A\",1])\n",
    "s_list = list()\n",
    "for wh,l in zip(wh_l,wl_l):\n",
    "    l_red = [li for li,d in zip(l,S.deg) if d == 1]\n",
    "    Chp += product(l_red)*S.chi_prime_4f_sph(wh,expMax,basis=\"root\")\n",
    "    if l_red[n] == 1:\n",
    "        s = abs(pp*(sum([li*sgn(qi)/pi for pi,qi,li in zip(S.p,S.q,l_red) if pi != p])))\n",
    "        epss = sign(S.q[n]*sum([li*sgn(qi)/pi for pi,qi,li in zip(S.p,S.q,l_red) if pi != p]))\n",
    "        s_list.append(abs(s))\n",
    "        Trip += product(l_red)*epss*triplet_character_p_pprime(p,pp,s,r,expMax-delta)\n",
    "print(f\"p: {p}\")\n",
    "print(f\"p': {pp}\")\n",
    "print(f\"Ẑ integrand:\\n {Chp}\")\n",
    "print(f\"Triplet character:\\n {Trip}\")\n",
    "print(f\"Ẑ integrand - q^delta * triplet character: {expand(Chp-q^delta*Trip)}\")"
   ]
  }
 ],
 "metadata": {
  "kernelspec": {
   "display_name": "SageMath 9.6",
   "language": "sage",
   "name": "sagemath"
  },
  "language_info": {
   "codemirror_mode": {
    "name": "ipython",
    "version": 3
   },
   "file_extension": ".py",
   "mimetype": "text/x-python",
   "name": "sage",
   "nbconvert_exporter": "python",
   "pygments_lexer": "ipython3",
   "version": "3.10.4"
  }
 },
 "nbformat": 4,
 "nbformat_minor": 5
}
