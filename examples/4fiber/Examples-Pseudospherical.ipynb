{
 "cells": [
  {
   "cell_type": "markdown",
   "id": "7874aa55",
   "metadata": {},
   "source": [
    "# 4-Manifolds and Log VOA\n",
    "## Example section companion notebook"
   ]
  },
  {
   "cell_type": "markdown",
   "id": "7f830926",
   "metadata": {},
   "source": [
    "Seifert manifolds with four singular fibers can be related to characters of $\\mathcal V(p,p')$ VOAs. Theorem 4.7 provides a detailed description of this relation for spherical Seifert manifolds however, the theorem may be applied to pseudospherical Seifert manifolds if special pairs of $\\hat{w}$ with non-empty $S_{\\hat{w},\\vec{\\underline{b}}}$ appear. In this example notebook, we replicate the computations done in writing the second paragraph of section 6.2 of arXiv:2201.04640, while at the same time demonstrating the capabilities and main functions of pySeifert: a Sage toolkit for the computation of $\\hat{Z}$ invariants for Seifert manifolds and related q-series invariants."
   ]
  },
  {
   "cell_type": "markdown",
   "id": "11dfcc84",
   "metadata": {},
   "source": [
    "We start by loading pySeifert and defining a Seifert manifold"
   ]
  },
  {
   "cell_type": "code",
   "execution_count": 1,
   "id": "2f3a07e5",
   "metadata": {
    "vscode": {
     "languageId": "python"
    }
   },
   "outputs": [
    {
     "data": {
      "text/plain": [
       "Seifert manifold with 4 exceptional fibers.\n",
       "Seifert data:\n",
       "[-1, -1, 2, 1, 3, 1, 3, 2, 3]\n",
       "Plumbing Matrix:\n",
       "[-1  1  1  1  1  0]\n",
       "[ 1  2  0  0  0  0]\n",
       "[ 1  0 -3  0  0  0]\n",
       "[ 1  0  0 -3  0  0]\n",
       "[ 1  0  0  0 -2  1]\n",
       "[ 0  0  0  0  1 -2]\n",
       "D: 1, m: 6, det(M): -9"
      ]
     },
     "execution_count": 1,
     "metadata": {},
     "output_type": "execute_result"
    }
   ],
   "source": [
    "load(\"../../pySeifert.sage\")\n",
    "S = Seifert([-1, -1, 2, 1, 3, 1, 3, 2, 3]);S"
   ]
  },
  {
   "cell_type": "markdown",
   "id": "5a94db10",
   "metadata": {},
   "source": [
    "The plumbing matrix of $S$ does not have unit determinant, but the lattice dilation factor $D$ is one. $S$ is therefore a pseudospherical Seifert manifold. To proceed we compute the set of boundary conditions $\\mathcal B$ set and the $\\vec s$ values for $A_1$."
   ]
  },
  {
   "cell_type": "code",
   "execution_count": 4,
   "id": "10641b64",
   "metadata": {
    "vscode": {
     "languageId": "python"
    }
   },
   "outputs": [
    {
     "data": {
      "text/plain": [
       "[[(-1), (1/2), (1/2), (1/2), (0), (1/2)],\n",
       " [(0), (1/2), (-1/2), (1/2), (-1), (1/2)],\n",
       " [(0), (1/2), (1/2), (-1/2), (-1), (1/2)],\n",
       " [(1), (1/2), (-3/2), (-3/2), (-1), (1/2)]]"
      ]
     },
     "execution_count": 4,
     "metadata": {},
     "output_type": "execute_result"
    }
   ],
   "source": [
    "B = S.boundary_conditions([\"A\",1], basis=\"root\");B"
   ]
  },
  {
   "cell_type": "markdown",
   "id": "c5d9f3a2",
   "metadata": {},
   "source": [
    "$S$ admits four independent boundary conditions, for each we can compute the $\\vec s$ values with non-empty $S_{\\hat{w},\\vec{\\underline{b}}}$. "
   ]
  },
  {
   "cell_type": "code",
   "execution_count": 5,
   "id": "8ee03a1d",
   "metadata": {
    "vscode": {
     "languageId": "python"
    }
   },
   "outputs": [
    {
     "data": {
      "text/plain": [
       "[[([0], [1], [-1], [-1], [0], [-1]), ([0], [-1], [-1], [-1], [0], [-1])],\n",
       " [],\n",
       " [],\n",
       " [([0], [1], [1], [1], [0], [-1]),\n",
       "  ([0], [1], [-1], [-1], [0], [1]),\n",
       "  ([0], [-1], [1], [1], [0], [-1]),\n",
       "  ([0], [-1], [-1], [-1], [0], [1])]]"
      ]
     },
     "execution_count": 5,
     "metadata": {},
     "output_type": "execute_result"
    }
   ],
   "source": [
    "WG = weyl_group([\"A\",1])\n",
    "WL = [det(g) for g in WG]\n",
    "wh_l = list(itertools.product(*[WG if d == 1 else [matrix(1)] for d in S.deg]))\n",
    "wl_l = list(itertools.product(*[WL if d == 1 else [1] for d in S.deg]))\n",
    "\n",
    "rho = weyl_vector([\"A\",1])\n",
    "wh_b_l = list()\n",
    "wl_b_l = list()\n",
    "for b in B:\n",
    "    wh_b_l.append(list())\n",
    "    wl_b_l.append(list())\n",
    "    for wh,wl in zip(wh_l,wl_l):\n",
    "        whr = [w*rho for w in wh]\n",
    "        if S.S_set([\"A\",1],whr,b,basis = \"root\") != []:\n",
    "            wh_b_l[-1].append(wh)\n",
    "            wl_b_l[-1].append(wl)\n",
    "wh_b_l            "
   ]
  },
  {
   "cell_type": "markdown",
   "id": "c673d060",
   "metadata": {},
   "source": [
    "Only two of the four boundary conditions have non-empty $S_{\\hat{w},\\vec{\\underline{b}}}$ sets. For these, we can identify pairs $\\hat{w},\\hat{w}'$ such that $\\hat{w}_{v_1}=-\\hat{w}'_{v_1}$ and $\\hat{w}_{v_i}=\\hat{w}'_{v_i},\\ i=2,3,4$ where $v_i$ are nodes of degree one. This pairing allows for the same arguments of Theorem 4.7 to be applied to this pseudospherical case, and, therefore, we can write the $\\hat{Z}$ invariant in terms of $\\mathcal{V}(p,p')$ characters.\n",
    "\n",
    "Because the pairing $\\hat{w}\\leftrightarrow \\hat{w}'$ exists only by choosing  $\\hat{w}_{v_1}=-\\hat{w}'_{v_1}$, the only choice of $p$ is $p=p_1=2$, $p'=m/p=3$. We can then compare the triplet characters to the $\\hat{Z}$ integrands. \n",
    "\n",
    "For the trivial boundary condition we get:"
   ]
  },
  {
   "cell_type": "code",
   "execution_count": 10,
   "id": "cab162d3",
   "metadata": {
    "vscode": {
     "languageId": "python"
    }
   },
   "outputs": [
    {
     "name": "stdout",
     "output_type": "stream",
     "text": [
      "p: 2\n",
      "p': 3\n",
      "Ẑ integrand:\n",
      " q^(1015/12)*z^8/(z^2 + 1/z^2 - 2) - q^(1015/12)*z^6/(z^2 + 1/z^2 - 2) - q^(1015/12)/((z^2 + 1/z^2 - 2)*z^6) + q^(1015/12)/((z^2 + 1/z^2 - 2)*z^8) - q^(763/12)*z^8/(z^2 + 1/z^2 - 2) + q^(763/12)*z^6/(z^2 + 1/z^2 - 2) + q^(763/12)/((z^2 + 1/z^2 - 2)*z^6) - q^(763/12)/((z^2 + 1/z^2 - 2)*z^8) + q^(547/12)*z^6/(z^2 + 1/z^2 - 2) - q^(547/12)*z^4/(z^2 + 1/z^2 - 2) - q^(547/12)/((z^2 + 1/z^2 - 2)*z^4) + q^(547/12)/((z^2 + 1/z^2 - 2)*z^6) - q^(367/12)*z^6/(z^2 + 1/z^2 - 2) + q^(367/12)*z^4/(z^2 + 1/z^2 - 2) + q^(367/12)/((z^2 + 1/z^2 - 2)*z^4) - q^(367/12)/((z^2 + 1/z^2 - 2)*z^6) + q^(223/12)*z^4/(z^2 + 1/z^2 - 2) - q^(223/12)*z^2/(z^2 + 1/z^2 - 2) - q^(223/12)/((z^2 + 1/z^2 - 2)*z^2) + q^(223/12)/((z^2 + 1/z^2 - 2)*z^4) - q^(115/12)*z^4/(z^2 + 1/z^2 - 2) + q^(115/12)*z^2/(z^2 + 1/z^2 - 2) + q^(115/12)/((z^2 + 1/z^2 - 2)*z^2) - q^(115/12)/((z^2 + 1/z^2 - 2)*z^4) + q^(43/12)*z^2/(z^2 + 1/z^2 - 2) - 2*q^(43/12)/(z^2 + 1/z^2 - 2) - q^(7/12)*z^2/(z^2 + 1/z^2 - 2) + q^(43/12)/((z^2 + 1/z^2 - 2)*z^2) + 2*q^(7/12)/(z^2 + 1/z^2 - 2) - q^(7/12)/((z^2 + 1/z^2 - 2)*z^2)\n",
      "Triplet character:\n",
      " (z^8 + 1/z^8 - 2)*q^(675/8)/(z - 1/z)^2 - (z^6 + 1/z^6 - 2)*q^(675/8)/(z - 1/z)^2 - (z^8 + 1/z^8 - 2)*q^(507/8)/(z - 1/z)^2 + (z^6 + 1/z^6 - 2)*q^(507/8)/(z - 1/z)^2 + (z^6 + 1/z^6 - 2)*q^(363/8)/(z - 1/z)^2 - (z^4 + 1/z^4 - 2)*q^(363/8)/(z - 1/z)^2 - (z^6 + 1/z^6 - 2)*q^(243/8)/(z - 1/z)^2 + (z^4 + 1/z^4 - 2)*q^(243/8)/(z - 1/z)^2 + (z^4 + 1/z^4 - 2)*q^(147/8)/(z - 1/z)^2 - (z^2 + 1/z^2 - 2)*q^(147/8)/(z - 1/z)^2 - (z^4 + 1/z^4 - 2)*q^(75/8)/(z - 1/z)^2 + (z^2 + 1/z^2 - 2)*q^(75/8)/(z - 1/z)^2 + (z^2 + 1/z^2 - 2)*q^(27/8)/(z - 1/z)^2 - (z^2 + 1/z^2 - 2)*q^(3/8)/(z - 1/z)^2\n",
      "Ẑ integrand - q^delta * triplet character: 0\n"
     ]
    }
   ],
   "source": [
    "n = 0\n",
    "p = S.p[n]\n",
    "pp = S.m/p\n",
    "r = 1\n",
    "Chp = 0\n",
    "Trip = 0\n",
    "expMax = 100\n",
    "delta = S.delta([\"A\",1])\n",
    "s_list = list()\n",
    "for wh,l in zip(wh_b_l[0],wl_b_l[0]):\n",
    "    l_red = [li for li,d in zip(l,S.deg) if d == 1]\n",
    "    Chp += product(l_red)*S.chi_prime_4f_sph(wh,expMax,basis=\"root\")\n",
    "    if l_red[n] == 1:\n",
    "        s = abs(pp*(sum([li*sgn(qi)/pi for pi,qi,li in zip(S.p,S.q,l_red) if pi != p])))\n",
    "        epss = sign(S.q[n]*sum([li*sgn(qi)/pi for pi,qi,li in zip(S.p,S.q,l_red) if pi != p]))\n",
    "        s_list.append(abs(s))\n",
    "        Trip += product(l_red)*epss*triplet_character_p_pprime(p,pp,s,r,expMax-delta)\n",
    "print(f\"p: {p}\")\n",
    "print(f\"p': {pp}\")\n",
    "print(f\"Ẑ integrand:\\n {Chp}\")\n",
    "print(f\"Triplet character:\\n {Trip}\")\n",
    "print(f\"Ẑ integrand - q^delta * triplet character: {expand(Chp-q^delta*Trip)}\")"
   ]
  },
  {
   "cell_type": "code",
   "execution_count": 11,
   "id": "ea78a490",
   "metadata": {
    "vscode": {
     "languageId": "python"
    }
   },
   "outputs": [
    {
     "name": "stdout",
     "output_type": "stream",
     "text": [
      "p: 2\n",
      "p': 3\n",
      "Ẑ integrand:\n",
      " -2*q^(369/4)*z^8/(z^2 + 1/z^2 - 2) + 4*q^(369/4)/(z^2 + 1/z^2 - 2) + 2*q^(309/4)*z^8/(z^2 + 1/z^2 - 2) - 2*q^(369/4)/((z^2 + 1/z^2 - 2)*z^8) - 4*q^(309/4)/(z^2 + 1/z^2 - 2) + 2*q^(281/4)*z^6/(z^2 + 1/z^2 - 2) - 4*q^(281/4)/(z^2 + 1/z^2 - 2) + 2*q^(309/4)/((z^2 + 1/z^2 - 2)*z^8) + 2*q^(281/4)/((z^2 + 1/z^2 - 2)*z^6) - 2*q^(229/4)*z^6/(z^2 + 1/z^2 - 2) + 4*q^(229/4)/(z^2 + 1/z^2 - 2) - 2*q^(205/4)*z^6/(z^2 + 1/z^2 - 2) + 4*q^(205/4)/(z^2 + 1/z^2 - 2) - 2*q^(229/4)/((z^2 + 1/z^2 - 2)*z^6) + 2*q^(161/4)*z^6/(z^2 + 1/z^2 - 2) - 2*q^(205/4)/((z^2 + 1/z^2 - 2)*z^6) - 4*q^(161/4)/(z^2 + 1/z^2 - 2) + 2*q^(141/4)*z^4/(z^2 + 1/z^2 - 2) - 4*q^(141/4)/(z^2 + 1/z^2 - 2) + 2*q^(161/4)/((z^2 + 1/z^2 - 2)*z^6) + 2*q^(141/4)/((z^2 + 1/z^2 - 2)*z^4) - 2*q^(105/4)*z^4/(z^2 + 1/z^2 - 2) + 4*q^(105/4)/(z^2 + 1/z^2 - 2) - 2*q^(89/4)*z^4/(z^2 + 1/z^2 - 2) + 4*q^(89/4)/(z^2 + 1/z^2 - 2) - 2*q^(105/4)/((z^2 + 1/z^2 - 2)*z^4) + 2*q^(61/4)*z^4/(z^2 + 1/z^2 - 2) - 2*q^(89/4)/((z^2 + 1/z^2 - 2)*z^4) - 4*q^(61/4)/(z^2 + 1/z^2 - 2) + 2*q^(49/4)*z^2/(z^2 + 1/z^2 - 2) - 4*q^(49/4)/(z^2 + 1/z^2 - 2) + 2*q^(61/4)/((z^2 + 1/z^2 - 2)*z^4) + 2*q^(49/4)/((z^2 + 1/z^2 - 2)*z^2) - 2*q^(29/4)*z^2/(z^2 + 1/z^2 - 2) + 4*q^(29/4)/(z^2 + 1/z^2 - 2) - 2*q^(21/4)*z^2/(z^2 + 1/z^2 - 2) + 4*q^(21/4)/(z^2 + 1/z^2 - 2) - 2*q^(29/4)/((z^2 + 1/z^2 - 2)*z^2) + 2*q^(9/4)*z^2/(z^2 + 1/z^2 - 2) - 2*q^(21/4)/((z^2 + 1/z^2 - 2)*z^2) - 4*q^(9/4)/(z^2 + 1/z^2 - 2) + 2*q^(9/4)/((z^2 + 1/z^2 - 2)*z^2)\n",
      "Triplet character:\n",
      " -2*(z^8 + 1/z^8 - 2)*q^(2209/24)/(z - 1/z)^2 + 2*(z^8 + 1/z^8 - 2)*q^(1849/24)/(z - 1/z)^2 + 2*(z^6 + 1/z^6 - 2)*q^(1681/24)/(z - 1/z)^2 - 2*(z^6 + 1/z^6 - 2)*q^(1369/24)/(z - 1/z)^2 - 2*(z^6 + 1/z^6 - 2)*q^(1225/24)/(z - 1/z)^2 + 2*(z^6 + 1/z^6 - 2)*q^(961/24)/(z - 1/z)^2 + 2*(z^4 + 1/z^4 - 2)*q^(841/24)/(z - 1/z)^2 - 2*(z^4 + 1/z^4 - 2)*q^(625/24)/(z - 1/z)^2 - 2*(z^4 + 1/z^4 - 2)*q^(529/24)/(z - 1/z)^2 + 2*(z^4 + 1/z^4 - 2)*q^(361/24)/(z - 1/z)^2 + 2*(z^2 + 1/z^2 - 2)*q^(289/24)/(z - 1/z)^2 - 2*(z^2 + 1/z^2 - 2)*q^(169/24)/(z - 1/z)^2 - 2*(z^2 + 1/z^2 - 2)*q^(121/24)/(z - 1/z)^2 + 2*(z^2 + 1/z^2 - 2)*q^(49/24)/(z - 1/z)^2\n",
      "Ẑ integrand - q^delta * triplet character: 0\n"
     ]
    }
   ],
   "source": [
    "n = 0\n",
    "p = S.p[n]\n",
    "pp = S.m/p\n",
    "r = 1\n",
    "Chp = 0\n",
    "Trip = 0\n",
    "expMax = 100\n",
    "delta = S.delta([\"A\",1])\n",
    "s_list = list()\n",
    "for wh,l in zip(wh_b_l[-1],wl_b_l[-1]):\n",
    "    l_red = [li for li,d in zip(l,S.deg) if d == 1]\n",
    "    Chp += product(l_red)*S.chi_prime_4f_sph(wh,expMax,basis=\"root\")\n",
    "    if l_red[n] == 1:\n",
    "        s = abs(pp*(sum([li*sgn(qi)/pi for pi,qi,li in zip(S.p,S.q,l_red) if pi != p])))\n",
    "        epss = sign(S.q[n]*sum([li*sgn(qi)/pi for pi,qi,li in zip(S.p,S.q,l_red) if pi != p]))\n",
    "        s_list.append(abs(s))\n",
    "        Trip += product(l_red)*epss*triplet_character_p_pprime(p,pp,s,r,expMax-delta)\n",
    "print(f\"p: {p}\")\n",
    "print(f\"p': {pp}\")\n",
    "print(f\"Ẑ integrand:\\n {Chp}\")\n",
    "print(f\"Triplet character:\\n {Trip}\")\n",
    "print(f\"Ẑ integrand - q^delta * triplet character: {expand(Chp-q^delta*Trip)}\")"
   ]
  },
  {
   "cell_type": "code",
   "execution_count": null,
   "id": "2aefb54b",
   "metadata": {
    "vscode": {
     "languageId": "python"
    }
   },
   "outputs": [],
   "source": []
  }
 ],
 "metadata": {
  "kernelspec": {
   "display_name": "SageMath 9.6",
   "language": "sage",
   "name": "sagemath"
  },
  "language_info": {
   "codemirror_mode": {
    "name": "ipython",
    "version": 3
   },
   "file_extension": ".py",
   "mimetype": "text/x-python",
   "name": "sage",
   "nbconvert_exporter": "python",
   "pygments_lexer": "ipython3",
   "version": "3.10.4"
  },
  "vscode": {
   "interpreter": {
    "hash": "d0a05f0c313e5e284696bfab0c425f2bd049a2b800b8197cf9fb2674d7ea8ce4"
   }
  }
 },
 "nbformat": 4,
 "nbformat_minor": 5
}
