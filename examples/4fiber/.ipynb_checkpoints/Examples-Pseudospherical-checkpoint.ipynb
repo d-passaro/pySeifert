{
 "cells": [
  {
   "cell_type": "markdown",
   "id": "7874aa55",
   "metadata": {},
   "source": [
    "# 4-Manifolds and Log VOA\n",
    "## Example section companion notebook"
   ]
  },
  {
   "cell_type": "code",
   "execution_count": 1,
   "id": "2f3a07e5",
   "metadata": {},
   "outputs": [],
   "source": [
    "# Load packages and pySeifert\n",
    "import numpy as np\n",
    "import itertools\n",
    "load(\"../../pySeifert.sage\")"
   ]
  },
  {
   "cell_type": "markdown",
   "id": "e9d2498a",
   "metadata": {},
   "source": [
    "After loading the Seifert class and other packages needed for the computation, we define the Seifert manifold."
   ]
  },
  {
   "cell_type": "code",
   "execution_count": 2,
   "id": "a6bd9c11",
   "metadata": {},
   "outputs": [
    {
     "data": {
      "text/plain": [
       "Seifert manifold with 4 exceptional fibers.\n",
       "Seifert data:\n",
       "[-1, -1, 2, 1, 3, 1, 3, 2, 3]\n",
       "Plumbing Matrix:\n",
       "[-1  1  1  1  1  0]\n",
       "[ 1  2  0  0  0  0]\n",
       "[ 1  0 -3  0  0  0]\n",
       "[ 1  0  0 -3  0  0]\n",
       "[ 1  0  0  0 -2  1]\n",
       "[ 0  0  0  0  1 -2]\n",
       "D: 1, m: 6, det(M): -9"
      ]
     },
     "execution_count": 2,
     "metadata": {},
     "output_type": "execute_result"
    }
   ],
   "source": [
    "S = Seifert([-1, -1, 2, 1, 3, 1, 3, 2, 3]);S"
   ]
  },
  {
   "cell_type": "markdown",
   "id": "5a94db10",
   "metadata": {},
   "source": [
    "$S$ is a spherical manifold therefore the plumbing matrix is unitary and we have $D=1$.\n",
    "We can proceed by computing the $\\mathcal B$ set and the $\\vec s$ values for $A_2$."
   ]
  },
  {
   "cell_type": "code",
   "execution_count": 3,
   "id": "406e97ca",
   "metadata": {},
   "outputs": [
    {
     "data": {
      "text/plain": [
       "5/6"
      ]
     },
     "execution_count": 3,
     "metadata": {},
     "output_type": "execute_result"
    }
   ],
   "source": [
    "S.delta([\"A\",2])"
   ]
  },
  {
   "cell_type": "code",
   "execution_count": 6,
   "id": "d747fd55",
   "metadata": {},
   "outputs": [
    {
     "data": {
      "text/plain": [
       "[   -6     3    -2    -2    -4    -2]\n",
       "[    3    -1     1     1     2     1]\n",
       "[   -2     1    -1  -2/3  -4/3  -2/3]\n",
       "[   -2     1  -2/3    -1  -4/3  -2/3]\n",
       "[   -4     2  -4/3  -4/3 -10/3  -5/3]\n",
       "[   -2     1  -2/3  -2/3  -5/3  -4/3]"
      ]
     },
     "execution_count": 6,
     "metadata": {},
     "output_type": "execute_result"
    }
   ],
   "source": []
  },
  {
   "cell_type": "code",
   "execution_count": 4,
   "id": "f4a8f316",
   "metadata": {},
   "outputs": [
    {
     "name": "stderr",
     "output_type": "stream",
     "text": [
      "<string>:792: UserWarning: No basis is specified, weight is assumed\n"
     ]
    },
    {
     "data": {
      "text/plain": [
       "[[(-2), (1), (1), (1), (0), (1)],\n",
       " [(0), (1), (-1), (1), (-2), (1)],\n",
       " [(0), (1), (1), (-1), (-2), (1)],\n",
       " [(2), (1), (-3), (-3), (-2), (1)]]"
      ]
     },
     "execution_count": 4,
     "metadata": {},
     "output_type": "execute_result"
    }
   ],
   "source": [
    "B = S.boundary_conditions([\"A\",1]); B"
   ]
  },
  {
   "cell_type": "markdown",
   "id": "3a9779b5",
   "metadata": {},
   "source": [
    "$\\mathcal B$ only contains the trivial $\\vec{\\underline{b}}_0$. This is expected because $S$ is a Brieskorn sphere."
   ]
  },
  {
   "cell_type": "markdown",
   "id": "c8f3c79b",
   "metadata": {},
   "source": [
    "We can look al all possible pairs of $p$, $p'$."
   ]
  },
  {
   "cell_type": "code",
   "execution_count": 6,
   "id": "1be8c6b4",
   "metadata": {},
   "outputs": [
    {
     "data": {
      "text/plain": [
       "[[2, 3], [3, 2], [3, 2], [3, 2]]"
      ]
     },
     "execution_count": 6,
     "metadata": {},
     "output_type": "execute_result"
    }
   ],
   "source": [
    "p_l = [2,3,3,3]\n",
    "q_l = [-1,1,1,2]\n",
    "p_pp_l = list()\n",
    "for p in p_l:\n",
    "    p_pp_l.append([p,S.m/p])\n",
    "p_pp_l"
   ]
  },
  {
   "cell_type": "markdown",
   "id": "8b571532",
   "metadata": {},
   "source": [
    "List all $\\hat w$ and their lengths."
   ]
  },
  {
   "cell_type": "code",
   "execution_count": 7,
   "id": "86393418",
   "metadata": {},
   "outputs": [],
   "source": [
    "WG = weyl_group([\"A\",1])\n",
    "WL = [det(g) for g in WG]\n",
    "wh_l = list(itertools.product(*[WG if d == 1 else [matrix(1)] for d in S.deg]))\n",
    "wl_l = list(itertools.product(*[WL if d == 1 else [0] for d in S.deg]))"
   ]
  },
  {
   "cell_type": "markdown",
   "id": "d17c76b1",
   "metadata": {},
   "source": [
    "Because this is a non-spherical case, not all of them will give non-vanishing $\\tilde{\\chi}'_{\\hat{w};\\vec{\\underline{b}}}$. For each $\\vec{\\underline{b}}$ we look for the set of \"good\" $\\hat w$."
   ]
  },
  {
   "cell_type": "code",
   "execution_count": 8,
   "id": "c0e8c9c9",
   "metadata": {},
   "outputs": [
    {
     "data": {
      "text/plain": [
       "[[([0], [1], [-1], [-1], [0], [-1]), ([0], [-1], [-1], [-1], [0], [-1])],\n",
       " [],\n",
       " [],\n",
       " [([0], [1], [1], [1], [0], [-1]),\n",
       "  ([0], [1], [-1], [-1], [0], [1]),\n",
       "  ([0], [-1], [1], [1], [0], [-1]),\n",
       "  ([0], [-1], [-1], [-1], [0], [1])]]"
      ]
     },
     "execution_count": 8,
     "metadata": {},
     "output_type": "execute_result"
    }
   ],
   "source": [
    "rho = vector([1/2])\n",
    "wh_b_l = list()\n",
    "wl_b_l = list()\n",
    "for b in S.boundary_conditions([\"A\",1],basis = \"root\"):\n",
    "    wh_b_l.append(list())\n",
    "    wl_b_l.append(list())\n",
    "    for wh,wl in zip(wh_l,wl_l):\n",
    "        whr = [w*rho for w in wh]\n",
    "        if S.S_set([\"A\",1],whr,b,basis = \"root\") != []:\n",
    "            wh_b_l[-1].append(wh)\n",
    "            wl_b_l[-1].append(wl)\n",
    "wh_b_l            "
   ]
  },
  {
   "cell_type": "markdown",
   "id": "4cf91a0a",
   "metadata": {},
   "source": [
    "The only possibility is then to have $p=2$ and $p'=3$\n",
    "Compute the sum for all possible choices of $p=p_i$"
   ]
  },
  {
   "cell_type": "code",
   "execution_count": 9,
   "id": "5d94b643",
   "metadata": {},
   "outputs": [
    {
     "data": {
      "text/plain": [
       "[2,\n",
       " 3,\n",
       " q^(547/12)*z^6/(z^2 + 1/z^2 - 2) - q^(547/12)*z^4/(z^2 + 1/z^2 - 2) - q^(547/12)/((z^2 + 1/z^2 - 2)*z^4) + q^(547/12)/((z^2 + 1/z^2 - 2)*z^6) - q^(367/12)*z^6/(z^2 + 1/z^2 - 2) + q^(367/12)*z^4/(z^2 + 1/z^2 - 2) + q^(367/12)/((z^2 + 1/z^2 - 2)*z^4) - q^(367/12)/((z^2 + 1/z^2 - 2)*z^6) + q^(223/12)*z^4/(z^2 + 1/z^2 - 2) - q^(223/12)*z^2/(z^2 + 1/z^2 - 2) - q^(223/12)/((z^2 + 1/z^2 - 2)*z^2) + q^(223/12)/((z^2 + 1/z^2 - 2)*z^4) - q^(115/12)*z^4/(z^2 + 1/z^2 - 2) + q^(115/12)*z^2/(z^2 + 1/z^2 - 2) + q^(115/12)/((z^2 + 1/z^2 - 2)*z^2) - q^(115/12)/((z^2 + 1/z^2 - 2)*z^4) + q^(43/12)*z^2/(z^2 + 1/z^2 - 2) - 2*q^(43/12)/(z^2 + 1/z^2 - 2) - q^(7/12)*z^2/(z^2 + 1/z^2 - 2) + q^(43/12)/((z^2 + 1/z^2 - 2)*z^2) + 2*q^(7/12)/(z^2 + 1/z^2 - 2) - q^(7/12)/((z^2 + 1/z^2 - 2)*z^2),\n",
       " -(z^6 + 1/z^6 - 2)*q^(363/8)/(z - 1/z)^2 + (z^4 + 1/z^4 - 2)*q^(363/8)/(z - 1/z)^2 + (z^6 + 1/z^6 - 2)*q^(243/8)/(z - 1/z)^2 - (z^4 + 1/z^4 - 2)*q^(243/8)/(z - 1/z)^2 - (z^4 + 1/z^4 - 2)*q^(147/8)/(z - 1/z)^2 + (z^2 + 1/z^2 - 2)*q^(147/8)/(z - 1/z)^2 + (z^4 + 1/z^4 - 2)*q^(75/8)/(z - 1/z)^2 - (z^2 + 1/z^2 - 2)*q^(75/8)/(z - 1/z)^2 - (z^2 + 1/z^2 - 2)*q^(27/8)/(z - 1/z)^2 + (z^2 + 1/z^2 - 2)*q^(3/8)/(z - 1/z)^2,\n",
       " 0]"
      ]
     },
     "execution_count": 9,
     "metadata": {},
     "output_type": "execute_result"
    }
   ],
   "source": [
    "n=0\n",
    "p = p_l[n]\n",
    "pp = S.m/p\n",
    "Chp = 0\n",
    "Trip = 0\n",
    "expMax = 50\n",
    "delta = S.delta([\"A\",1])\n",
    "s_list = list()\n",
    "for wh,l in zip(wh_b_l[0],wl_b_l[0]):\n",
    "    l_red = [li for li,d in zip(l,S.deg) if d == 1]\n",
    "    Chp += product(l_red)*S.chi_prime_4f_sph(wh,expMax,basis=\"root\")\n",
    "    if l_red[n] == 1:\n",
    "        r = 1\n",
    "        s = S.m/p*(sum([li*sgn(qi)/pi for pi,qi,li in zip(p_l,q_l,l_red) if pi != p]))\n",
    "        s_list.append(s)\n",
    "        Trip += product(l_red)*triplet_character_p_pprime(p,pp,s,r,expMax-delta)\n",
    "[p,pp,expand(Chp),Trip,expand(Chp+q^delta*Trip)]"
   ]
  },
  {
   "cell_type": "code",
   "execution_count": 15,
   "id": "7b2c7a2d",
   "metadata": {},
   "outputs": [
    {
     "data": {
      "text/plain": [
       "[3,\n",
       " 2,\n",
       " 2*q^(161/4)*z^6/(z^2 + 1/z^2 - 2) - 4*q^(161/4)/(z^2 + 1/z^2 - 2) + 2*q^(141/4)*z^4/(z^2 + 1/z^2 - 2) - 4*q^(141/4)/(z^2 + 1/z^2 - 2) + 2*q^(161/4)/((z^2 + 1/z^2 - 2)*z^6) + 2*q^(141/4)/((z^2 + 1/z^2 - 2)*z^4) - 2*q^(105/4)*z^4/(z^2 + 1/z^2 - 2) + 4*q^(105/4)/(z^2 + 1/z^2 - 2) - 2*q^(89/4)*z^4/(z^2 + 1/z^2 - 2) + 4*q^(89/4)/(z^2 + 1/z^2 - 2) - 2*q^(105/4)/((z^2 + 1/z^2 - 2)*z^4) + 2*q^(61/4)*z^4/(z^2 + 1/z^2 - 2) - 2*q^(89/4)/((z^2 + 1/z^2 - 2)*z^4) - 4*q^(61/4)/(z^2 + 1/z^2 - 2) + 2*q^(49/4)*z^2/(z^2 + 1/z^2 - 2) - 4*q^(49/4)/(z^2 + 1/z^2 - 2) + 2*q^(61/4)/((z^2 + 1/z^2 - 2)*z^4) + 2*q^(49/4)/((z^2 + 1/z^2 - 2)*z^2) - 2*q^(29/4)*z^2/(z^2 + 1/z^2 - 2) + 4*q^(29/4)/(z^2 + 1/z^2 - 2) - 2*q^(21/4)*z^2/(z^2 + 1/z^2 - 2) + 4*q^(21/4)/(z^2 + 1/z^2 - 2) - 2*q^(29/4)/((z^2 + 1/z^2 - 2)*z^2) + 2*q^(9/4)*z^2/(z^2 + 1/z^2 - 2) - 2*q^(21/4)/((z^2 + 1/z^2 - 2)*z^2) - 4*q^(9/4)/(z^2 + 1/z^2 - 2) + 2*q^(9/4)/((z^2 + 1/z^2 - 2)*z^2),\n",
       " -2*(z^6 + 1/z^6 - 2)*q^(961/24)/(z - 1/z)^2 - 2*(z^4 + 1/z^4 - 2)*q^(841/24)/(z - 1/z)^2 + 2*(z^4 + 1/z^4 - 2)*q^(625/24)/(z - 1/z)^2 + 2*(z^4 + 1/z^4 - 2)*q^(529/24)/(z - 1/z)^2 - 2*(z^4 + 1/z^4 - 2)*q^(361/24)/(z - 1/z)^2 - 2*(z^2 + 1/z^2 - 2)*q^(289/24)/(z - 1/z)^2 + 2*(z^2 + 1/z^2 - 2)*q^(169/24)/(z - 1/z)^2 + 2*(z^2 + 1/z^2 - 2)*q^(121/24)/(z - 1/z)^2 - 2*(z^2 + 1/z^2 - 2)*q^(49/24)/(z - 1/z)^2,\n",
       " 0]"
      ]
     },
     "execution_count": 15,
     "metadata": {},
     "output_type": "execute_result"
    }
   ],
   "source": [
    "n=3\n",
    "p = p_l[n]\n",
    "pp = S.m/p\n",
    "Chp = 0\n",
    "Trip = 0\n",
    "expMax = 50\n",
    "delta = S.delta([\"A\",1])\n",
    "s_list = list()\n",
    "for wh,l in zip(wh_b_l[-1],wl_b_l[-1]):\n",
    "    l_red = [li for li,d in zip(l,S.deg) if d == 1]\n",
    "    Chp += product(l_red)*S.chi_prime_4f_sph(wh,expMax,basis=\"root\")\n",
    "    if l_red[n] == 1:\n",
    "        r = 1\n",
    "        s = S.m/p*(sum([li*sgn(qi)/pi for pi,qi,li in zip(p_l,q_l,l_red) if pi != p]))\n",
    "        s_list.append(s)\n",
    "        Trip += product(l_red)*triplet_character_p_pprime(p,pp,s,r,expMax-delta)\n",
    "[p,pp,expand(Chp),Trip,expand(Chp+q^delta*Trip)]"
   ]
  },
  {
   "cell_type": "code",
   "execution_count": null,
   "id": "8ef41526",
   "metadata": {},
   "outputs": [],
   "source": []
  }
 ],
 "metadata": {
  "kernelspec": {
   "display_name": "SageMath 9.6",
   "language": "sage",
   "name": "sagemath"
  },
  "language_info": {
   "codemirror_mode": {
    "name": "ipython",
    "version": 3
   },
   "file_extension": ".py",
   "mimetype": "text/x-python",
   "name": "python",
   "nbconvert_exporter": "python",
   "pygments_lexer": "ipython3",
   "version": "3.10.4"
  },
  "vscode": {
   "interpreter": {
    "hash": "d0a05f0c313e5e284696bfab0c425f2bd049a2b800b8197cf9fb2674d7ea8ce4"
   }
  }
 },
 "nbformat": 4,
 "nbformat_minor": 5
}
