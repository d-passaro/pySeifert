{
 "cells": [
  {
   "cell_type": "markdown",
   "id": "7874aa55",
   "metadata": {},
   "source": [
    "# 4-Manifolds and Log VOA\n",
    "## Example section companion notebook"
   ]
  },
  {
   "cell_type": "code",
   "execution_count": 1,
   "id": "2f3a07e5",
   "metadata": {
    "vscode": {
     "languageId": "python"
    }
   },
   "outputs": [],
   "source": [
    "# Load packages and pySeifert\n",
    "import numpy as np\n",
    "import itertools\n",
    "load(\"../../pySeifert.sage\")"
   ]
  },
  {
   "cell_type": "markdown",
   "id": "e9d2498a",
   "metadata": {},
   "source": [
    "After loading the Seifert class and other packages needed for the computation, we define the Seifert manifold."
   ]
  },
  {
   "cell_type": "code",
   "execution_count": 2,
   "id": "a6bd9c11",
   "metadata": {
    "vscode": {
     "languageId": "python"
    }
   },
   "outputs": [
    {
     "data": {
      "text/plain": [
       "Seifert manifold with 4 exceptional fibers.\n",
       "Seifert data:\n",
       "[-2, 1, 2, 2, 3, 2, 5, 3, 7]\n",
       "Plumbing Matrix:\n",
       "[-2  1  1  0  1  0  1  0  0]\n",
       "[ 1 -2  0  0  0  0  0  0  0]\n",
       "[ 1  0 -2  1  0  0  0  0  0]\n",
       "[ 0  0  1 -2  0  0  0  0  0]\n",
       "[ 1  0  0  0 -3  1  0  0  0]\n",
       "[ 0  0  0  0  1 -2  0  0  0]\n",
       "[ 1  0  0  0  0  0 -3  1  0]\n",
       "[ 0  0  0  0  0  0  1 -2  1]\n",
       "[ 0  0  0  0  0  0  0  1 -2]\n",
       "D: 1, m: 210, det(M): -1"
      ]
     },
     "execution_count": 2,
     "metadata": {},
     "output_type": "execute_result"
    }
   ],
   "source": [
    "S = Seifert([-2, 1, 2, 2, 3, 2, 5, 3, 7]);S"
   ]
  },
  {
   "cell_type": "markdown",
   "id": "5a94db10",
   "metadata": {},
   "source": [
    "$S$ is a spherical manifold therefore the plumbing matrix is unitary and we have $D=1$.\n",
    "We can proceed by computing the $\\mathcal B$ set and the $\\vec s$ values for $A_2$."
   ]
  },
  {
   "cell_type": "code",
   "execution_count": 3,
   "id": "406e97ca",
   "metadata": {
    "vscode": {
     "languageId": "python"
    }
   },
   "outputs": [
    {
     "data": {
      "text/plain": [
       "521/840"
      ]
     },
     "execution_count": 3,
     "metadata": {},
     "output_type": "execute_result"
    }
   ],
   "source": [
    "S.delta([\"A\",1])"
   ]
  },
  {
   "cell_type": "code",
   "execution_count": 4,
   "id": "f4a8f316",
   "metadata": {
    "vscode": {
     "languageId": "python"
    }
   },
   "outputs": [
    {
     "data": {
      "text/plain": [
       "[[(-1), (1/2), (0), (1/2), (0), (1/2), (0), (0), (1/2)]]"
      ]
     },
     "execution_count": 4,
     "metadata": {},
     "output_type": "execute_result"
    }
   ],
   "source": [
    "B = S.boundary_conditions([\"A\",1],basis=\"root\"); B"
   ]
  },
  {
   "cell_type": "markdown",
   "id": "3a9779b5",
   "metadata": {},
   "source": [
    "$\\mathcal B$ only contains the trivial $\\vec{\\underline{b}}_0$. This is expected because $S$ is a Brieskorn sphere."
   ]
  },
  {
   "cell_type": "markdown",
   "id": "c8f3c79b",
   "metadata": {},
   "source": [
    "We can look al all possible pairs of $p$, $p'$."
   ]
  },
  {
   "cell_type": "code",
   "execution_count": 8,
   "id": "1be8c6b4",
   "metadata": {
    "vscode": {
     "languageId": "python"
    }
   },
   "outputs": [
    {
     "data": {
      "text/plain": [
       "[[2, 105], [3, 70], [5, 42], [7, 30]]"
      ]
     },
     "execution_count": 8,
     "metadata": {},
     "output_type": "execute_result"
    }
   ],
   "source": [
    "p_pp_l = list()\n",
    "for p in S.p:\n",
    "    p_pp_l.append([p,S.m/p])\n",
    "p_pp_l"
   ]
  },
  {
   "cell_type": "markdown",
   "id": "8b571532",
   "metadata": {},
   "source": [
    "List all $\\hat w$ and their lengths."
   ]
  },
  {
   "cell_type": "code",
   "execution_count": 9,
   "id": "86393418",
   "metadata": {
    "vscode": {
     "languageId": "python"
    }
   },
   "outputs": [],
   "source": [
    "WG = weyl_group([\"A\",1])\n",
    "WL = [det(g) for g in WG]\n",
    "wh_l = list(itertools.product(*[WG if d == 1 else [matrix(1)] for d in S.deg]))\n",
    "wl_l = list(itertools.product(*[WL if d == 1 else [0] for d in S.deg]))"
   ]
  },
  {
   "cell_type": "markdown",
   "id": "d17c76b1",
   "metadata": {},
   "source": [
    "Because this is a non-spherical case, not all of them will give non-vanishing $\\tilde{\\chi}'_{\\hat{w};\\vec{\\underline{b}}}$. For each $\\vec{\\underline{b}}$ we look for the set of \"good\" $\\hat w$."
   ]
  },
  {
   "cell_type": "code",
   "execution_count": 12,
   "id": "c0e8c9c9",
   "metadata": {
    "vscode": {
     "languageId": "python"
    }
   },
   "outputs": [
    {
     "data": {
      "text/plain": [
       "[[([0], [1], [0], [1], [0], [1], [0], [0], [1]),\n",
       "  ([0], [1], [0], [1], [0], [1], [0], [0], [-1]),\n",
       "  ([0], [1], [0], [1], [0], [-1], [0], [0], [1]),\n",
       "  ([0], [1], [0], [1], [0], [-1], [0], [0], [-1]),\n",
       "  ([0], [1], [0], [-1], [0], [1], [0], [0], [1]),\n",
       "  ([0], [1], [0], [-1], [0], [1], [0], [0], [-1]),\n",
       "  ([0], [1], [0], [-1], [0], [-1], [0], [0], [1]),\n",
       "  ([0], [1], [0], [-1], [0], [-1], [0], [0], [-1]),\n",
       "  ([0], [-1], [0], [1], [0], [1], [0], [0], [1]),\n",
       "  ([0], [-1], [0], [1], [0], [1], [0], [0], [-1]),\n",
       "  ([0], [-1], [0], [1], [0], [-1], [0], [0], [1]),\n",
       "  ([0], [-1], [0], [1], [0], [-1], [0], [0], [-1]),\n",
       "  ([0], [-1], [0], [-1], [0], [1], [0], [0], [1]),\n",
       "  ([0], [-1], [0], [-1], [0], [1], [0], [0], [-1]),\n",
       "  ([0], [-1], [0], [-1], [0], [-1], [0], [0], [1]),\n",
       "  ([0], [-1], [0], [-1], [0], [-1], [0], [0], [-1])]]"
      ]
     },
     "execution_count": 12,
     "metadata": {},
     "output_type": "execute_result"
    }
   ],
   "source": [
    "rho = vector([1/2])\n",
    "wh_b_l = list()\n",
    "wl_b_l = list()\n",
    "for b in S.boundary_conditions([\"A\",1],basis = \"root\"):\n",
    "    wh_b_l.append(list())\n",
    "    wl_b_l.append(list())\n",
    "    for wh,wl in zip(wh_l,wl_l):\n",
    "        whr = [w*rho for w in wh]\n",
    "        if S.S_set([\"A\",1],whr,b,basis = \"root\") != []:\n",
    "            wh_b_l[-1].append(wh)\n",
    "            wl_b_l[-1].append(wl)\n",
    "wh_b_l            "
   ]
  },
  {
   "cell_type": "markdown",
   "id": "4cf91a0a",
   "metadata": {},
   "source": [
    "The only possibility is then to have $p=2$ and $p'=3$\n",
    "Compute the sum for all possible choices of $p=p_i$"
   ]
  },
  {
   "cell_type": "code",
   "execution_count": 14,
   "id": "e5155612",
   "metadata": {
    "vscode": {
     "languageId": "python"
    }
   },
   "outputs": [
    {
     "data": {
      "text/plain": [
       "[2,\n",
       " 105,\n",
       " 2*q^(145/4)*z^2/(z^2 + 1/z^2 - 2) - 4*q^(145/4)/(z^2 + 1/z^2 - 2) + 2*q^(145/4)/((z^2 + 1/z^2 - 2)*z^2),\n",
       " 2*(z^2 + 1/z^2 - 2)*q^(29929/840)/(z - 1/z)^2,\n",
       " 0,\n",
       " [71, 41, 29, -1, 1, -29, -41, -71]]"
      ]
     },
     "execution_count": 14,
     "metadata": {},
     "output_type": "execute_result"
    }
   ],
   "source": [
    "n=0\n",
    "p = S.p[n]\n",
    "pp = S.m/p\n",
    "Chp = 0\n",
    "Trip = 0\n",
    "expMax = 50\n",
    "delta = S.delta([\"A\",1])\n",
    "s_list = list()\n",
    "for wh,l in zip(wh_b_l[0],wl_b_l[0]):\n",
    "    l_red = [li for li,d in zip(l,S.deg) if d == 1]\n",
    "    Chp += product(l_red)*S.chi_prime_4f_sph(wh,expMax,basis=\"root\")\n",
    "    if l_red[n] == 1:\n",
    "        r = 1\n",
    "        s = S.m/p*(sum([li*sgn(qi)/pi for pi,qi,li in zip(S.p,S.q,l_red) if pi != p]))\n",
    "        s_list.append(s)\n",
    "        Trip += product(l_red)*triplet_character_p_pprime(p,pp,s,r,expMax-delta)\n",
    "[p,pp,expand(Chp),Trip,expand(Chp-q^delta*Trip),s_list]"
   ]
  },
  {
   "cell_type": "code",
   "execution_count": 16,
   "id": "62ae34c8",
   "metadata": {
    "vscode": {
     "languageId": "python"
    }
   },
   "outputs": [
    {
     "data": {
      "text/plain": [
       "[3,\n",
       " 70,\n",
       " 2*q^(145/4)*z^2/(z^2 + 1/z^2 - 2) - 4*q^(145/4)/(z^2 + 1/z^2 - 2) + 2*q^(145/4)/((z^2 + 1/z^2 - 2)*z^2),\n",
       " 2*(z^2 + 1/z^2 - 2)*q^(29929/840)/(z - 1/z)^2,\n",
       " 0,\n",
       " [59, 39, 31, 11, -11, -31, -39, -59]]"
      ]
     },
     "execution_count": 16,
     "metadata": {},
     "output_type": "execute_result"
    }
   ],
   "source": [
    "n=1\n",
    "p = S.p[n]\n",
    "pp = S.m/p\n",
    "Chp = 0\n",
    "Trip = 0\n",
    "expMax = 50\n",
    "delta = S.delta([\"A\",1])\n",
    "s_list = list()\n",
    "for wh,l in zip(wh_b_l[0],wl_b_l[0]):\n",
    "    l_red = [li for li,d in zip(l,S.deg) if d == 1]\n",
    "    Chp += product(l_red)*S.chi_prime_4f_sph(wh,expMax,basis=\"root\")\n",
    "    if l_red[n] == 1:\n",
    "        r = 1\n",
    "        s = S.m/p*(sum([li*sgn(qi)/pi for pi,qi,li in zip(S.p,S.q,l_red) if pi != p]))\n",
    "        s_list.append(s)\n",
    "        Trip += product(l_red)*triplet_character_p_pprime(p,pp,s,r,expMax-delta)\n",
    "[p,pp,expand(Chp),Trip,expand(Chp-q^delta*Trip),s_list]"
   ]
  },
  {
   "cell_type": "code",
   "execution_count": 17,
   "id": "4247bec9",
   "metadata": {
    "vscode": {
     "languageId": "python"
    }
   },
   "outputs": [
    {
     "data": {
      "text/plain": [
       "[5,\n",
       " 42,\n",
       " 2*q^(145/4)*z^2/(z^2 + 1/z^2 - 2) - 4*q^(145/4)/(z^2 + 1/z^2 - 2) + 2*q^(145/4)/((z^2 + 1/z^2 - 2)*z^2),\n",
       " 2*(z^2 + 1/z^2 - 2)*q^(29929/840)/(z - 1/z)^2,\n",
       " 0,\n",
       " [41, 29, 13, 1, -1, -13, -29, -41]]"
      ]
     },
     "execution_count": 17,
     "metadata": {},
     "output_type": "execute_result"
    }
   ],
   "source": [
    "n=2\n",
    "p = S.p[n]\n",
    "pp = S.m/p\n",
    "Chp = 0\n",
    "Trip = 0\n",
    "expMax = 50\n",
    "delta = S.delta([\"A\",1])\n",
    "s_list = list()\n",
    "for wh,l in zip(wh_b_l[0],wl_b_l[0]):\n",
    "    l_red = [li for li,d in zip(l,S.deg) if d == 1]\n",
    "    Chp += product(l_red)*S.chi_prime_4f_sph(wh,expMax,basis=\"root\")\n",
    "    if l_red[n] == 1:\n",
    "        r = 1\n",
    "        s = S.m/p*(sum([li*sgn(qi)/pi for pi,qi,li in zip(S.p,S.q,l_red) if pi != p]))\n",
    "        s_list.append(s)\n",
    "        Trip += product(l_red)*triplet_character_p_pprime(p,pp,s,r,expMax-delta)\n",
    "[p,pp,expand(Chp),Trip,expand(Chp-q^delta*Trip),s_list]"
   ]
  },
  {
   "cell_type": "code",
   "execution_count": 18,
   "id": "a56c70d3",
   "metadata": {
    "vscode": {
     "languageId": "python"
    }
   },
   "outputs": [
    {
     "data": {
      "text/plain": [
       "[7,\n",
       " 30,\n",
       " 2*q^(145/4)*z^2/(z^2 + 1/z^2 - 2) - 4*q^(145/4)/(z^2 + 1/z^2 - 2) + 2*q^(145/4)/((z^2 + 1/z^2 - 2)*z^2),\n",
       " 2*(z^2 + 1/z^2 - 2)*q^(29929/840)/(z - 1/z)^2,\n",
       " 0,\n",
       " [31, 19, 11, -1, 1, -11, -19, -31]]"
      ]
     },
     "execution_count": 18,
     "metadata": {},
     "output_type": "execute_result"
    }
   ],
   "source": [
    "n=3\n",
    "p = S.p[n]\n",
    "pp = S.m/p\n",
    "Chp = 0\n",
    "Trip = 0\n",
    "expMax = 50\n",
    "delta = S.delta([\"A\",1])\n",
    "s_list = list()\n",
    "for wh,l in zip(wh_b_l[0],wl_b_l[0]):\n",
    "    l_red = [li for li,d in zip(l,S.deg) if d == 1]\n",
    "    Chp += product(l_red)*S.chi_prime_4f_sph(wh,expMax,basis=\"root\")\n",
    "    if l_red[n] == 1:\n",
    "        r = 1\n",
    "        s = S.m/p*(sum([li*sgn(qi)/pi for pi,qi,li in zip(S.p,S.q,l_red) if pi != p]))\n",
    "        s_list.append(s)\n",
    "        Trip += product(l_red)*triplet_character_p_pprime(p,pp,s,r,expMax-delta)\n",
    "[p,pp,expand(Chp),Trip,expand(Chp-q^delta*Trip),s_list]"
   ]
  }
 ],
 "metadata": {
  "kernelspec": {
   "display_name": "SageMath 9.6",
   "language": "sage",
   "name": "sagemath"
  },
  "language_info": {
   "codemirror_mode": {
    "name": "ipython",
    "version": 3
   },
   "file_extension": ".py",
   "mimetype": "text/x-python",
   "name": "python",
   "nbconvert_exporter": "python",
   "pygments_lexer": "ipython3",
   "version": "3.10.4"
  }
 },
 "nbformat": 4,
 "nbformat_minor": 5
}
