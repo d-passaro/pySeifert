{
 "cells": [
  {
   "cell_type": "markdown",
   "id": "7874aa55",
   "metadata": {},
   "source": [
    "# 3-Manifolds and Log VOA\n",
    "## Example section companion notebook"
   ]
  },
  {
   "cell_type": "markdown",
   "id": "a85bc271",
   "metadata": {},
   "source": [
    "Attaching Wilson operators to intermediate nodes of Seifert manifolds allows access different $q$ series with the $\\hat{Z}$ integrand. PySeifert has functionality to compute these too. In this example notebook, we replicate the examples of Wilson lines attached to an intermediate node of a leg of a Seifert manifold plumbing graph in the Spherical and generic case."
   ]
  },
  {
   "cell_type": "code",
   "execution_count": 41,
   "id": "2f3a07e5",
   "metadata": {},
   "outputs": [],
   "source": [
    "load(\"../../pySeifert.sage\")"
   ]
  },
  {
   "cell_type": "markdown",
   "id": "e9d2498a",
   "metadata": {},
   "source": [
    "We start with the spherical example"
   ]
  },
  {
   "cell_type": "code",
   "execution_count": 42,
   "id": "a6bd9c11",
   "metadata": {},
   "outputs": [],
   "source": [
    "S = Seifert([-1,3,5,2,7,1,9])\n",
    "B = S.boundary_conditions([\"A\",2], basis = \"weight\")"
   ]
  },
  {
   "cell_type": "markdown",
   "id": "26ef7f9d",
   "metadata": {},
   "source": [
    "In this example notebook we attach a Wilson operator in the $\\vec \\nu =(1,4)$ representation to the intermediate node of the leg corresponding to $p_1$.\n",
    "\n",
    "For each $\\hat{w}$ we can compute the $\\hat{Z}$ integrand $\\tilde{\\chi}$. Choosing $\\hat{w}=(1,1,1)$ and $w'=a$ for example leads to:"
   ]
  },
  {
   "cell_type": "code",
   "execution_count": 43,
   "id": "9010741b",
   "metadata": {
    "scrolled": true
   },
   "outputs": [
    {
     "data": {
      "text/plain": [
       "-(z0^2*z1^2 - z0^4/z1^2 - z1^4/z0^2 + z0^2/z1^4 + z1^2/z0^4 - 1/(z0^2*z1^2))*q^(888/5)/(z0*z1 - z0^2/z1 - z1^2/z0 + z0/z1^2 + z1/z0^2 - 1/(z0*z1)) - q^(173/5)"
      ]
     },
     "execution_count": 43,
     "metadata": {},
     "output_type": "execute_result"
    }
   ],
   "source": [
    "WG = [g.transpose() for g in weyl_group([\"A\",2])]\n",
    "wh = [WG[0] if d == 1 else matrix(2) for d in S.deg]\n",
    "sig = vector([1,4])\n",
    "leg = 0\n",
    "step = 1 # Step indicates wich node in the leg is the wilson operator to be attached to\n",
    "wp = WG[1]\n",
    "chi_tilde = S.chi_tilde_wilson_mid([\"A\",2], wh, wp, B[0], 300, sig, leg, step, basis = \"weight\")\n",
    "chi_tilde"
   ]
  },
  {
   "cell_type": "markdown",
   "id": "6fee75fd",
   "metadata": {},
   "source": [
    "The index of the corresponding triplet character can be computed combining equations 4.84 and 4.42."
   ]
  },
  {
   "cell_type": "code",
   "execution_count": 44,
   "id": "2ede94cc",
   "metadata": {},
   "outputs": [
    {
     "data": {
      "text/plain": [
       "-(z0^2*z1^2 - z0^4/z1^2 - z1^4/z0^2 + z0^2/z1^4 + z1^2/z0^4 - 1/(z0^2*z1^2))*q^(54028/315)/(z0*z1 - z0^2/z1 - z1^2/z0 + z0/z1^2 + z1/z0^2 - 1/(z0*z1)) - q^(8983/315)"
      ]
     },
     "execution_count": 44,
     "metadata": {},
     "output_type": "execute_result"
    }
   ],
   "source": [
    "rho = weyl_vector([\"A\",2])\n",
    "whr = [w*rho for w in wh]\n",
    "wp = weyl_group([\"A\",2])[1].transpose()\n",
    "Aw = -1/S.m*S.A * \\\n",
    "            matrix(whr)-S.Minv[0, 1]/S.Minv[0, 0]*wp*sig\n",
    "rho = weyl_vector([\"A\",2])\n",
    "mu = 1/sqrt(S.m)*(rho + S.m*Aw)\n",
    "whr[1] += wp * sig\n",
    "d = S.delta([\"A\",2]) +\\\n",
    "    sum([lattice_norm([\"A\",2], wr, wp*sig, basis=\"weight\")*\\\n",
    "        (S.Minv[0, 1]*S.Minv[0, i]/S.Minv[0, 0]-S.Minv[i, 1])\n",
    "        for i, wr in enumerate(whr)])-\\\n",
    "        1/2*lattice_norm([\"A\",2], sig, basis=\"weight\")*\\\n",
    "        (S.Minv[0, 1] ^ 2/S.Minv[0, 0]-S.Minv[1, 1])\n",
    "trip_ch = triplet_character([\"A\",2],vector([0,0]),mu,S.m,S.f,expMax = 300-d,basis = \"weight\")\n",
    "trip_ch"
   ]
  },
  {
   "cell_type": "markdown",
   "id": "06d90d26",
   "metadata": {},
   "source": [
    "We can assess that these are the same, up to a power of $q$ by taking the difference:"
   ]
  },
  {
   "cell_type": "markdown",
   "id": "36a8ad44",
   "metadata": {},
   "source": [
    "Likewise, we can repeat for the generic case. As for the other generic cases, to recover the full character we need to sum over $\\Delta b\\in \\Lambda/D\\Lambda$."
   ]
  },
  {
   "cell_type": "code",
   "execution_count": 45,
   "id": "c7dbd8bc",
   "metadata": {},
   "outputs": [],
   "source": [
    "S = Seifert([-1,2,3,-1,2,-1,2])\n",
    "B = S.boundary_conditions([\"A\",2],basis=\"weight\")\n",
    "b0 = B[0]"
   ]
  },
  {
   "cell_type": "markdown",
   "id": "e93df991",
   "metadata": {},
   "source": [
    "We compute the sum of $\\tilde{\\chi}$..."
   ]
  },
  {
   "cell_type": "code",
   "execution_count": 46,
   "id": "d281aa74",
   "metadata": {},
   "outputs": [
    {
     "data": {
      "text/plain": [
       "(z0^3*z1^3 - z0^6/z1^3 - z1^6/z0^3 + z0^3/z1^6 + z1^3/z0^6 - 1/(z0^3*z1^3))*q^(547/64)/(z0*z1 - z0^2/z1 - z1^2/z0 + z0/z1^2 + z1/z0^2 - 1/(z0*z1)) + q^(543/64) - (z0^2*z1^5 - z1^7/z0^2 - z0^7/z1^5 + z0^5/z1^7 + z1^2/z0^7 - 1/(z0^5*z1^2))*q^(519/64)/(z0*z1 - z0^2/z1 - z1^2/z0 + z0/z1^2 + z1/z0^2 - 1/(z0*z1)) - (z0^4*z1 - z0^5/z1 - z1^5/z0^4 + z1^4/z0^5 + z0/z1^5 - 1/(z0*z1^4))*q^(503/64)/(z0*z1 - z0^2/z1 - z1^2/z0 + z0/z1^2 + z1/z0^2 - 1/(z0*z1)) - (z0^3*z1^3 - z0^6/z1^3 - z1^6/z0^3 + z0^3/z1^6 + z1^3/z0^6 - 1/(z0^3*z1^3))*q^(463/64)/(z0*z1 - z0^2/z1 - z1^2/z0 + z0/z1^2 + z1/z0^2 - 1/(z0*z1)) + (z0^2*z1^2 - z0^4/z1^2 - z1^4/z0^2 + z0^2/z1^4 + z1^2/z0^4 - 1/(z0^2*z1^2))*q^(443/64)/(z0*z1 - z0^2/z1 - z1^2/z0 + z0/z1^2 + z1/z0^2 - 1/(z0*z1)) + q^(435/64) + (z0*z1^4 - z1^5/z0 - z0^5/z1^4 + z0^4/z1^5 + z1/z0^5 - 1/(z0^4*z1))*q^(423/64)/(z0*z1 - z0^2/z1 - z1^2/z0 + z0/z1^2 + z1/z0^2 - 1/(z0*z1)) - q^(407/64) - (z0*z1^4 - z1^5/z0 - z0^5/z1^4 + z0^4/z1^5 + z1/z0^5 - 1/(z0^4*z1))*q^(395/64)/(z0*z1 - z0^2/z1 - z1^2/z0 + z0/z1^2 + z1/z0^2 - 1/(z0*z1)) - (z0^2*z1^2 - z0^4/z1^2 - z1^4/z0^2 + z0^2/z1^4 + z1^2/z0^4 - 1/(z0^2*z1^2))*q^(387/64)/(z0*z1 - z0^2/z1 - z1^2/z0 + z0/z1^2 + z1/z0^2 - 1/(z0*z1))"
      ]
     },
     "execution_count": 46,
     "metadata": {},
     "output_type": "execute_result"
    }
   ],
   "source": [
    "wh = [WG[0] if d == 1 else matrix(2) for d in S.deg]\n",
    "chi_tilde_tot = 0\n",
    "c2 = cartan_matrix([\"A\",2])\n",
    "for db in itertools.product(range(S.d),repeat=2):\n",
    "    db = c2*vector(db)\n",
    "    b = [b0[0]+db]+b0[1:]\n",
    "    chi_tilde_tot += S.chi_tilde_wilson_mid([\"A\",2], wh, wp, b, 70/S.d, sig, leg, step, basis = \"weight\")\n",
    "chi_tilde_tot"
   ]
  },
  {
   "cell_type": "markdown",
   "id": "79aa4824",
   "metadata": {},
   "source": [
    "... and the triplet character"
   ]
  },
  {
   "cell_type": "code",
   "execution_count": 47,
   "id": "9cfd630f",
   "metadata": {},
   "outputs": [
    {
     "data": {
      "text/plain": [
       "(z0^3*z1^3 - z0^6/z1^3 - z1^6/z0^3 + z0^3/z1^6 + z1^3/z0^6 - 1/(z0^3*z1^3))*q^(553/24)/(z0*z1 - z0^2/z1 - z1^2/z0 + z0/z1^2 + z1/z0^2 - 1/(z0*z1)) + q^(541/24) - (z0^2*z1^5 - z1^7/z0^2 - z0^7/z1^5 + z0^5/z1^7 + z1^2/z0^7 - 1/(z0^5*z1^2))*q^(469/24)/(z0*z1 - z0^2/z1 - z1^2/z0 + z0/z1^2 + z1/z0^2 - 1/(z0*z1)) - (z0^4*z1 - z0^5/z1 - z1^5/z0^4 + z1^4/z0^5 + z0/z1^5 - 1/(z0*z1^4))*q^(421/24)/(z0*z1 - z0^2/z1 - z1^2/z0 + z0/z1^2 + z1/z0^2 - 1/(z0*z1)) - (z0^3*z1^3 - z0^6/z1^3 - z1^6/z0^3 + z0^3/z1^6 + z1^3/z0^6 - 1/(z0^3*z1^3))*q^(301/24)/(z0*z1 - z0^2/z1 - z1^2/z0 + z0/z1^2 + z1/z0^2 - 1/(z0*z1)) + (z0^2*z1^2 - z0^4/z1^2 - z1^4/z0^2 + z0^2/z1^4 + z1^2/z0^4 - 1/(z0^2*z1^2))*q^(241/24)/(z0*z1 - z0^2/z1 - z1^2/z0 + z0/z1^2 + z1/z0^2 - 1/(z0*z1)) + q^(217/24) + (z0*z1^4 - z1^5/z0 - z0^5/z1^4 + z0^4/z1^5 + z1/z0^5 - 1/(z0^4*z1))*q^(181/24)/(z0*z1 - z0^2/z1 - z1^2/z0 + z0/z1^2 + z1/z0^2 - 1/(z0*z1)) - q^(133/24) - (z0*z1^4 - z1^5/z0 - z0^5/z1^4 + z0^4/z1^5 + z1/z0^5 - 1/(z0^4*z1))*q^(97/24)/(z0*z1 - z0^2/z1 - z1^2/z0 + z0/z1^2 + z1/z0^2 - 1/(z0*z1)) - (z0^2*z1^2 - z0^4/z1^2 - z1^4/z0^2 + z0^2/z1^4 + z1^2/z0^4 - 1/(z0^2*z1^2))*q^(73/24)/(z0*z1 - z0^2/z1 - z1^2/z0 + z0/z1^2 + z1/z0^2 - 1/(z0*z1))"
      ]
     },
     "execution_count": 47,
     "metadata": {},
     "output_type": "execute_result"
    }
   ],
   "source": [
    "rho = weyl_vector([\"A\",2])\n",
    "whr = [w*rho for w in wh]\n",
    "wp = weyl_group([\"A\",2])[1].transpose()\n",
    "Aw = -1/S.m*S.A * \\\n",
    "            matrix(whr)-S.Minv[0, 1]/S.Minv[0, 0]*wp*sig\n",
    "rho = weyl_vector([\"A\",2])\n",
    "mu = 1/sqrt(S.m)*(rho + S.m*Aw)\n",
    "whr[1] += wp * sig\n",
    "d = S.delta([\"A\",2]) +\\\n",
    "    sum([lattice_norm([\"A\",2], wr, wp*sig, basis=\"weight\")*\\\n",
    "        (S.Minv[0, 1]*S.Minv[0, i]/S.Minv[0, 0]-S.Minv[i, 1])\n",
    "        for i, wr in enumerate(whr)])-\\\n",
    "        1/2*lattice_norm([\"A\",2], sig, basis=\"weight\")*\\\n",
    "        (S.Minv[0, 1] ^ 2/S.Minv[0, 0]-S.Minv[1, 1])\n",
    "trip_ch = triplet_character([\"A\",2],vector([0,0]),mu,S.m,S.f,expMax = 70-d*S.d,basis = \"weight\")\n",
    "trip_ch"
   ]
  },
  {
   "cell_type": "markdown",
   "id": "1e1362a1",
   "metadata": {},
   "source": [
    "lastly, after dilating, we can compare the results:"
   ]
  },
  {
   "cell_type": "code",
   "execution_count": 48,
   "id": "d0f098d9",
   "metadata": {},
   "outputs": [
    {
     "data": {
      "text/plain": [
       "0"
      ]
     },
     "execution_count": 48,
     "metadata": {},
     "output_type": "execute_result"
    }
   ],
   "source": [
    "dil_chi_tilde_tot=0\n",
    "for pref,exp in chi_tilde_tot.coefficients(q):\n",
    "    dil_chi_tilde_tot += pref * q^(exp*S.d)\n",
    "expand(dil_chi_tilde_tot-q^(S.d*d)*trip_ch)"
   ]
  }
 ],
 "metadata": {
  "kernelspec": {
   "display_name": "SageMath 9.6",
   "language": "sage",
   "name": "sagemath"
  },
  "language_info": {
   "codemirror_mode": {
    "name": "ipython",
    "version": 3
   },
   "file_extension": ".py",
   "mimetype": "text/x-python",
   "name": "python",
   "nbconvert_exporter": "python",
   "pygments_lexer": "ipython3",
   "version": "3.10.4"
  },
  "vscode": {
   "interpreter": {
    "hash": "e7370f93d1d0cde622a1f8e1c04877d8463912d04d973331ad4851f04de6915a"
   }
  }
 },
 "nbformat": 4,
 "nbformat_minor": 5
}
