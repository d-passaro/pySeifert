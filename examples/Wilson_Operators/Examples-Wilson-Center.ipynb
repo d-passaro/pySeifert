{
 "cells": [
  {
   "cell_type": "markdown",
   "id": "7874aa55",
   "metadata": {},
   "source": [
    "# 3-Manifolds and Log VOA\n",
    "## Example section companion notebook"
   ]
  },
  {
   "cell_type": "markdown",
   "id": "ec6b8ae8",
   "metadata": {},
   "source": [
    "Attaching a Wilson operator to the central node of Seifert manifolds leads to different $\\hat{Z}$ invariants.  In this example notebook, we replicate the examples of Wilson lines attached to the central of a Seifert manifold plumbing graph in the spherical and pseudospherical cases."
   ]
  },
  {
   "cell_type": "code",
   "execution_count": 1,
   "id": "2f3a07e5",
   "metadata": {},
   "outputs": [],
   "source": [
    "load(\"../../pySeifert.sage\")"
   ]
  },
  {
   "cell_type": "markdown",
   "id": "e9d2498a",
   "metadata": {},
   "source": [
    "We start with the spherical case:"
   ]
  },
  {
   "cell_type": "code",
   "execution_count": 2,
   "id": "a6bd9c11",
   "metadata": {},
   "outputs": [
    {
     "data": {
      "text/plain": [
       "[[(-1, -1), (0, 0), (1, 1), (0, 0), (1, 1), (1, 1)]]"
      ]
     },
     "execution_count": 2,
     "metadata": {},
     "output_type": "execute_result"
    }
   ],
   "source": [
    "S = Seifert([-1,3,5,2,7,1,9])\n",
    "B = S.boundary_conditions([\"A\",2],basis = \"weight\"); B"
   ]
  },
  {
   "cell_type": "markdown",
   "id": "61847a9a",
   "metadata": {},
   "source": [
    "To compute the modified $\\hat{Z}$ invariant we must list all $\\tilde{\\chi}$:"
   ]
  },
  {
   "cell_type": "code",
   "execution_count": 3,
   "id": "de5c47ca",
   "metadata": {},
   "outputs": [],
   "source": [
    "WG = [g.transpose() for g in weyl_group([\"A\",2])]\n",
    "WL = [det(g) for g in WG]\n",
    "wh_list = list(itertools.product(*[WG if d == 1 else [matrix(2)] for d in S.deg]))\n",
    "whl_list = list(itertools.product(*[WL if d == 1 else [1] for d in S.deg])) \n",
    "Chit_list = [product(l)*S.chi_tilde([\"A\",2],wh,B[0],300,basis = \"weight\") for wh,l in zip(wh_list,whl_list)]"
   ]
  },
  {
   "cell_type": "markdown",
   "id": "b1686f66",
   "metadata": {},
   "source": [
    "In this notebook we attach a Wilson operator in the $\\vec\\nu=(2,2)$ representation to the central node.\n",
    "\n",
    "To compute the $\\hat{Z}$, we must sum the $\\tilde{\\chi}$ multiplied by \n",
    "$$\n",
    "    m_{\\vec\\sigma}^{(\\vec\\nu)}\\sum_{w\\in W}e^{\\left<\\vec\\xi,w(\\vec\\sigma)\\right>}\n",
    "$$\n",
    "where $m_{\\vec\\sigma}^{(\\vec{\\nu})}$ is the multiplicity of $\\vec\\sigma$ in the representation of highest weight $\\vec{\\nu}$, for each $\\vec{\\sigma}$ in the set of dominant integral weights."
   ]
  },
  {
   "cell_type": "code",
   "execution_count": 8,
   "id": "728ef147",
   "metadata": {},
   "outputs": [],
   "source": [
    "nu = vector([2,2])\n",
    "wilson_center_pref = 0\n",
    "for sig in itertools.product(range(4),repeat = 2):\n",
    "    sig = vector(sig)\n",
    "    if (sig[0]-sig[1])%3 != 0:\n",
    "        continue\n",
    "    m_sig = freudenthal_multiplicity([\"A\",2],nu, sig)\n",
    "    for w in WG:\n",
    "        w_sig = w*sig\n",
    "        wilson_center_pref += m_sig*z0^w_sig[0]*z1^w_sig[1]\n",
    "Zhat_integrand = wilson_center_pref * sum(Chit_list)"
   ]
  },
  {
   "cell_type": "markdown",
   "id": "00c009a7",
   "metadata": {},
   "source": [
    "Take out the constant term after multiplying by a sufficiently expandend expansion of the denominator"
   ]
  },
  {
   "cell_type": "code",
   "execution_count": 15,
   "id": "300ddbf1",
   "metadata": {},
   "outputs": [
    {
     "data": {
      "text/plain": [
       "216*q^296 - 216*q^294 + 216*q^287 + 216*q^284 - 108*q^283 - 432*q^280 + 216*q^278 + 432*q^272 - 216*q^267 + 216*q^266 - 216*q^262 + 216*q^260 - 216*q^259 + 216*q^254 + 216*q^252 + 432*q^248 - 216*q^238 + 216*q^236 - 216*q^235 - 216*q^232 + 216*q^228 - 216*q^226 - 108*q^219 - 432*q^211 - 216*q^210 - 216*q^202 - 216*q^196 - 216*q^195 + 216*q^191 - 216*q^190 + 216*q^188 - 108*q^187 + 216*q^179 + 432*q^164 + 216*q^159 + 216*q^158 + 216*q^144 - 216*q^142 - 216*q^126 - 216*q^118 + 108*q^95"
      ]
     },
     "execution_count": 15,
     "metadata": {},
     "output_type": "execute_result"
    }
   ],
   "source": [
    "Zhat = const_term(Zhat_integrand); Zhat"
   ]
  },
  {
   "cell_type": "markdown",
   "id": "5873061e",
   "metadata": {},
   "source": [
    "We compute the same with triplet characters. We start from computing $\\vec A_{\\hat w}$ and $\\vec \\mu$."
   ]
  },
  {
   "cell_type": "code",
   "execution_count": 16,
   "id": "6cf70406",
   "metadata": {},
   "outputs": [],
   "source": [
    "Aw_list = list()\n",
    "mu_list = list()\n",
    "rho = weyl_vector([\"A\",2])\n",
    "for wh in wh_list:\n",
    "    Aw = -1/S.Minv[0,0]*S.Minv[0]*matrix([w*rho for w in wh])\n",
    "    mu = 1/sqrt(S.m)*(rho+S.m*Aw)\n",
    "    Aw_list.append(Aw)\n",
    "    mu_list.append(mu)"
   ]
  },
  {
   "cell_type": "markdown",
   "id": "96440e3d",
   "metadata": {},
   "source": [
    "and, with these the triplet characters"
   ]
  },
  {
   "cell_type": "code",
   "execution_count": 17,
   "id": "b0d243a2",
   "metadata": {},
   "outputs": [],
   "source": [
    "tri_ch_list = list()\n",
    "for mu,l in zip(mu_list,whl_list):\n",
    "        tri_ch_list.append(product(l)*triplet_character([\"A\",2],vector([0,0]),mu,S.m,S.f,300,basis = \"weight\", qvar = None))"
   ]
  },
  {
   "cell_type": "markdown",
   "id": "c46aaf11",
   "metadata": {},
   "source": [
    "... and then assemble the $\\hat {Z}$ and integrate."
   ]
  },
  {
   "cell_type": "code",
   "execution_count": 27,
   "id": "d33e9a99",
   "metadata": {},
   "outputs": [
    {
     "data": {
      "text/plain": [
       "108*(2*q^(94159/315) + 2*q^(92899/315) - 2*q^(92269/315) + 2*q^(90064/315) + 2*q^(89119/315) - q^(88804/315) - 4*q^(87859/315) + 2*q^(87229/315) + 4*q^(85339/315) - 2*q^(83764/315) + 2*q^(83449/315) - 2*q^(82189/315) + 2*q^(81559/315) - 2*q^(81244/315) + 2*q^(79669/315) + 2*q^(79039/315) + 4*q^(77779/315) - 2*q^(74629/315) + 2*q^(73999/315) - 2*q^(73684/315) - 2*q^(72739/315) + 2*q^(71479/315) - 2*q^(70849/315) - q^(68644/315) - 4*q^(66124/315) - 2*q^(65809/315) - 2*q^(63289/315) - 2*q^(61399/315) - 2*q^(61084/315) + 2*q^(59824/315) - 2*q^(59509/315) + 2*q^(58879/315) - q^(58564/315) + 2*q^(56044/315) + 4*q^(51319/315) + 2*q^(49744/315) + 2*q^(49429/315) + 2*q^(45019/315) - 2*q^(44389/315) - 2*q^(39349/315) - 2*q^(36829/315) + q^(29584/315))*q^(341/315)"
      ]
     },
     "execution_count": 27,
     "metadata": {},
     "output_type": "execute_result"
    }
   ],
   "source": [
    "Zhat_ch_integrand = wilson_center_pref*sum(tri_ch_list)\n",
    "Zhat_ch = const_term(Zhat_ch_integrand)*q^(S.delta([\"A\",2]))\n",
    "Zhat_ch"
   ]
  },
  {
   "cell_type": "markdown",
   "id": "e0067e51",
   "metadata": {},
   "source": [
    "Finally, we assess that the expressions for the $\\hat{Z}$ are the same:"
   ]
  },
  {
   "cell_type": "code",
   "execution_count": 28,
   "id": "2a850b0d",
   "metadata": {},
   "outputs": [
    {
     "data": {
      "text/plain": [
       "Order(q^300)"
      ]
     },
     "execution_count": 28,
     "metadata": {},
     "output_type": "execute_result"
    }
   ],
   "source": [
    "expand(Zhat_ch-Zhat).series(q,300)"
   ]
  },
  {
   "cell_type": "markdown",
   "id": "9b12326b",
   "metadata": {},
   "source": [
    "The pseudospherical case is similar. The $\\hat{Z}$ integrand and the triplet characters can be rapidly computed:"
   ]
  },
  {
   "cell_type": "code",
   "execution_count": 31,
   "id": "8705f852",
   "metadata": {},
   "outputs": [],
   "source": [
    "S = Seifert([-1,1,2,1,3,1,9])\n",
    "B = S.boundary_conditions([\"A\",2],basis=\"weight\")\n",
    "b0 = B[0]\n",
    "WG = [g.transpose() for g in weyl_group([\"A\",2])]\n",
    "WL = [det(g) for g in WG]\n",
    "wh_list = list(itertools.product(*[WG if d == 1 else [matrix(2)] for d in S.deg]))\n",
    "whl_list = list(itertools.product(*[WL if d == 1 else [1] for d in S.deg]))\n",
    "Chit_list = [product(l)*S.chi_tilde([\"A\",2],wh,b0,100,basis = \"weight\") for wh,l in zip(wh_list,whl_list)]\n",
    "Zhat_integrand = wilson_center_pref * sum(Chit_list)\n",
    "Zhat = const_term(Zhat_integrand)"
   ]
  },
  {
   "cell_type": "markdown",
   "id": "76e4e664",
   "metadata": {},
   "source": [
    "As we did above, we compute the indices of the triplet characters. We only compute triplet characters for $\\hat{w}$ corresponding to $\\tilde{\\chi}$ that do not vanish due to $S_{\\hat{w},\\vec{\\underline{b}}}$"
   ]
  },
  {
   "cell_type": "code",
   "execution_count": 34,
   "id": "00e58d72",
   "metadata": {},
   "outputs": [],
   "source": [
    "Aw_list = list()\n",
    "mu_list = list()\n",
    "rho = weyl_vector([\"A\",2])\n",
    "for wh in wh_list:\n",
    "    Aw = -1/S.Minv[0,0]*S.Minv[0]*matrix([w*rho for w in wh])\n",
    "    mu = 1/sqrt(S.m)*(rho+S.m*Aw)\n",
    "    Aw_list.append(Aw)\n",
    "    mu_list.append(mu)\n",
    "\n",
    "tri_ch_list = list()\n",
    "for mu,l,chit in zip(mu_list,whl_list,Chit_list):\n",
    "    if chit != 0:\n",
    "        tri_ch_list.append(product(l)*triplet_character([\"A\",2],vector([0,0]),mu,S.m,S.f,100,basis = \"weight\", qvar = None))\n",
    "ZhatCh_integrand = wilson_center_pref*sum(tri_ch_list)*q^(S.delta([\"A\",2]))\n",
    "ZhatCh = const_term(ZhatCh_integrand)\n"
   ]
  },
  {
   "cell_type": "code",
   "execution_count": 38,
   "id": "fc8cbac3",
   "metadata": {},
   "outputs": [
    {
     "data": {
      "text/plain": [
       "Order(q^100)"
      ]
     },
     "execution_count": 38,
     "metadata": {},
     "output_type": "execute_result"
    }
   ],
   "source": [
    "(Zhat-ZhatCh).series(q,100)"
   ]
  }
 ],
 "metadata": {
  "kernelspec": {
   "display_name": "SageMath 9.6",
   "language": "sage",
   "name": "sagemath"
  },
  "language_info": {
   "codemirror_mode": {
    "name": "ipython",
    "version": 3
   },
   "file_extension": ".py",
   "mimetype": "text/x-python",
   "name": "python",
   "nbconvert_exporter": "python",
   "pygments_lexer": "ipython3",
   "version": "3.10.4"
  }
 },
 "nbformat": 4,
 "nbformat_minor": 5
}
