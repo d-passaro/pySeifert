{
 "cells": [
  {
   "cell_type": "markdown",
   "id": "7874aa55",
   "metadata": {},
   "source": [
    "# 3-Manifolds and Log VOA\n",
    "## Example section companion notebook"
   ]
  },
  {
   "cell_type": "markdown",
   "id": "9a3c441b",
   "metadata": {},
   "source": [
    "By attaching Wilson operators to the nodes of Seifert manifolds one can access different $q$ series with the $\\hat{Z}$ integrand. PySeifert has functionality to compute these too. In this example notebook, we replicate the examples of Wilson lines attached to an end node of a leg of a Seifert manifold plumbing graph in the Spherical, Pseudospherical and generic case."
   ]
  },
  {
   "cell_type": "code",
   "execution_count": 1,
   "id": "2f3a07e5",
   "metadata": {},
   "outputs": [],
   "source": [
    "load(\"../../pySeifert.sage\")"
   ]
  },
  {
   "cell_type": "markdown",
   "id": "e9d2498a",
   "metadata": {},
   "source": [
    "We start with the spherical example:"
   ]
  },
  {
   "cell_type": "code",
   "execution_count": 2,
   "id": "a6bd9c11",
   "metadata": {},
   "outputs": [
    {
     "data": {
      "text/plain": [
       "Seifert manifold with 3 exceptional fibers.\n",
       "Seifert data:\n",
       "[-1, 3, 5, 2, 7, 1, 9]\n",
       "Plumbing Matrix:\n",
       "[-1  1  0  1  0  1]\n",
       "[ 1 -2  1  0  0  0]\n",
       "[ 0  1 -3  0  0  0]\n",
       "[ 1  0  0 -4  1  0]\n",
       "[ 0  0  0  1 -2  0]\n",
       "[ 1  0  0  0  0 -9]\n",
       "D: 1, m: 315, det(M): 1"
      ]
     },
     "execution_count": 2,
     "metadata": {},
     "output_type": "execute_result"
    }
   ],
   "source": [
    "S = Seifert([-1,3,5,2,7,1,9]);S"
   ]
  },
  {
   "cell_type": "markdown",
   "id": "37370864",
   "metadata": {},
   "source": [
    "... and proceed to compute the boundary conditions."
   ]
  },
  {
   "cell_type": "code",
   "execution_count": 3,
   "id": "f4a8f316",
   "metadata": {},
   "outputs": [
    {
     "data": {
      "text/plain": [
       "[[(-1, -1), (0, 0), (1, 1), (0, 0), (1, 1), (1, 1)]]"
      ]
     },
     "execution_count": 3,
     "metadata": {},
     "output_type": "execute_result"
    }
   ],
   "source": [
    "B = S.boundary_conditions([\"A\",2],basis=\"weight\"); B"
   ]
  },
  {
   "cell_type": "markdown",
   "id": "aca398ea",
   "metadata": {},
   "source": [
    "In this example notebook we attach a Wilson operator in the $\\vec \\nu =(1,4)$ representation to the end node of the leg corresponding to $p_1$.\n",
    "\n",
    "For each $\\hat{w}$ we can compute the $\\hat{Z}$ integrand $\\tilde{\\chi}$. Choosing $\\hat{w}=(1,1,1)$ for example leads to:"
   ]
  },
  {
   "cell_type": "code",
   "execution_count": 4,
   "id": "2716e2ed",
   "metadata": {},
   "outputs": [
    {
     "data": {
      "text/plain": [
       "(z0^2*z1^2 - z0^4/z1^2 - z1^4/z0^2 + z0^2/z1^4 + z1^2/z0^4 - 1/(z0^2*z1^2))*q^772/(z0*z1 - z0^2/z1 - z1^2/z0 + z0/z1^2 + z1/z0^2 - 1/(z0*z1)) + q^411 - (z0^2*z1^2 - z0^4/z1^2 - z1^4/z0^2 + z0^2/z1^4 + z1^2/z0^4 - 1/(z0^2*z1^2))*q^360/(z0*z1 - z0^2/z1 - z1^2/z0 + z0/z1^2 + z1/z0^2 - 1/(z0*z1)) + q^222 - q^16"
      ]
     },
     "execution_count": 4,
     "metadata": {},
     "output_type": "execute_result"
    }
   ],
   "source": [
    "leg = 0\n",
    "nu = vector([1,4])\n",
    "wh = [identity_matrix(2) if d == 1 else matrix(2) for d in S.deg]\n",
    "chi_tilde = S.chi_tilde_wilson_end([\"A\",2],wh, B[0], 800, nu, leg, basis = \"weight\", qvar=None)\n",
    "chi_tilde"
   ]
  },
  {
   "cell_type": "markdown",
   "id": "ea62531c",
   "metadata": {},
   "source": [
    "Using equations 4.71 and 4.42 we can compute the index of the VOA character:"
   ]
  },
  {
   "cell_type": "code",
   "execution_count": 5,
   "id": "a02dc994",
   "metadata": {},
   "outputs": [
    {
     "data": {
      "text/plain": [
       "(207, 396)"
      ]
     },
     "execution_count": 5,
     "metadata": {},
     "output_type": "execute_result"
    }
   ],
   "source": [
    "rho = weyl_vector([\"A\",2])\n",
    "rho_it = iter([rho+nu,rho,rho])\n",
    "Aw = -1/S.m*sum([a* w * next(rho_it) for w,a,d in zip(wh,S.A,S.deg) if d == 1])\n",
    "mu = 1/sqrt(S.m)*(rho + S.m*Aw);sqrt(S.m)*mu"
   ]
  },
  {
   "cell_type": "markdown",
   "id": "2a20178c",
   "metadata": {},
   "source": [
    "Leading to the generalized character:"
   ]
  },
  {
   "cell_type": "code",
   "execution_count": 6,
   "id": "bffa7835",
   "metadata": {},
   "outputs": [
    {
     "data": {
      "text/plain": [
       "(z0^2*z1^2 - z0^4/z1^2 - z1^4/z0^2 + z0^2/z1^4 + z1^2/z0^4 - 1/(z0^2*z1^2))*q^(241327/315)/(z0*z1 - z0^2/z1 - z1^2/z0 + z0/z1^2 + z1/z0^2 - 1/(z0*z1)) + q^(127612/315) - (z0^2*z1^2 - z0^4/z1^2 - z1^4/z0^2 + z0^2/z1^4 + z1^2/z0^4 - 1/(z0^2*z1^2))*q^(111547/315)/(z0*z1 - z0^2/z1 - z1^2/z0 + z0/z1^2 + z1/z0^2 - 1/(z0*z1)) + q^(68077/315) - q^(3187/315)"
      ]
     },
     "execution_count": 6,
     "metadata": {},
     "output_type": "execute_result"
    }
   ],
   "source": [
    "trip_ch = triplet_character([\"A\",2],vector([0,0]),mu,S.m,S.f,expMax = 800,basis = \"weight\")\n",
    "trip_ch"
   ]
  },
  {
   "cell_type": "markdown",
   "id": "aed7f9ce",
   "metadata": {},
   "source": [
    "The insertion of a wilson operator will change the value of the exponent of the $q^\\delta$ prefactor, which, in this case will become:"
   ]
  },
  {
   "cell_type": "code",
   "execution_count": 7,
   "id": "c8121a50",
   "metadata": {},
   "outputs": [
    {
     "data": {
      "text/plain": [
       "1853/315"
      ]
     },
     "execution_count": 7,
     "metadata": {},
     "output_type": "execute_result"
    }
   ],
   "source": [
    "end_ind = sum([S.legs[i] for i in range(leg+1)])\n",
    "rho = weyl_vector([\"A\",2])\n",
    "d = S.delta([\"A\",2]) + (lattice_norm([\"A\",2],rho+nu, basis=\"weight\")- \\\n",
    "            lattice_norm([\"A\",2], rho, basis=basis)) / \\\n",
    "            2*(S.Minv[0, end_ind] ^ 2 /\n",
    "               S.Minv[0, 0]-S.Minv[end_ind, end_ind])\n",
    "d"
   ]
  },
  {
   "cell_type": "markdown",
   "id": "2e87b751",
   "metadata": {},
   "source": [
    "We can show that these $q$ series are the same:"
   ]
  },
  {
   "cell_type": "code",
   "execution_count": 8,
   "id": "c7553708",
   "metadata": {},
   "outputs": [
    {
     "data": {
      "text/plain": [
       "0"
      ]
     },
     "execution_count": 8,
     "metadata": {},
     "output_type": "execute_result"
    }
   ],
   "source": [
    "expand(chi_tilde - q^d*trip_ch)"
   ]
  },
  {
   "cell_type": "markdown",
   "id": "ddbc6993",
   "metadata": {},
   "source": [
    "The pseudospherical case is very similar. Since $D=1$ we still get an expression for the $\\hat{Z}$ integrand in terms of the triplet characters."
   ]
  },
  {
   "cell_type": "code",
   "execution_count": 9,
   "id": "70f77980",
   "metadata": {},
   "outputs": [],
   "source": [
    "S = Seifert([-1,1,2,1,3,1,9])\n",
    "B = S.boundary_conditions([\"A\",2],basis=\"weight\")\n",
    "wh = [identity_matrix(2) if d == 1 else matrix(2) for d in S.deg]"
   ]
  },
  {
   "cell_type": "markdown",
   "id": "440d888b",
   "metadata": {},
   "source": [
    "The only different with the spherical case is that we need to check that $S_{\\hat{w},\\vec{\\underline{b}}}$ is not empty."
   ]
  },
  {
   "cell_type": "code",
   "execution_count": 10,
   "id": "00e1153b",
   "metadata": {},
   "outputs": [
    {
     "data": {
      "text/plain": [
       "[(0, 0)]"
      ]
     },
     "execution_count": 10,
     "metadata": {},
     "output_type": "execute_result"
    }
   ],
   "source": [
    "rho_it = iter([rho+nu,rho,rho])\n",
    "whr = [w * next(rho_it) if d == 1 else vector([0,0]) for w,d in zip(wh,S.deg) ]\n",
    "S.S_set([\"A\",2],whr,B[0],basis=\"weight\")"
   ]
  },
  {
   "cell_type": "markdown",
   "id": "c7eada98",
   "metadata": {},
   "source": [
    "As above, we compute $\\tilde{\\chi}$ ..."
   ]
  },
  {
   "cell_type": "code",
   "execution_count": 11,
   "id": "1ae44a80",
   "metadata": {},
   "outputs": [
    {
     "data": {
      "text/plain": [
       "-(z0^7*z1 - z0^8/z1 - z1^8/z0^7 + z1^7/z0^8 + z0/z1^8 - 1/(z0*z1^7))*q^96/(z0*z1 - z0^2/z1 - z1^2/z0 + z0/z1^2 + z1/z0^2 - 1/(z0*z1)) + (z0^5*z1^2 - z0^7/z1^2 - z1^7/z0^5 + z1^5/z0^7 + z0^2/z1^7 - 1/(z0^2*z1^5))*q^93/(z0*z1 - z0^2/z1 - z1^2/z0 + z0/z1^2 + z1/z0^2 - 1/(z0*z1)) + (z0*z1^4 - z1^5/z0 - z0^5/z1^4 + z0^4/z1^5 + z1/z0^5 - 1/(z0^4*z1))*q^92/(z0*z1 - z0^2/z1 - z1^2/z0 + z0/z1^2 + z1/z0^2 - 1/(z0*z1)) + q^89 - (z0^4*z1^4 - z0^8/z1^4 - z1^8/z0^4 + z0^4/z1^8 + z1^4/z0^8 - 1/(z0^4*z1^4))*q^69/(z0*z1 - z0^2/z1 - z1^2/z0 + z0/z1^2 + z1/z0^2 - 1/(z0*z1)) - (z0^2*z1^5 - z1^7/z0^2 - z0^7/z1^5 + z0^5/z1^7 + z1^2/z0^7 - 1/(z0^5*z1^2))*q^68/(z0*z1 - z0^2/z1 - z1^2/z0 + z0/z1^2 + z1/z0^2 - 1/(z0*z1)) + (z0^2*z1^2 - z0^4/z1^2 - z1^4/z0^2 + z0^2/z1^4 + z1^2/z0^4 - 1/(z0^2*z1^2))*q^63/(z0*z1 - z0^2/z1 - z1^2/z0 + z0/z1^2 + z1/z0^2 - 1/(z0*z1)) + q^62 - (z0^5*z1^2 - z0^7/z1^2 - z1^7/z0^5 + z1^5/z0^7 + z0^2/z1^7 - 1/(z0^2*z1^5))*q^41/(z0*z1 - z0^2/z1 - z1^2/z0 + z0/z1^2 + z1/z0^2 - 1/(z0*z1)) - (z0*z1^4 - z1^5/z0 - z0^5/z1^4 + z0^4/z1^5 + z1/z0^5 - 1/(z0^4*z1))*q^39/(z0*z1 - z0^2/z1 - z1^2/z0 + z0/z1^2 + z1/z0^2 - 1/(z0*z1)) + (z0^4*z1 - z0^5/z1 - z1^5/z0^4 + z1^4/z0^5 + z0/z1^5 - 1/(z0*z1^4))*q^38/(z0*z1 - z0^2/z1 - z1^2/z0 + z0/z1^2 + z1/z0^2 - 1/(z0*z1)) - q^36 - (z0^3*z1^3 - z0^6/z1^3 - z1^6/z0^3 + z0^3/z1^6 + z1^3/z0^6 - 1/(z0^3*z1^3))*q^22/(z0*z1 - z0^2/z1 - z1^2/z0 + z0/z1^2 + z1/z0^2 - 1/(z0*z1)) - (z0^4*z1 - z0^5/z1 - z1^5/z0^4 + z1^4/z0^5 + z0/z1^5 - 1/(z0*z1^4))*q^12/(z0*z1 - z0^2/z1 - z1^2/z0 + z0/z1^2 + z1/z0^2 - 1/(z0*z1)) - (z0^2*z1^2 - z0^4/z1^2 - z1^4/z0^2 + z0^2/z1^4 + z1^2/z0^4 - 1/(z0^2*z1^2))*q^11/(z0*z1 - z0^2/z1 - z1^2/z0 + z0/z1^2 + z1/z0^2 - 1/(z0*z1))"
      ]
     },
     "execution_count": 11,
     "metadata": {},
     "output_type": "execute_result"
    }
   ],
   "source": [
    "chi_tilde = S.chi_tilde_wilson_end([\"A\",2],wh, B[0], 100, nu, leg, basis = \"weight\", qvar=None)\n",
    "chi_tilde"
   ]
  },
  {
   "cell_type": "markdown",
   "id": "16d6ade4",
   "metadata": {},
   "source": [
    "... the index and the triplet character..."
   ]
  },
  {
   "cell_type": "code",
   "execution_count": 12,
   "id": "d403fed2",
   "metadata": {},
   "outputs": [
    {
     "data": {
      "text/plain": [
       "-(z0^6*z1^3 - z0^9/z1^3 - z1^9/z0^6 + z1^6/z0^9 + z0^3/z1^9 - 1/(z0^3*z1^6))*q^(1783/18)/(z0*z1 - z0^2/z1 - z1^2/z0 + z0/z1^2 + z1/z0^2 - 1/(z0*z1)) + (z0^3*z1^3 - z0^6/z1^3 - z1^6/z0^3 + z0^3/z1^6 + z1^3/z0^6 - 1/(z0^3*z1^3))*q^(1675/18)/(z0*z1 - z0^2/z1 - z1^2/z0 + z0/z1^2 + z1/z0^2 - 1/(z0*z1)) - (z0^7*z1 - z0^8/z1 - z1^8/z0^7 + z1^7/z0^8 + z0/z1^8 - 1/(z0*z1^7))*q^(1603/18)/(z0*z1 - z0^2/z1 - z1^2/z0 + z0/z1^2 + z1/z0^2 - 1/(z0*z1)) + (z0^5*z1^2 - z0^7/z1^2 - z1^7/z0^5 + z1^5/z0^7 + z0^2/z1^7 - 1/(z0^2*z1^5))*q^(1549/18)/(z0*z1 - z0^2/z1 - z1^2/z0 + z0/z1^2 + z1/z0^2 - 1/(z0*z1)) + (z0*z1^4 - z1^5/z0 - z0^5/z1^4 + z0^4/z1^5 + z1/z0^5 - 1/(z0^4*z1))*q^(1531/18)/(z0*z1 - z0^2/z1 - z1^2/z0 + z0/z1^2 + z1/z0^2 - 1/(z0*z1)) + q^(1477/18) - (z0^4*z1^4 - z0^8/z1^4 - z1^8/z0^4 + z0^4/z1^8 + z1^4/z0^8 - 1/(z0^4*z1^4))*q^(1117/18)/(z0*z1 - z0^2/z1 - z1^2/z0 + z0/z1^2 + z1/z0^2 - 1/(z0*z1)) - (z0^2*z1^5 - z1^7/z0^2 - z0^7/z1^5 + z0^5/z1^7 + z1^2/z0^7 - 1/(z0^5*z1^2))*q^(1099/18)/(z0*z1 - z0^2/z1 - z1^2/z0 + z0/z1^2 + z1/z0^2 - 1/(z0*z1)) + (z0^2*z1^2 - z0^4/z1^2 - z1^4/z0^2 + z0^2/z1^4 + z1^2/z0^4 - 1/(z0^2*z1^2))*q^(1009/18)/(z0*z1 - z0^2/z1 - z1^2/z0 + z0/z1^2 + z1/z0^2 - 1/(z0*z1)) + q^(991/18) - (z0^5*z1^2 - z0^7/z1^2 - z1^7/z0^5 + z1^5/z0^7 + z0^2/z1^7 - 1/(z0^2*z1^5))*q^(613/18)/(z0*z1 - z0^2/z1 - z1^2/z0 + z0/z1^2 + z1/z0^2 - 1/(z0*z1)) - (z0*z1^4 - z1^5/z0 - z0^5/z1^4 + z0^4/z1^5 + z1/z0^5 - 1/(z0^4*z1))*q^(577/18)/(z0*z1 - z0^2/z1 - z1^2/z0 + z0/z1^2 + z1/z0^2 - 1/(z0*z1)) + (z0^4*z1 - z0^5/z1 - z1^5/z0^4 + z1^4/z0^5 + z0/z1^5 - 1/(z0*z1^4))*q^(559/18)/(z0*z1 - z0^2/z1 - z1^2/z0 + z0/z1^2 + z1/z0^2 - 1/(z0*z1)) - q^(523/18) - (z0^3*z1^3 - z0^6/z1^3 - z1^6/z0^3 + z0^3/z1^6 + z1^3/z0^6 - 1/(z0^3*z1^3))*q^(271/18)/(z0*z1 - z0^2/z1 - z1^2/z0 + z0/z1^2 + z1/z0^2 - 1/(z0*z1)) - (z0^4*z1 - z0^5/z1 - z1^5/z0^4 + z1^4/z0^5 + z0/z1^5 - 1/(z0*z1^4))*q^(91/18)/(z0*z1 - z0^2/z1 - z1^2/z0 + z0/z1^2 + z1/z0^2 - 1/(z0*z1)) - (z0^2*z1^2 - z0^4/z1^2 - z1^4/z0^2 + z0^2/z1^4 + z1^2/z0^4 - 1/(z0^2*z1^2))*q^(73/18)/(z0*z1 - z0^2/z1 - z1^2/z0 + z0/z1^2 + z1/z0^2 - 1/(z0*z1))"
      ]
     },
     "execution_count": 12,
     "metadata": {},
     "output_type": "execute_result"
    }
   ],
   "source": [
    "rho_it = iter([rho+nu,rho,rho])\n",
    "Aw = -1/S.m*sum([a* w * next(rho_it) for w,a,d in zip(wh,S.A,S.deg) if d == 1])\n",
    "mu = 1/sqrt(S.m)*(rho + S.m*Aw);sqrt(S.m)*mu\n",
    "trip_ch = triplet_character([\"A\",2],vector([0,0]),mu,S.m,S.f,expMax = 100,basis = \"weight\")\n",
    "trip_ch\n"
   ]
  },
  {
   "cell_type": "markdown",
   "id": "51311899",
   "metadata": {},
   "source": [
    "... and lastly the modified $\\delta$..."
   ]
  },
  {
   "cell_type": "code",
   "execution_count": 13,
   "id": "bb90e8d7",
   "metadata": {},
   "outputs": [
    {
     "data": {
      "text/plain": [
       "125/18"
      ]
     },
     "execution_count": 13,
     "metadata": {},
     "output_type": "execute_result"
    }
   ],
   "source": [
    "end_ind = sum([S.legs[i] for i in range(leg+1)])\n",
    "d = S.delta([\"A\",2]) + (lattice_norm([\"A\",2],rho+nu, basis=\"weight\")- \\\n",
    "            lattice_norm([\"A\",2], rho, basis=\"weight\")) / \\\n",
    "            2*(S.Minv[0, end_ind] ^ 2 /\n",
    "               S.Minv[0, 0]-S.Minv[end_ind, end_ind])\n",
    "d"
   ]
  },
  {
   "cell_type": "markdown",
   "id": "d859dc2f",
   "metadata": {},
   "source": [
    "So we can compare the two expressions:"
   ]
  },
  {
   "cell_type": "code",
   "execution_count": 14,
   "id": "9f27f70b",
   "metadata": {},
   "outputs": [
    {
     "data": {
      "text/plain": [
       "Order(q^100)"
      ]
     },
     "execution_count": 14,
     "metadata": {},
     "output_type": "execute_result"
    }
   ],
   "source": [
    "expand(chi_tilde - q^d*trip_ch).series(q,100)"
   ]
  },
  {
   "cell_type": "markdown",
   "id": "9480d5c7",
   "metadata": {},
   "source": [
    "In the general case, where $D>1$, we need to sum over boundary conditions $\\Delta b$ in order to recover the triplet character. "
   ]
  },
  {
   "cell_type": "code",
   "execution_count": 15,
   "id": "7947f161",
   "metadata": {},
   "outputs": [],
   "source": [
    "S = Seifert([-1,1,3,-1,2,-1,2])\n",
    "B = S.boundary_conditions([\"A\",2],basis = \"weight\")\n",
    "wh = [identity_matrix(2) if d == 1 else matrix(2) for d in S.deg]"
   ]
  },
  {
   "cell_type": "markdown",
   "id": "692bf3fe",
   "metadata": {},
   "source": [
    "Asin the pseudospherical case, we check that $S_{\\hat{w},\\vec{\\underline{b}}}$ is not empty"
   ]
  },
  {
   "cell_type": "code",
   "execution_count": 16,
   "id": "ba79a379",
   "metadata": {},
   "outputs": [
    {
     "data": {
      "text/plain": [
       "[(8, -1)]"
      ]
     },
     "execution_count": 16,
     "metadata": {},
     "output_type": "execute_result"
    }
   ],
   "source": [
    "rho_it = iter([rho+nu,rho,rho])\n",
    "whr = [w * next(rho_it) if d == 1 else vector([0,0]) for w,d in zip(wh,S.deg) ]\n",
    "S.S_set([\"A\",2],whr,B[0],basis=\"weight\")"
   ]
  },
  {
   "cell_type": "markdown",
   "id": "da58a8c5",
   "metadata": {},
   "source": [
    "In the general case we compare the triplet character with the sum over boundary conditions of $\\tilde{\\chi}$:"
   ]
  },
  {
   "cell_type": "code",
   "execution_count": 17,
   "id": "1b2dd6a5",
   "metadata": {},
   "outputs": [
    {
     "data": {
      "text/plain": [
       "-(z0^3*z1^3 - z0^6/z1^3 - z1^6/z0^3 + z0^3/z1^6 + z1^3/z0^6 - 1/(z0^3*z1^3))*q^(4427/500)/(z0*z1 - z0^2/z1 - z1^2/z0 + z0/z1^2 + z1/z0^2 - 1/(z0*z1)) + 2*(z0^3*z1^3 - z0^6/z1^3 - z1^6/z0^3 + z0^3/z1^6 + z1^3/z0^6 - 1/(z0^3*z1^3))*q^(4397/500)/(z0*z1 - z0^2/z1 - z1^2/z0 + z0/z1^2 + z1/z0^2 - 1/(z0*z1)) - 2*(z0^3*z1^3 - z0^6/z1^3 - z1^6/z0^3 + z0^3/z1^6 + z1^3/z0^6 - 1/(z0^3*z1^3))*q^(4337/500)/(z0*z1 - z0^2/z1 - z1^2/z0 + z0/z1^2 + z1/z0^2 - 1/(z0*z1)) + (z0^3*z1^3 - z0^6/z1^3 - z1^6/z0^3 + z0^3/z1^6 + z1^3/z0^6 - 1/(z0^3*z1^3))*q^(4307/500)/(z0*z1 - z0^2/z1 - z1^2/z0 + z0/z1^2 + z1/z0^2 - 1/(z0*z1)) - (z0^4*z1 - z0^5/z1 - z1^5/z0^4 + z1^4/z0^5 + z0/z1^5 - 1/(z0*z1^4))*q^(3817/500)/(z0*z1 - z0^2/z1 - z1^2/z0 + z0/z1^2 + z1/z0^2 - 1/(z0*z1)) - (z0*z1^4 - z1^5/z0 - z0^5/z1^4 + z0^4/z1^5 + z1/z0^5 - 1/(z0^4*z1))*q^(3817/500)/(z0*z1 - z0^2/z1 - z1^2/z0 + z0/z1^2 + z1/z0^2 - 1/(z0*z1)) + (z0^4*z1 - z0^5/z1 - z1^5/z0^4 + z1^4/z0^5 + z0/z1^5 - 1/(z0*z1^4))*q^(3807/500)/(z0*z1 - z0^2/z1 - z1^2/z0 + z0/z1^2 + z1/z0^2 - 1/(z0*z1)) + (z0*z1^4 - z1^5/z0 - z0^5/z1^4 + z0^4/z1^5 + z1/z0^5 - 1/(z0^4*z1))*q^(3807/500)/(z0*z1 - z0^2/z1 - z1^2/z0 + z0/z1^2 + z1/z0^2 - 1/(z0*z1)) + (z0^4*z1 - z0^5/z1 - z1^5/z0^4 + z1^4/z0^5 + z0/z1^5 - 1/(z0*z1^4))*q^(3777/500)/(z0*z1 - z0^2/z1 - z1^2/z0 + z0/z1^2 + z1/z0^2 - 1/(z0*z1)) + (z0*z1^4 - z1^5/z0 - z0^5/z1^4 + z0^4/z1^5 + z1/z0^5 - 1/(z0^4*z1))*q^(3777/500)/(z0*z1 - z0^2/z1 - z1^2/z0 + z0/z1^2 + z1/z0^2 - 1/(z0*z1)) - (z0^4*z1 - z0^5/z1 - z1^5/z0^4 + z1^4/z0^5 + z0/z1^5 - 1/(z0*z1^4))*q^(3757/500)/(z0*z1 - z0^2/z1 - z1^2/z0 + z0/z1^2 + z1/z0^2 - 1/(z0*z1)) - (z0*z1^4 - z1^5/z0 - z0^5/z1^4 + z0^4/z1^5 + z1/z0^5 - 1/(z0^4*z1))*q^(3757/500)/(z0*z1 - z0^2/z1 - z1^2/z0 + z0/z1^2 + z1/z0^2 - 1/(z0*z1)) - (z0^4*z1 - z0^5/z1 - z1^5/z0^4 + z1^4/z0^5 + z0/z1^5 - 1/(z0*z1^4))*q^(3727/500)/(z0*z1 - z0^2/z1 - z1^2/z0 + z0/z1^2 + z1/z0^2 - 1/(z0*z1)) - (z0*z1^4 - z1^5/z0 - z0^5/z1^4 + z0^4/z1^5 + z1/z0^5 - 1/(z0^4*z1))*q^(3727/500)/(z0*z1 - z0^2/z1 - z1^2/z0 + z0/z1^2 + z1/z0^2 - 1/(z0*z1)) + (z0^4*z1 - z0^5/z1 - z1^5/z0^4 + z1^4/z0^5 + z0/z1^5 - 1/(z0*z1^4))*q^(3717/500)/(z0*z1 - z0^2/z1 - z1^2/z0 + z0/z1^2 + z1/z0^2 - 1/(z0*z1)) + (z0*z1^4 - z1^5/z0 - z0^5/z1^4 + z0^4/z1^5 + z1/z0^5 - 1/(z0^4*z1))*q^(3717/500)/(z0*z1 - z0^2/z1 - z1^2/z0 + z0/z1^2 + z1/z0^2 - 1/(z0*z1)) - (z0^2*z1^2 - z0^4/z1^2 - z1^4/z0^2 + z0^2/z1^4 + z1^2/z0^4 - 1/(z0^2*z1^2))*q^(2907/500)/(z0*z1 - z0^2/z1 - z1^2/z0 + z0/z1^2 + z1/z0^2 - 1/(z0*z1)) + 2*(z0^2*z1^2 - z0^4/z1^2 - z1^4/z0^2 + z0^2/z1^4 + z1^2/z0^4 - 1/(z0^2*z1^2))*q^(2887/500)/(z0*z1 - z0^2/z1 - z1^2/z0 + z0/z1^2 + z1/z0^2 - 1/(z0*z1)) - 2*(z0^2*z1^2 - z0^4/z1^2 - z1^4/z0^2 + z0^2/z1^4 + z1^2/z0^4 - 1/(z0^2*z1^2))*q^(2847/500)/(z0*z1 - z0^2/z1 - z1^2/z0 + z0/z1^2 + z1/z0^2 - 1/(z0*z1)) + (z0^2*z1^2 - z0^4/z1^2 - z1^4/z0^2 + z0^2/z1^4 + z1^2/z0^4 - 1/(z0^2*z1^2))*q^(2827/500)/(z0*z1 - z0^2/z1 - z1^2/z0 + z0/z1^2 + z1/z0^2 - 1/(z0*z1)) - q^(1987/500) + 2*q^(1977/500) - 2*q^(1957/500) + q^(1947/500)"
      ]
     },
     "execution_count": 17,
     "metadata": {},
     "output_type": "execute_result"
    }
   ],
   "source": [
    "chi_tot = 0\n",
    "b0 = B[0]\n",
    "C2 = cartan_matrix([\"A\",2])\n",
    "for db in itertools.product(range(S.d), repeat=2):\n",
    "    db = C2*vector(db)\n",
    "    chi_tot +=  S.chi_tilde_wilson_end([\"A\",2],wh, [b0[0]+db]+b0[1:], 100/S.d, nu, leg, basis = \"weight\")\n",
    "chi_tot"
   ]
  },
  {
   "cell_type": "markdown",
   "id": "48a55a59",
   "metadata": {},
   "source": [
    "The triplet character and modified $\\delta$ are:"
   ]
  },
  {
   "cell_type": "code",
   "execution_count": 18,
   "id": "c37e35e3",
   "metadata": {},
   "outputs": [
    {
     "data": {
      "text/plain": [
       "(-(z0^3*z1^3 - z0^6/z1^3 - z1^6/z0^3 + z0^3/z1^6 + z1^3/z0^6 - 1/(z0^3*z1^3))*q^(8281/150)/(z0*z1 - z0^2/z1 - z1^2/z0 + z0/z1^2 + z1/z0^2 - 1/(z0*z1)) + 2*(z0^3*z1^3 - z0^6/z1^3 - z1^6/z0^3 + z0^3/z1^6 + z1^3/z0^6 - 1/(z0^3*z1^3))*q^(8191/150)/(z0*z1 - z0^2/z1 - z1^2/z0 + z0/z1^2 + z1/z0^2 - 1/(z0*z1)) - 2*(z0^3*z1^3 - z0^6/z1^3 - z1^6/z0^3 + z0^3/z1^6 + z1^3/z0^6 - 1/(z0^3*z1^3))*q^(8011/150)/(z0*z1 - z0^2/z1 - z1^2/z0 + z0/z1^2 + z1/z0^2 - 1/(z0*z1)) + (z0^3*z1^3 - z0^6/z1^3 - z1^6/z0^3 + z0^3/z1^6 + z1^3/z0^6 - 1/(z0^3*z1^3))*q^(7921/150)/(z0*z1 - z0^2/z1 - z1^2/z0 + z0/z1^2 + z1/z0^2 - 1/(z0*z1)) - (z0^4*z1 - z0^5/z1 - z1^5/z0^4 + z1^4/z0^5 + z0/z1^5 - 1/(z0*z1^4))*q^(6451/150)/(z0*z1 - z0^2/z1 - z1^2/z0 + z0/z1^2 + z1/z0^2 - 1/(z0*z1)) - (z0*z1^4 - z1^5/z0 - z0^5/z1^4 + z0^4/z1^5 + z1/z0^5 - 1/(z0^4*z1))*q^(6451/150)/(z0*z1 - z0^2/z1 - z1^2/z0 + z0/z1^2 + z1/z0^2 - 1/(z0*z1)) + (z0^4*z1 - z0^5/z1 - z1^5/z0^4 + z1^4/z0^5 + z0/z1^5 - 1/(z0*z1^4))*q^(6421/150)/(z0*z1 - z0^2/z1 - z1^2/z0 + z0/z1^2 + z1/z0^2 - 1/(z0*z1)) + (z0*z1^4 - z1^5/z0 - z0^5/z1^4 + z0^4/z1^5 + z1/z0^5 - 1/(z0^4*z1))*q^(6421/150)/(z0*z1 - z0^2/z1 - z1^2/z0 + z0/z1^2 + z1/z0^2 - 1/(z0*z1)) + (z0^4*z1 - z0^5/z1 - z1^5/z0^4 + z1^4/z0^5 + z0/z1^5 - 1/(z0*z1^4))*q^(6331/150)/(z0*z1 - z0^2/z1 - z1^2/z0 + z0/z1^2 + z1/z0^2 - 1/(z0*z1)) + (z0*z1^4 - z1^5/z0 - z0^5/z1^4 + z0^4/z1^5 + z1/z0^5 - 1/(z0^4*z1))*q^(6331/150)/(z0*z1 - z0^2/z1 - z1^2/z0 + z0/z1^2 + z1/z0^2 - 1/(z0*z1)) - (z0^4*z1 - z0^5/z1 - z1^5/z0^4 + z1^4/z0^5 + z0/z1^5 - 1/(z0*z1^4))*q^(6271/150)/(z0*z1 - z0^2/z1 - z1^2/z0 + z0/z1^2 + z1/z0^2 - 1/(z0*z1)) - (z0*z1^4 - z1^5/z0 - z0^5/z1^4 + z0^4/z1^5 + z1/z0^5 - 1/(z0^4*z1))*q^(6271/150)/(z0*z1 - z0^2/z1 - z1^2/z0 + z0/z1^2 + z1/z0^2 - 1/(z0*z1)) - (z0^4*z1 - z0^5/z1 - z1^5/z0^4 + z1^4/z0^5 + z0/z1^5 - 1/(z0*z1^4))*q^(6181/150)/(z0*z1 - z0^2/z1 - z1^2/z0 + z0/z1^2 + z1/z0^2 - 1/(z0*z1)) - (z0*z1^4 - z1^5/z0 - z0^5/z1^4 + z0^4/z1^5 + z1/z0^5 - 1/(z0^4*z1))*q^(6181/150)/(z0*z1 - z0^2/z1 - z1^2/z0 + z0/z1^2 + z1/z0^2 - 1/(z0*z1)) + (z0^4*z1 - z0^5/z1 - z1^5/z0^4 + z1^4/z0^5 + z0/z1^5 - 1/(z0*z1^4))*q^(6151/150)/(z0*z1 - z0^2/z1 - z1^2/z0 + z0/z1^2 + z1/z0^2 - 1/(z0*z1)) + (z0*z1^4 - z1^5/z0 - z0^5/z1^4 + z0^4/z1^5 + z1/z0^5 - 1/(z0^4*z1))*q^(6151/150)/(z0*z1 - z0^2/z1 - z1^2/z0 + z0/z1^2 + z1/z0^2 - 1/(z0*z1)) - (z0^2*z1^2 - z0^4/z1^2 - z1^4/z0^2 + z0^2/z1^4 + z1^2/z0^4 - 1/(z0^2*z1^2))*q^(3721/150)/(z0*z1 - z0^2/z1 - z1^2/z0 + z0/z1^2 + z1/z0^2 - 1/(z0*z1)) + 2*(z0^2*z1^2 - z0^4/z1^2 - z1^4/z0^2 + z0^2/z1^4 + z1^2/z0^4 - 1/(z0^2*z1^2))*q^(3661/150)/(z0*z1 - z0^2/z1 - z1^2/z0 + z0/z1^2 + z1/z0^2 - 1/(z0*z1)) - 2*(z0^2*z1^2 - z0^4/z1^2 - z1^4/z0^2 + z0^2/z1^4 + z1^2/z0^4 - 1/(z0^2*z1^2))*q^(3541/150)/(z0*z1 - z0^2/z1 - z1^2/z0 + z0/z1^2 + z1/z0^2 - 1/(z0*z1)) + (z0^2*z1^2 - z0^4/z1^2 - z1^4/z0^2 + z0^2/z1^4 + z1^2/z0^4 - 1/(z0^2*z1^2))*q^(3481/150)/(z0*z1 - z0^2/z1 - z1^2/z0 + z0/z1^2 + z1/z0^2 - 1/(z0*z1)) - q^(961/150) + 2*q^(931/150) - 2*q^(871/150) + q^(841/150),\n",
       " 10/3)"
      ]
     },
     "execution_count": 18,
     "metadata": {},
     "output_type": "execute_result"
    }
   ],
   "source": [
    "d = S.delta([\"A\",2]) + (lattice_norm([\"A\",2],rho+nu, basis=\"weight\")- \\\n",
    "            lattice_norm([\"A\",2], rho, basis=\"weight\")) / \\\n",
    "            2*(S.Minv[0, end_ind] ^ 2 /\n",
    "               S.Minv[0, 0]-S.Minv[end_ind, end_ind])\n",
    "\n",
    "rho_it = iter([rho+nu,rho,rho])\n",
    "Aw = -1/S.m*sum([a* w * next(rho_it) for w,a,d in zip(wh,S.A,S.deg) if d == 1])\n",
    "mu = 1/sqrt(S.m)*(rho + S.m*Aw);sqrt(S.m)*mu\n",
    "trip_ch = triplet_character([\"A\",2],vector([0,0]),mu,S.m,S.f,expMax = 100-d*S.d,basis = \"weight\")\n",
    "end_ind = sum([S.legs[i] for i in range(leg+1)])\n",
    "\n",
    "trip_ch,d"
   ]
  },
  {
   "cell_type": "markdown",
   "id": "f6d6f8de",
   "metadata": {},
   "source": [
    "leading to:"
   ]
  },
  {
   "cell_type": "code",
   "execution_count": 19,
   "id": "e9a4cfcd",
   "metadata": {},
   "outputs": [
    {
     "data": {
      "text/plain": [
       "0"
      ]
     },
     "execution_count": 19,
     "metadata": {},
     "output_type": "execute_result"
    }
   ],
   "source": [
    "chi_tot_dil = 0\n",
    "for pref,exp in chi_tot.coefficients(q):\n",
    "    chi_tot_dil += pref * q^(S.d*exp)\n",
    "expand(chi_tot_dil-q^(d*S.d)*trip_ch)"
   ]
  }
 ],
 "metadata": {
  "kernelspec": {
   "display_name": "SageMath 9.6",
   "language": "sage",
   "name": "sagemath"
  },
  "language_info": {
   "codemirror_mode": {
    "name": "ipython",
    "version": 3
   },
   "file_extension": ".py",
   "mimetype": "text/x-python",
   "name": "python",
   "nbconvert_exporter": "python",
   "pygments_lexer": "ipython3",
   "version": "3.10.4"
  },
  "vscode": {
   "interpreter": {
    "hash": "e7370f93d1d0cde622a1f8e1c04877d8463912d04d973331ad4851f04de6915a"
   }
  }
 },
 "nbformat": 4,
 "nbformat_minor": 5
}
