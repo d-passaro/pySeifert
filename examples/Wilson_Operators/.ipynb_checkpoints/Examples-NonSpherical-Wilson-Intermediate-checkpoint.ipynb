{
 "cells": [
  {
   "cell_type": "markdown",
   "id": "7874aa55",
   "metadata": {},
   "source": [
    "# 3-Manifolds and Log VOA\n",
    "## Example section companion notebook"
   ]
  },
  {
   "cell_type": "code",
   "execution_count": 1,
   "id": "2f3a07e5",
   "metadata": {},
   "outputs": [],
   "source": [
    "# Load packages and pySeifert\n",
    "import numpy as np\n",
    "import itertools\n",
    "load(\"../../pySeifert.sage\")"
   ]
  },
  {
   "cell_type": "markdown",
   "id": "e9d2498a",
   "metadata": {},
   "source": [
    "After loading the Seifert class and other packages needed for the computation, we define the Seifert manifold."
   ]
  },
  {
   "cell_type": "code",
   "execution_count": 2,
   "id": "a6bd9c11",
   "metadata": {},
   "outputs": [
    {
     "data": {
      "text/plain": [
       "Seifert manifold with 3 exceptional fibers.\n",
       "Seifert data:\n",
       "[-1, 3, 5, 2, 7, 1, 9]\n",
       "Plumbing Matrix:\n",
       "[-1  1  0  1  0  1]\n",
       "[ 1 -2  1  0  0  0]\n",
       "[ 0  1 -3  0  0  0]\n",
       "[ 1  0  0 -4  1  0]\n",
       "[ 0  0  0  1 -2  0]\n",
       "[ 1  0  0  0  0 -9]\n",
       "D: 1, m: 315, det(M): 1"
      ]
     },
     "execution_count": 2,
     "metadata": {},
     "output_type": "execute_result"
    }
   ],
   "source": [
    "load(\"../../pySeifert.sage\")\n",
    "S = Seifert([-1,3,5,2,7,1,9]);S"
   ]
  },
  {
   "cell_type": "markdown",
   "id": "5a94db10",
   "metadata": {},
   "source": [
    "$S$ is a spherical manifold therefore the plumbing matrix is unitary and we have $D=1$.\n",
    "We can proceed by computing the $\\mathcal B$ set and the $\\vec s$ values for $A_2$."
   ]
  },
  {
   "cell_type": "code",
   "execution_count": 3,
   "id": "f4a8f316",
   "metadata": {},
   "outputs": [
    {
     "data": {
      "text/plain": [
       "[[(-1, -1), (0, 0), (1, 1), (0, 0), (1, 1), (1, 1)]]"
      ]
     },
     "execution_count": 3,
     "metadata": {},
     "output_type": "execute_result"
    }
   ],
   "source": [
    "B = S.bSet(2); B"
   ]
  },
  {
   "cell_type": "markdown",
   "id": "3a9779b5",
   "metadata": {},
   "source": [
    "$\\mathcal B$ only contains the trivial $\\vec{\\underline{b}}_0$. This is expected because $S$ is a Brieskorn sphere."
   ]
  },
  {
   "cell_type": "code",
   "execution_count": 4,
   "id": "47bcf1fe",
   "metadata": {},
   "outputs": [
    {
     "data": {
      "text/plain": [
       "(216,\n",
       " [(-1, (143, 143), (0, 0)), (1, (73, 178), (0, 0)), (1, (178, 73), (0, 0))])"
      ]
     },
     "execution_count": 4,
     "metadata": {},
     "output_type": "execute_result"
    }
   ],
   "source": [
    "b0 = B[0]\n",
    "sVals = list()\n",
    "lVals = list()\n",
    "kVals = list()\n",
    "for l,s,k in S.sVals(b0, basis = \"weight\"):\n",
    "    lVals += [l]\n",
    "    sVals += [s]\n",
    "    kVals += [k]\n",
    "len(sVals),list(zip(lVals,sVals,kVals))[:3]"
   ]
  },
  {
   "cell_type": "code",
   "execution_count": 6,
   "id": "9010741b",
   "metadata": {
    "scrolled": true
   },
   "outputs": [
    {
     "name": "stdout",
     "output_type": "stream",
     "text": [
      "(-46/315, -424/315) 1916/315\n"
     ]
    },
    {
     "data": {
      "text/plain": [
       "-(z0*z1^4 - z1^5/z0 - z0^5/z1^4 + z0^4/z1^5 + z1/z0^5 - 1/(z0^4*z1))*q^(3263/5)/(z0*z1 - z0^2/z1 - z1^2/z0 + z0/z1^2 + z1/z0^2 - 1/(z0*z1)) + q^(2523/5) + q^(1833/5) - (z0^2*z1^2 - z0^4/z1^2 - z1^4/z0^2 + z0^2/z1^4 + z1^2/z0^4 - 1/(z0^2*z1^2))*q^(888/5)/(z0*z1 - z0^2/z1 - z1^2/z0 + z0/z1^2 + z1/z0^2 - 1/(z0*z1)) - q^(173/5)"
      ]
     },
     "execution_count": 6,
     "metadata": {},
     "output_type": "execute_result"
    }
   ],
   "source": [
    "WG = AWeylGroup(2, basis = \"weight\")\n",
    "wh = [WG[0] if d == 1 else matrix(2) for d in S.deg]\n",
    "sig = vector([1,4])\n",
    "expMax = 773\n",
    "leg = 0\n",
    "step = 1\n",
    "wp = WG[1]\n",
    "S.ChitWMid( wh, wp, b0, 700, sig, leg, step, basis = \"weight\")"
   ]
  },
  {
   "cell_type": "code",
   "execution_count": 36,
   "id": "23a2aaea",
   "metadata": {},
   "outputs": [
    {
     "data": {
      "text/plain": [
       "-q^(3263/5)*z0*z1^4/(z0*z1 - z0^2/z1 - z1^2/z0 + z0/z1^2 + z1/z0^2 - 1/(z0*z1)) + q^(3263/5)*z1^5/((z0*z1 - z0^2/z1 - z1^2/z0 + z0/z1^2 + z1/z0^2 - 1/(z0*z1))*z0) + q^(3263/5)*z0^5/((z0*z1 - z0^2/z1 - z1^2/z0 + z0/z1^2 + z1/z0^2 - 1/(z0*z1))*z1^4) - q^(3263/5)*z0^4/((z0*z1 - z0^2/z1 - z1^2/z0 + z0/z1^2 + z1/z0^2 - 1/(z0*z1))*z1^5) - q^(3263/5)*z1/((z0*z1 - z0^2/z1 - z1^2/z0 + z0/z1^2 + z1/z0^2 - 1/(z0*z1))*z0^5) + q^(3263/5)/((z0*z1 - z0^2/z1 - z1^2/z0 + z0/z1^2 + z1/z0^2 - 1/(z0*z1))*z0^4*z1) + q^(2523/5) + q^(1833/5) - q^(888/5)*z0^2*z1^2/(z0*z1 - z0^2/z1 - z1^2/z0 + z0/z1^2 + z1/z0^2 - 1/(z0*z1)) + q^(888/5)*z0^4/((z0*z1 - z0^2/z1 - z1^2/z0 + z0/z1^2 + z1/z0^2 - 1/(z0*z1))*z1^2) + q^(888/5)*z1^4/((z0*z1 - z0^2/z1 - z1^2/z0 + z0/z1^2 + z1/z0^2 - 1/(z0*z1))*z0^2) - q^(888/5)*z0^2/((z0*z1 - z0^2/z1 - z1^2/z0 + z0/z1^2 + z1/z0^2 - 1/(z0*z1))*z1^4) - q^(888/5)*z1^2/((z0*z1 - z0^2/z1 - z1^2/z0 + z0/z1^2 + z1/z0^2 - 1/(z0*z1))*z0^4) + q^(888/5)/((z0*z1 - z0^2/z1 - z1^2/z0 + z0/z1^2 + z1/z0^2 - 1/(z0*z1))*z0^2*z1^2) - q^(173/5)"
      ]
     },
     "execution_count": 36,
     "metadata": {},
     "output_type": "execute_result"
    }
   ],
   "source": [
    "Aw = CartanM(2)*vector([-46/315, -424/315])\n",
    "rho = vector([1,1])\n",
    "mu = 1/sqrt(S.m)*(rho + S.m*Aw)\n",
    "expand(q^(1916/315)*S.TripletCharacter(vector([0,0]),mu,expMax = 700-1916/315,basis = \"weight\"))"
   ]
  },
  {
   "cell_type": "code",
   "execution_count": 37,
   "id": "65c89f37",
   "metadata": {},
   "outputs": [
    {
     "name": "stdout",
     "output_type": "stream",
     "text": [
      "(-46/315, -424/315) 1916/315\n"
     ]
    },
    {
     "data": {
      "text/plain": [
       "0"
      ]
     },
     "execution_count": 37,
     "metadata": {},
     "output_type": "execute_result"
    }
   ],
   "source": [
    "expand(S.ChitWMid( wh, wp, b0, 700, sig, leg, step, basis = \"weight\")-q^(1916/315)*S.TripletCharacter(vector([0,0]),mu,expMax = 700-1916/315,basis = \"weight\"))"
   ]
  },
  {
   "cell_type": "code",
   "execution_count": null,
   "id": "d7546dca",
   "metadata": {},
   "outputs": [],
   "source": []
  }
 ],
 "metadata": {
  "kernelspec": {
   "display_name": "SageMath 9.3 - for VSCode",
   "language": "python",
   "name": "undefined.--python#sage.repl.ipython_kernel.--python#sage.repl.ipython_kernel.--python#sage.repl.ipython_kernel.--python#sage.repl.ipython_kernel.--python#sage.repl.ipython_kernel"
  },
  "language_info": {
   "codemirror_mode": {
    "name": "ipython",
    "version": 3
   },
   "file_extension": ".py",
   "mimetype": "text/x-python",
   "name": "python",
   "nbconvert_exporter": "python",
   "pygments_lexer": "ipython3",
   "version": "3.8.10"
  }
 },
 "nbformat": 4,
 "nbformat_minor": 5
}
