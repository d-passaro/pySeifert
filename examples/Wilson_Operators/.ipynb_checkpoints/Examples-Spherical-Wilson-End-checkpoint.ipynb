{
 "cells": [
  {
   "cell_type": "markdown",
   "id": "7874aa55",
   "metadata": {},
   "source": [
    "# 3-Manifolds and Log VOA\n",
    "## Example section companion notebook"
   ]
  },
  {
   "cell_type": "code",
   "execution_count": 52,
   "id": "2f3a07e5",
   "metadata": {},
   "outputs": [],
   "source": [
    "# Load packages and pySeifert\n",
    "import numpy as np\n",
    "import itertools\n",
    "load(\"../../pySeifert.sage\")"
   ]
  },
  {
   "cell_type": "markdown",
   "id": "e9d2498a",
   "metadata": {},
   "source": [
    "After loading the Seifert class and other packages needed for the computation, we define the Seifert manifold."
   ]
  },
  {
   "cell_type": "code",
   "execution_count": 53,
   "id": "a6bd9c11",
   "metadata": {},
   "outputs": [
    {
     "data": {
      "text/plain": [
       "Seifert manifold with 3 exceptional fibers.\n",
       "Seifert data:\n",
       "[-1, 3, 5, 2, 7, 1, 9]\n",
       "Plumbing Matrix:\n",
       "[-1  1  0  1  0  1]\n",
       "[ 1 -2  1  0  0  0]\n",
       "[ 0  1 -3  0  0  0]\n",
       "[ 1  0  0 -4  1  0]\n",
       "[ 0  0  0  1 -2  0]\n",
       "[ 1  0  0  0  0 -9]\n",
       "D: 1, m: 315, det(M): 1"
      ]
     },
     "execution_count": 53,
     "metadata": {},
     "output_type": "execute_result"
    }
   ],
   "source": [
    "S = Seifert([-1,3,5,2,7,1,9]);S"
   ]
  },
  {
   "cell_type": "markdown",
   "id": "5a94db10",
   "metadata": {},
   "source": [
    "$S$ is a spherical manifold therefore the plumbing matrix is unitary and we have $D=1$.\n",
    "We can proceed by computing the $\\mathcal B$ set and the $\\vec s$ values for $A_2$."
   ]
  },
  {
   "cell_type": "code",
   "execution_count": 3,
   "id": "f4a8f316",
   "metadata": {},
   "outputs": [
    {
     "data": {
      "text/plain": [
       "[[(-1, -1), (0, 0), (1, 1), (0, 0), (1, 1), (1, 1)]]"
      ]
     },
     "execution_count": 3,
     "metadata": {},
     "output_type": "execute_result"
    }
   ],
   "source": [
    "B = S.bSet(2); B"
   ]
  },
  {
   "cell_type": "markdown",
   "id": "3a9779b5",
   "metadata": {},
   "source": [
    "$\\mathcal B$ only contains the trivial $\\vec{\\underline{b}}_0$. This is expected because $S$ is a Brieskorn sphere."
   ]
  },
  {
   "cell_type": "code",
   "execution_count": 15,
   "id": "47bcf1fe",
   "metadata": {},
   "outputs": [
    {
     "data": {
      "text/plain": [
       "(216,\n",
       " [(-1, (143, 143), (0, 0)), (1, (73, 178), (0, 0)), (1, (178, 73), (0, 0))])"
      ]
     },
     "execution_count": 15,
     "metadata": {},
     "output_type": "execute_result"
    }
   ],
   "source": [
    "b0 = B[0]\n",
    "sVals = list()\n",
    "lVals = list()\n",
    "kVals = list()\n",
    "for l,s,k in S.sVals(b0, basis = \"weight\"):\n",
    "    lVals += [l]\n",
    "    sVals += [s]\n",
    "    kVals += [k]\n",
    "len(sVals),list(zip(lVals,sVals,kVals))[:3]"
   ]
  },
  {
   "cell_type": "markdown",
   "id": "c8f3c79b",
   "metadata": {},
   "source": [
    "There are $6^3=216$ admissible $\\vec s$ values. Furthermore, all $\\vec \\kappa_{\\hat{w};\\vec{\\underline{b}}}$ are $(0,0)$ because $D=1$. We can restrict the set of $\\vec s$ values to the the range $0<s\\leq m$."
   ]
  },
  {
   "cell_type": "code",
   "execution_count": 7,
   "id": "8eeeba70",
   "metadata": {},
   "outputs": [
    {
     "data": {
      "text/plain": [
       "(36, [(143, 143), (73, 178), (178, 73)])"
      ]
     },
     "execution_count": 7,
     "metadata": {},
     "output_type": "execute_result"
    }
   ],
   "source": [
    "in_range_sVals = list()\n",
    "for s in sVals:\n",
    "    if 0<s[0]<=S.m and 0<s[1]<=S.m:\n",
    "        in_range_sVals.append(s)\n",
    "len(in_range_sVals),in_range_sVals[:3]"
   ]
  },
  {
   "cell_type": "markdown",
   "id": "e2138b17",
   "metadata": {},
   "source": [
    "The $\\delta$ exponential factor for $S$ is:"
   ]
  },
  {
   "cell_type": "code",
   "execution_count": 8,
   "id": "ebf47ffc",
   "metadata": {},
   "outputs": [
    {
     "data": {
      "text/plain": [
       "341/315"
      ]
     },
     "execution_count": 8,
     "metadata": {},
     "output_type": "execute_result"
    }
   ],
   "source": [
    "S.delta(2)"
   ]
  },
  {
   "cell_type": "markdown",
   "id": "29f8a4f7",
   "metadata": {},
   "source": [
    "For $\\hat{w}=(1,1,1)$, the $\\vec s$ can be computed as:"
   ]
  },
  {
   "cell_type": "code",
   "execution_count": 50,
   "id": "797f2822",
   "metadata": {},
   "outputs": [
    {
     "data": {
      "text/plain": [
       "(143, 143)"
      ]
     },
     "execution_count": 50,
     "metadata": {},
     "output_type": "execute_result"
    }
   ],
   "source": [
    "wh = [identity_matrix(2) if d == 1 else matrix(2) for d in S.deg]\n",
    "rho = vector([1,1])\n",
    "s = -S.A*matrix([wi*rho for wi in wh]);s"
   ]
  },
  {
   "cell_type": "markdown",
   "id": "92b92417",
   "metadata": {},
   "source": [
    "With this data, we compute $\\tilde{\\chi}_{\\hat{w};\\vec{\\underline{b}}}$ and the triplet character"
   ]
  },
  {
   "cell_type": "code",
   "execution_count": 51,
   "id": "db4b79e0",
   "metadata": {
    "scrolled": true
   },
   "outputs": [
    {
     "data": {
      "text/plain": [
       "(z0^2*z1^2 - z0^4/z1^2 - z1^4/z0^2 + z0^2/z1^4 + z1^2/z0^4 - 1/(z0^2*z1^2))*q^754/(z0*z1 - z0^2/z1 - z1^2/z0 + z0/z1^2 + z1/z0^2 - 1/(z0*z1)) - q^667 + 2*q^524 - 2*q^238 + q^95"
      ]
     },
     "execution_count": 51,
     "metadata": {},
     "output_type": "execute_result"
    }
   ],
   "source": [
    "S.Chit(wh, b0, 1000, basis = \"weight\")"
   ]
  },
  {
   "cell_type": "code",
   "execution_count": 46,
   "id": "360acdd9",
   "metadata": {
    "scrolled": true
   },
   "outputs": [
    {
     "data": {
      "text/plain": [
       "(z0^2*z1^2 - z0^4/z1^2 - z1^4/z0^2 + z0^2/z1^4 + z1^2/z0^4 - 1/(z0^2*z1^2))*q^(237169/315)/(z0*z1 - z0^2/z1 - z1^2/z0 + z0/z1^2 + z1/z0^2 - 1/(z0*z1)) - q^(209764/315) + 2*q^(164719/315) - 2*q^(74629/315) + q^(29584/315)"
      ]
     },
     "execution_count": 46,
     "metadata": {},
     "output_type": "execute_result"
    }
   ],
   "source": [
    "rho = vector([1,1])\n",
    "mu =1/sqrt(S.m)*CartanM(2).inverse()*(rho+sum([a*w*rho for a,w in zip(S.A,wh)]))\n",
    "S.TripletCharacter(vector([0,0]),mu,1000-S.delta(2), basis = \"weight\")"
   ]
  },
  {
   "cell_type": "markdown",
   "id": "e89d8518",
   "metadata": {},
   "source": [
    "These are the same up to a power of $q^\\delta$"
   ]
  },
  {
   "cell_type": "code",
   "execution_count": 36,
   "id": "2ab06f74",
   "metadata": {},
   "outputs": [
    {
     "data": {
      "text/plain": [
       "0"
      ]
     },
     "execution_count": 36,
     "metadata": {},
     "output_type": "execute_result"
    }
   ],
   "source": [
    "expand(S.Chit(wh, b0, 1000, basis = \"weight\")-q^S.delta(2)*S.TripletCharacter(vector([0,0]),mu,1000-S.delta(2), basis = \"root\"))"
   ]
  }
 ],
 "metadata": {
  "kernelspec": {
   "display_name": "SageMath 9.3 - for VSCode",
   "language": "python",
   "name": "undefined.--python#sage.repl.ipython_kernel.--python#sage.repl.ipython_kernel.--python#sage.repl.ipython_kernel.--python#sage.repl.ipython_kernel.--python#sage.repl.ipython_kernel"
  },
  "language_info": {
   "codemirror_mode": {
    "name": "ipython",
    "version": 3
   },
   "file_extension": ".py",
   "mimetype": "text/x-python",
   "name": "python",
   "nbconvert_exporter": "python",
   "pygments_lexer": "ipython3",
   "version": "3.8.10"
  }
 },
 "nbformat": 4,
 "nbformat_minor": 5
}
