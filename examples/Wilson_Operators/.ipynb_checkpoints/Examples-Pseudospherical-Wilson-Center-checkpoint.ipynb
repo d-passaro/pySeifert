{
 "cells": [
  {
   "cell_type": "markdown",
   "id": "7874aa55",
   "metadata": {},
   "source": [
    "# 3-Manifolds and Log VOA\n",
    "## Example section companion notebook"
   ]
  },
  {
   "cell_type": "code",
   "execution_count": 2,
   "id": "2f3a07e5",
   "metadata": {},
   "outputs": [],
   "source": [
    "# Load packages and pySeifert\n",
    "import numpy as np\n",
    "import itertools\n",
    "load(\"../../pySeifert.sage\")"
   ]
  },
  {
   "cell_type": "markdown",
   "id": "e9d2498a",
   "metadata": {},
   "source": [
    "After loading the Seifert class and other packages needed for the computation, we define the Seifert manifold."
   ]
  },
  {
   "cell_type": "code",
   "execution_count": 3,
   "id": "a6bd9c11",
   "metadata": {},
   "outputs": [
    {
     "data": {
      "text/plain": [
       "Seifert manifold with 3 exceptional fibers.\n",
       "Seifert data:\n",
       "[-1, 1, 2, 1, 3, 1, 9]\n",
       "Plumbing Matrix:\n",
       "[-1  1  1  1]\n",
       "[ 1 -2  0  0]\n",
       "[ 1  0 -3  0]\n",
       "[ 1  0  0 -9]\n",
       "D: 1, m: 18, det(M): 3"
      ]
     },
     "execution_count": 3,
     "metadata": {},
     "output_type": "execute_result"
    }
   ],
   "source": [
    "S = Seifert([-1,1,2,1,3,1,9]);S"
   ]
  },
  {
   "cell_type": "markdown",
   "id": "5a94db10",
   "metadata": {},
   "source": [
    "$S$ is a spherical manifold therefore the plumbing matrix is unitary and we have $D=1$.\n",
    "We can proceed by computing the $\\mathcal B$ set and the $\\vec s$ values for $A_2$."
   ]
  },
  {
   "cell_type": "code",
   "execution_count": 4,
   "id": "f4a8f316",
   "metadata": {},
   "outputs": [
    {
     "data": {
      "text/plain": [
       "[[(-1, -1), (1, 1), (1, 1), (1, 1)], [(1, -2), (1, 1), (-3, 3), (-5, 4)]]"
      ]
     },
     "execution_count": 4,
     "metadata": {},
     "output_type": "execute_result"
    }
   ],
   "source": [
    "B = S.bSet(2); B"
   ]
  },
  {
   "cell_type": "markdown",
   "id": "3a9779b5",
   "metadata": {},
   "source": [
    "$\\mathcal B$ only contains the trivial $\\vec{\\underline{b}}_0$. This is expected because $S$ is a Brieskorn sphere."
   ]
  },
  {
   "cell_type": "code",
   "execution_count": 5,
   "id": "47bcf1fe",
   "metadata": {},
   "outputs": [
    {
     "data": {
      "text/plain": [
       "(36, [(-1, (17, 17), (0, 0)), (-1, (1, 25), (0, 0)), (-1, (25, 1), (0, 0))])"
      ]
     },
     "execution_count": 5,
     "metadata": {},
     "output_type": "execute_result"
    }
   ],
   "source": [
    "b0 = B[0]\n",
    "sVals = list()\n",
    "lVals = list()\n",
    "kVals = list()\n",
    "for l,s,k in S.sVals(b0, basis = \"weight\"):\n",
    "    lVals += [l]\n",
    "    sVals += [s]\n",
    "    kVals += [k]\n",
    "len(sVals),list(zip(lVals,sVals,kVals))[:3]"
   ]
  },
  {
   "cell_type": "markdown",
   "id": "e2d024d4",
   "metadata": {},
   "source": [
    "List all $\\hat w $ and their lengths."
   ]
  },
  {
   "cell_type": "code",
   "execution_count": 6,
   "id": "de5c47ca",
   "metadata": {},
   "outputs": [],
   "source": [
    "WG, WL = AWeylGroup(2,WL =True, basis = \"weight\")\n",
    "wh_list = list(itertools.product(*[WG if d == 1 else [matrix(2)] for d in S.deg]))\n",
    "whl_list = list(itertools.product(*[WL if d == 1 else [0] for d in S.deg]))"
   ]
  },
  {
   "cell_type": "markdown",
   "id": "2588cb5d",
   "metadata": {},
   "source": [
    "Compute all $\\tilde \\chi$"
   ]
  },
  {
   "cell_type": "code",
   "execution_count": 11,
   "id": "abad068e",
   "metadata": {},
   "outputs": [],
   "source": [
    "Chit_list = [(-1)^sum(l)*S.Chit(wh,b0,20,basis = \"weight\") for wh,l in zip(wh_list,whl_list)]"
   ]
  },
  {
   "cell_type": "markdown",
   "id": "8ed247f1",
   "metadata": {},
   "source": [
    "Compute A2 multiplicities and sum over weights. Sum over Weyl group to cover full lattice and over all $\\tilde \\chi$"
   ]
  },
  {
   "cell_type": "code",
   "execution_count": 12,
   "id": "65c89f37",
   "metadata": {},
   "outputs": [],
   "source": [
    "ni = vector([3,3])\n",
    "multDict = dict()\n",
    "Zhat = 0\n",
    "for sig in itertools.product(range(1,4),repeat = 2):\n",
    "    sig = vector(sig)\n",
    "    if (sig[0]-sig[1])%3 != 0:\n",
    "        continue\n",
    "    m_sig = A2mult(ni, sig,saveDict=multDict)\n",
    "    for w in WG:\n",
    "        w_sig = w*sig\n",
    "        for Chit in Chit_list:\n",
    "            Zhat += m_sig*z0^w_sig[0]*z1^w_sig[1]*Chit"
   ]
  },
  {
   "cell_type": "markdown",
   "id": "00c009a7",
   "metadata": {},
   "source": [
    "Take out the constant term after multiplying by a sufficiently expandend expansion of the denominator"
   ]
  },
  {
   "cell_type": "code",
   "execution_count": 15,
   "id": "300ddbf1",
   "metadata": {},
   "outputs": [
    {
     "data": {
      "text/plain": [
       "-240*q^18 + 60*q^17 + 120*q^16 + 120*q^13 - 240*q^6 + 120*q^5 + 60*q"
      ]
     },
     "execution_count": 15,
     "metadata": {},
     "output_type": "execute_result"
    }
   ],
   "source": [
    "int_Zhat = 0\n",
    "for q_coeff,q_pow in Zhat.coefficients(q):\n",
    "    int_q_coeff = ConstantTerm(q_coeff*WeylExpansion(vector([2,2])))\n",
    "    int_Zhat += int_q_coeff*q^q_pow\n",
    "int_Zhat"
   ]
  },
  {
   "cell_type": "markdown",
   "id": "5873061e",
   "metadata": {},
   "source": [
    "We compute the same with triplet characters. We start from computing the $\\vec A_{\\hat w}$ and the $\\vec \\mu$."
   ]
  },
  {
   "cell_type": "code",
   "execution_count": 16,
   "id": "6cf70406",
   "metadata": {},
   "outputs": [],
   "source": [
    "Aw_list = list()\n",
    "mu_list = list()\n",
    "rho = vector([1,1])\n",
    "for wh in wh_list:\n",
    "    Aw = -1/S.Minv[0,0]*S.Minv[0]*matrix([w*rho for w in wh])\n",
    "    mu = 1/sqrt(S.m)*(rho+S.m*Aw)\n",
    "    Aw_list.append(Aw)\n",
    "    mu_list.append(mu)"
   ]
  },
  {
   "cell_type": "markdown",
   "id": "96440e3d",
   "metadata": {},
   "source": [
    "With this information we can compute the Triplet Characters"
   ]
  },
  {
   "cell_type": "code",
   "execution_count": null,
   "id": "b0d243a2",
   "metadata": {},
   "outputs": [],
   "source": [
    "TriCh_list = list()\n",
    "for mu,l in zip(mu_list,whl_list):\n",
    "        TriCh_list.append((-1)^sum(l)*S.TripletCharacter(vector([0,0]),mu,20,basis = \"weight\", qvar = None))"
   ]
  },
  {
   "cell_type": "markdown",
   "id": "c46aaf11",
   "metadata": {},
   "source": [
    "... and then assemble the $\\hat {Z}$ and integrate."
   ]
  },
  {
   "cell_type": "code",
   "execution_count": null,
   "id": "d33e9a99",
   "metadata": {},
   "outputs": [],
   "source": [
    "ZhatCh = 0\n",
    "for sig in itertools.product(range(1,4),repeat = 2):\n",
    "    sig = vector(sig)\n",
    "    if (sig[0]-sig[1])%3 != 0:\n",
    "        continue\n",
    "    m_sig = A2mult(ni, sig,saveDict=multDict)\n",
    "    for w in WG:\n",
    "        w_sig = w*sig\n",
    "        for TriCh in TriCh_list:\n",
    "            ZhatCh += m_sig*z0^w_sig[0]*z1^w_sig[1]*TriCh"
   ]
  },
  {
   "cell_type": "code",
   "execution_count": null,
   "id": "8031b70a",
   "metadata": {},
   "outputs": [],
   "source": [
    "int_ZhatCh = 0\n",
    "for q_coeff,q_pow in ZhatCh.coefficients(q):\n",
    "    int_q_coeff = ConstantTerm(q_coeff*WeylExpansion(vector([2,2])))\n",
    "    int_ZhatCh += int_q_coeff*q^(q_pow+S.delta(2))\n",
    "int_ZhatCh"
   ]
  }
 ],
 "metadata": {
  "kernelspec": {
   "display_name": "SageMath 9.3 - for VSCode",
   "language": "python",
   "name": "undefined.--python#sage.repl.ipython_kernel.--python#sage.repl.ipython_kernel.--python#sage.repl.ipython_kernel.--python#sage.repl.ipython_kernel.--python#sage.repl.ipython_kernel"
  },
  "language_info": {
   "codemirror_mode": {
    "name": "ipython",
    "version": 3
   },
   "file_extension": ".py",
   "mimetype": "text/x-python",
   "name": "python",
   "nbconvert_exporter": "python",
   "pygments_lexer": "ipython3",
   "version": "3.8.10"
  }
 },
 "nbformat": 4,
 "nbformat_minor": 5
}
