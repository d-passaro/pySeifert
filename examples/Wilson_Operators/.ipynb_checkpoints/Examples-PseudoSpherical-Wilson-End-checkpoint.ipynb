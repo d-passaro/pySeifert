{
 "cells": [
  {
   "cell_type": "markdown",
   "id": "7874aa55",
   "metadata": {},
   "source": [
    "# 3-Manifolds and Log VOA\n",
    "## Example section companion notebook"
   ]
  },
  {
   "cell_type": "code",
   "execution_count": 63,
   "id": "2f3a07e5",
   "metadata": {},
   "outputs": [],
   "source": [
    "# Load packages and pySeifert\n",
    "import numpy as np\n",
    "import itertools\n",
    "load(\"../../pySeifert.sage\")"
   ]
  },
  {
   "cell_type": "markdown",
   "id": "e9d2498a",
   "metadata": {},
   "source": [
    "After loading the Seifert class and other packages needed for the computation, we define the Seifert manifold."
   ]
  },
  {
   "cell_type": "code",
   "execution_count": 64,
   "id": "a6bd9c11",
   "metadata": {},
   "outputs": [
    {
     "data": {
      "text/plain": [
       "Seifert manifold with 3 exceptional fibers.\n",
       "Seifert data:\n",
       "[-1, 1, 2, 1, 3, 1, 9]\n",
       "Plumbing Matrix:\n",
       "[-1  1  1  1]\n",
       "[ 1 -2  0  0]\n",
       "[ 1  0 -3  0]\n",
       "[ 1  0  0 -9]\n",
       "D: 1, m: 18, det(M): 3"
      ]
     },
     "execution_count": 64,
     "metadata": {},
     "output_type": "execute_result"
    }
   ],
   "source": [
    "S = Seifert([-1,1,2,1,3,1,9]);S"
   ]
  },
  {
   "cell_type": "markdown",
   "id": "5a94db10",
   "metadata": {},
   "source": [
    "$S$ is a spherical manifold therefore the plumbing matrix is unitary and we have $D=1$.\n",
    "We can proceed by computing the $\\mathcal B$ set and the $\\vec s$ values for $A_2$."
   ]
  },
  {
   "cell_type": "code",
   "execution_count": 48,
   "id": "f4a8f316",
   "metadata": {},
   "outputs": [
    {
     "data": {
      "text/plain": [
       "[[(-1, -1), (1, 1), (1, 1), (1, 1)], [(1, -2), (1, 1), (-3, 3), (-5, 4)]]"
      ]
     },
     "execution_count": 48,
     "metadata": {},
     "output_type": "execute_result"
    }
   ],
   "source": [
    "B = S.bSet(2); B"
   ]
  },
  {
   "cell_type": "markdown",
   "id": "3a9779b5",
   "metadata": {},
   "source": [
    "$\\mathcal B$ only contains two values, a trivial one $\\vec{\\underline{b}}_0$ and $\\vec{\\underline{b}}_1$. The $\\vec s$ for $\\vec{\\underline{b}}_0$."
   ]
  },
  {
   "cell_type": "code",
   "execution_count": 49,
   "id": "47bcf1fe",
   "metadata": {},
   "outputs": [
    {
     "data": {
      "text/plain": [
       "(36, [(-1, (17, 17), (0, 0)), (-1, (1, 25), (0, 0)), (-1, (25, 1), (0, 0))])"
      ]
     },
     "execution_count": 49,
     "metadata": {},
     "output_type": "execute_result"
    }
   ],
   "source": [
    "b0 = B[0]\n",
    "sVals = list()\n",
    "lVals = list()\n",
    "kVals = list()\n",
    "for l,s,k in S.sVals(b0, basis = \"weight\"):\n",
    "    lVals += [l]\n",
    "    sVals += [s]\n",
    "    kVals += [k]\n",
    "len(sVals),list(zip(lVals,sVals,kVals))[:3]"
   ]
  },
  {
   "cell_type": "markdown",
   "id": "bfcaa2a0",
   "metadata": {},
   "source": [
    "The $\\vec s$ for $\\vec{\\underline{b}}_1$ are:"
   ]
  },
  {
   "cell_type": "code",
   "execution_count": 54,
   "id": "36d1de6f",
   "metadata": {},
   "outputs": [
    {
     "data": {
      "text/plain": [
       "(18, [(1, (13, 19), (0, 0)), (1, (13, -5), (0, 0)), (1, (1, 13), (0, 0))])"
      ]
     },
     "execution_count": 54,
     "metadata": {},
     "output_type": "execute_result"
    }
   ],
   "source": [
    "b1 = B[1]\n",
    "sVals1 = list()\n",
    "lVals1 = list()\n",
    "kVals1 = list()\n",
    "for l,s,k in S.sVals(b1, basis = \"weight\"):\n",
    "    lVals1 += [l]\n",
    "    sVals1 += [s]\n",
    "    kVals1 += [k]\n",
    "len(sVals1),list(zip(lVals1,sVals1,kVals1))[:3]"
   ]
  },
  {
   "cell_type": "markdown",
   "id": "e2138b17",
   "metadata": {},
   "source": [
    "The $\\delta$ exponential factor for $S$ is:"
   ]
  },
  {
   "cell_type": "code",
   "execution_count": 55,
   "id": "ebf47ffc",
   "metadata": {},
   "outputs": [
    {
     "data": {
      "text/plain": [
       "17/18"
      ]
     },
     "execution_count": 55,
     "metadata": {},
     "output_type": "execute_result"
    }
   ],
   "source": [
    "S.delta(2)"
   ]
  },
  {
   "cell_type": "markdown",
   "id": "29f8a4f7",
   "metadata": {},
   "source": [
    "For $\\hat{w}=(1,1,1)$, the $\\vec s$ can be computed as:"
   ]
  },
  {
   "cell_type": "code",
   "execution_count": 57,
   "id": "797f2822",
   "metadata": {},
   "outputs": [
    {
     "data": {
      "text/plain": [
       "(17, 17)"
      ]
     },
     "execution_count": 57,
     "metadata": {},
     "output_type": "execute_result"
    }
   ],
   "source": [
    "wh = [identity_matrix(2) if d == 1 else matrix(2) for d in S.deg]\n",
    "rho = vector([1,1])\n",
    "s = -S.A*matrix([wi*rho for wi in wh]);s"
   ]
  },
  {
   "cell_type": "markdown",
   "id": "b8220c8b",
   "metadata": {},
   "source": [
    "With this data, we compute $\\tilde{\\chi}_{\\hat{w};\\vec{\\underline{b}}}$ and the triplet character"
   ]
  },
  {
   "cell_type": "code",
   "execution_count": 59,
   "id": "db4b79e0",
   "metadata": {
    "scrolled": true
   },
   "outputs": [
    {
     "data": {
      "text/plain": [
       "-2*(z0^2*z1^2 - z0^4/z1^2 - z1^4/z0^2 + z0^2/z1^4 + z1^2/z0^4 - 1/(z0^2*z1^2))*q^55/(z0*z1 - z0^2/z1 - z1^2/z0 + z0/z1^2 + z1/z0^2 - 1/(z0*z1)) + 2*q^52 + (z0^2*z1^2 - z0^4/z1^2 - z1^4/z0^2 + z0^2/z1^4 + z1^2/z0^4 - 1/(z0^2*z1^2))*q^21/(z0*z1 - z0^2/z1 - z1^2/z0 + z0/z1^2 + z1/z0^2 - 1/(z0*z1)) - 2*q^18 + q"
      ]
     },
     "execution_count": 59,
     "metadata": {},
     "output_type": "execute_result"
    }
   ],
   "source": [
    "S.Chit(wh, b0, 58, basis = \"weight\")"
   ]
  },
  {
   "cell_type": "code",
   "execution_count": 61,
   "id": "360acdd9",
   "metadata": {
    "scrolled": true
   },
   "outputs": [
    {
     "data": {
      "text/plain": [
       "-2*(z0^2*z1^2 - z0^4/z1^2 - z1^4/z0^2 + z0^2/z1^4 + z1^2/z0^4 - 1/(z0^2*z1^2))*q^(973/18)/(z0*z1 - z0^2/z1 - z1^2/z0 + z0/z1^2 + z1/z0^2 - 1/(z0*z1)) + 2*q^(919/18) + (z0^2*z1^2 - z0^4/z1^2 - z1^4/z0^2 + z0^2/z1^4 + z1^2/z0^4 - 1/(z0^2*z1^2))*q^(361/18)/(z0*z1 - z0^2/z1 - z1^2/z0 + z0/z1^2 + z1/z0^2 - 1/(z0*z1)) - 2*q^(307/18) + q^(1/18)"
      ]
     },
     "execution_count": 61,
     "metadata": {},
     "output_type": "execute_result"
    }
   ],
   "source": [
    "rho = vector([1,1])\n",
    "mu =1/sqrt(S.m)*CartanM(2).inverse()*(rho+sum([a*w*rho for a,w in zip(S.A,wh)]))\n",
    "S.TripletCharacter(vector([0,0]),mu,58-S.delta(2), basis = \"weight\")"
   ]
  },
  {
   "cell_type": "markdown",
   "id": "c6598dbb",
   "metadata": {},
   "source": [
    "These are the same up to a power of $q^\\delta$"
   ]
  },
  {
   "cell_type": "code",
   "execution_count": 62,
   "id": "17735b89",
   "metadata": {},
   "outputs": [
    {
     "data": {
      "text/plain": [
       "0"
      ]
     },
     "execution_count": 62,
     "metadata": {},
     "output_type": "execute_result"
    }
   ],
   "source": [
    "expand(S.Chit(wh, b0, 1000, basis = \"weight\")-q^S.delta(2)*S.TripletCharacter(vector([0,0]),mu,1000-S.delta(2), basis = \"root\"))"
   ]
  }
 ],
 "metadata": {
  "kernelspec": {
   "display_name": "SageMath 9.3 - for VSCode",
   "language": "python",
   "name": "undefined.--python#sage.repl.ipython_kernel.--python#sage.repl.ipython_kernel.--python#sage.repl.ipython_kernel.--python#sage.repl.ipython_kernel.--python#sage.repl.ipython_kernel"
  },
  "language_info": {
   "codemirror_mode": {
    "name": "ipython",
    "version": 3
   },
   "file_extension": ".py",
   "mimetype": "text/x-python",
   "name": "python",
   "nbconvert_exporter": "python",
   "pygments_lexer": "ipython3",
   "version": "3.8.10"
  }
 },
 "nbformat": 4,
 "nbformat_minor": 5
}
