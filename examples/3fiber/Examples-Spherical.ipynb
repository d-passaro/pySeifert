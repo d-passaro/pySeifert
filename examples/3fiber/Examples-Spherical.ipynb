{
 "cells": [
  {
   "cell_type": "markdown",
   "metadata": {},
   "source": [
    "# 3-Manifolds and VOA characters\n",
    "## Example section companion notebook"
   ]
  },
  {
   "cell_type": "markdown",
   "metadata": {},
   "source": [
    "The simplest class of examples to consider in verifying the relations between the $\\hat{Z}$ invariant and characters of VOA operators is that of Brieskorn spheres. In this example notebook, we replicate the computations done in writing the first paragraph of section 6.1 of arXiv:2201.04640, while at the same time demonstrating the capabilities and main functions of pySeifert: a Sage toolkit for the computation of $\\hat{Z}$ invariants for Seifert manifolds and related q-series invariants."
   ]
  },
  {
   "cell_type": "markdown",
   "metadata": {},
   "source": [
    "We start by loading pySeifert and defining the Seifert manifold"
   ]
  },
  {
   "cell_type": "code",
   "execution_count": 10,
   "metadata": {},
   "outputs": [
    {
     "data": {
      "text/plain": [
       "Seifert manifold with 3 exceptional fibers.\n",
       "Seifert data:\n",
       "[-1, 3, 5, 2, 7, 1, 9]\n",
       "Plumbing Matrix:\n",
       "[-1  1  0  1  0  1]\n",
       "[ 1 -2  1  0  0  0]\n",
       "[ 0  1 -3  0  0  0]\n",
       "[ 1  0  0 -4  1  0]\n",
       "[ 0  0  0  1 -2  0]\n",
       "[ 1  0  0  0  0 -9]\n",
       "D: 1, m: 315, det(M): 1"
      ]
     },
     "execution_count": 10,
     "metadata": {},
     "output_type": "execute_result"
    }
   ],
   "source": [
    "load(\"../../pySeifert.sage\")\n",
    "S = Seifert([-1,3,5,2,7,1,9]);S"
   ]
  },
  {
   "cell_type": "markdown",
   "metadata": {},
   "source": [
    "The plumbing matrix of $S$ is unitary, therefore $S$ is spherical and we have $D=1$.\n",
    "The next step in computing the $\\hat{Z}$ invariant is to compute the representatives for the boundary conditions, $\\mathcal B$, and the $\\vec s$ values for the gauge group we have chosen. In this case we focus on $A_2$."
   ]
  },
  {
   "cell_type": "code",
   "execution_count": 11,
   "metadata": {},
   "outputs": [
    {
     "data": {
      "text/plain": [
       "[[(-1, -1), (0, 0), (1, 1), (0, 0), (1, 1), (1, 1)]]"
      ]
     },
     "execution_count": 11,
     "metadata": {},
     "output_type": "execute_result"
    }
   ],
   "source": [
    "B = S.boundary_conditions([\"A\",2], basis = \"weight\"); B # Specifying the basis will help avoid mistakes along the way"
   ]
  },
  {
   "cell_type": "markdown",
   "metadata": {},
   "source": [
    "As expected, $\\mathcal B$ only contains the trivial $\\vec{\\underline{b}}_0$. With this, we can compute the $\\vec{s}$ values."
   ]
  },
  {
   "cell_type": "code",
   "execution_count": 4,
   "metadata": {},
   "outputs": [
    {
     "data": {
      "text/plain": [
       "(216,\n",
       " [(-1, (143, 143), (0, 0)), (1, (73, 178), (0, 0)), (1, (178, 73), (0, 0))])"
      ]
     },
     "execution_count": 4,
     "metadata": {},
     "output_type": "execute_result"
    }
   ],
   "source": [
    "b0 = B[0]\n",
    "lVals,sVals,kVals = list(zip(*S.s_values([\"A\",2],b0, basis = \"weight\")))\n",
    "len(sVals),list(zip(lVals,sVals,kVals))[:3]"
   ]
  },
  {
   "cell_type": "markdown",
   "metadata": {},
   "source": [
    "Because the plumbing matrix is unimodular, there are $6^3=216$ admissible $\\vec s$ values and all $\\vec \\kappa_{\\hat{w};\\vec{\\underline{b}}}$ are $(0,0)$ because $D=1$. We can restrict the set of $\\vec s$ values to the the range $0<s\\leq m$, reducing the number of $\\vec s $ values by a factor of the order of the Weyl group (which is 6 for $A_2$)."
   ]
  },
  {
   "cell_type": "code",
   "execution_count": 5,
   "metadata": {},
   "outputs": [
    {
     "data": {
      "text/plain": [
       "(36, [(143, 143), (73, 178), (178, 73)])"
      ]
     },
     "execution_count": 5,
     "metadata": {},
     "output_type": "execute_result"
    }
   ],
   "source": [
    "in_range_sVals = list()\n",
    "for s in sVals:\n",
    "    if 0<s[0]<=S.m and 0<s[1]<=S.m:\n",
    "        in_range_sVals.append(s)\n",
    "len(in_range_sVals),in_range_sVals[:3]"
   ]
  },
  {
   "cell_type": "markdown",
   "metadata": {},
   "source": [
    "For each $\\vec s$ we can compute the associated $\\hat Z$ invariant integrand  $\\tilde{\\chi}_{\\hat{w};\\vec{\\underline{b}}}$. For example, choosing $\\hat w = (1,1,1)$ leads to:"
   ]
  },
  {
   "cell_type": "code",
   "execution_count": 6,
   "metadata": {},
   "outputs": [
    {
     "data": {
      "text/plain": [
       "(z0^2*z1^2 - z0^4/z1^2 - z1^4/z0^2 + z0^2/z1^4 + z1^2/z0^4 - 1/(z0^2*z1^2))*q^754/(z0*z1 - z0^2/z1 - z1^2/z0 + z0/z1^2 + z1/z0^2 - 1/(z0*z1)) - q^667 + 2*q^524 - 2*q^238 + q^95"
      ]
     },
     "execution_count": 6,
     "metadata": {},
     "output_type": "execute_result"
    }
   ],
   "source": [
    "wh = [identity_matrix(2) if d == 1 else matrix(2) for d in S.deg]\n",
    "chi_tilde = S.chi_tilde([\"A\",2],wh, b0, 1000, basis=\"weight\"); chi_tilde"
   ]
  },
  {
   "cell_type": "markdown",
   "metadata": {},
   "source": [
    "Note that in code we adopt the convention that $\\hat{w}$ should be of the same length as the dimensions of the plumbing matrix. A proper $\\hat{w}$ should have non-zero entries wherever the degree of the node is 1, indicating an end node. "
   ]
  },
  {
   "cell_type": "markdown",
   "metadata": {},
   "source": [
    "For each $\\vec s$ we can also compute the triplet character. Choosing the same $\\hat{w}$ we get:"
   ]
  },
  {
   "cell_type": "code",
   "execution_count": 7,
   "metadata": {},
   "outputs": [
    {
     "data": {
      "text/plain": [
       "(z0^2*z1^2 - z0^4/z1^2 - z1^4/z0^2 + z0^2/z1^4 + z1^2/z0^4 - 1/(z0^2*z1^2))*q^(237169/315)/(z0*z1 - z0^2/z1 - z1^2/z0 + z0/z1^2 + z1/z0^2 - 1/(z0*z1)) - q^(209764/315) + 2*q^(164719/315) - 2*q^(74629/315) + q^(29584/315)"
      ]
     },
     "execution_count": 7,
     "metadata": {},
     "output_type": "execute_result"
    }
   ],
   "source": [
    "rho = weyl_vector([\"A\",2])\n",
    "mu = 1/sqrt(S.m)*(rho-sVals[0])\n",
    "trip_ch = triplet_character([\"A\",2],vector([0,0]),mu,S.m*S.d,3,1000,basis=\"weight\"); trip_ch"
   ]
  },
  {
   "cell_type": "markdown",
   "metadata": {},
   "source": [
    "Therem 4.37 shows that these are the same up to a factor of $q^\\delta$. This can be verified easily:"
   ]
  },
  {
   "cell_type": "code",
   "execution_count": 8,
   "metadata": {},
   "outputs": [
    {
     "data": {
      "text/plain": [
       "0"
      ]
     },
     "execution_count": 8,
     "metadata": {},
     "output_type": "execute_result"
    }
   ],
   "source": [
    "expand(chi_tilde - q^S.delta([\"A\",2])*trip_ch)"
   ]
  },
  {
   "cell_type": "markdown",
   "metadata": {},
   "source": [
    "Finally, we can compute the full $\\hat{Z}$ invariant:"
   ]
  },
  {
   "cell_type": "code",
   "execution_count": 9,
   "metadata": {},
   "outputs": [
    {
     "data": {
      "text/plain": [
       "6*(2*q^296 - 2*q^294 + 2*q^287 + 2*q^284 - q^283 - 4*q^280 + 2*q^278 + 4*q^272 - 2*q^267 + 2*q^266 - 2*q^262 + 2*q^260 - 2*q^259 + 2*q^254 + 2*q^252 + 4*q^248 - 2*q^238 + 2*q^236 - 2*q^235 - 2*q^232 + 2*q^228 - 2*q^226 - q^219 - 4*q^211 - 2*q^210 - 2*q^202 - 2*q^196 - 2*q^195 + 2*q^191 - 2*q^190 + 2*q^188 - q^187 + 2*q^179 + 4*q^164 + 2*q^159 + 2*q^158 + 2*q^144 - 2*q^142 - 2*q^126 - 2*q^118 + q^95)*q^3"
      ]
     },
     "execution_count": 9,
     "metadata": {},
     "output_type": "execute_result"
    }
   ],
   "source": [
    "S.z_hat([\"A\",2],b0,300,basis=\"weight\")"
   ]
  }
 ],
 "metadata": {
  "kernelspec": {
   "display_name": "SageMath 9.6",
   "language": "sage",
   "name": "sagemath"
  },
  "language_info": {
   "codemirror_mode": {
    "name": "ipython",
    "version": 3
   },
   "file_extension": ".py",
   "mimetype": "text/x-python",
   "name": "python",
   "nbconvert_exporter": "python",
   "pygments_lexer": "ipython3",
   "version": "3.10.4"
  },
  "vscode": {
   "interpreter": {
    "hash": "d0a05f0c313e5e284696bfab0c425f2bd049a2b800b8197cf9fb2674d7ea8ce4"
   }
  }
 },
 "nbformat": 4,
 "nbformat_minor": 2
}
