{
 "cells": [
  {
   "cell_type": "markdown",
   "metadata": {},
   "source": [
    "# 3-Manifolds and VOA characters\n",
    "## Example section companion notebook"
   ]
  },
  {
   "cell_type": "markdown",
   "metadata": {},
   "source": [
    "Spherical Seifert manifolds are straightforwardly generalized to pseudospherical Seifert manifolds. These differ from the spherical case by not having a unimodular plumbing matrix, but having a unitary lattice dilation factor $D$. In this example notebook, we replicate the computations done in writing the second paragraph of section 6.1 of arXiv:2201.04640, while at the same time demonstrating the capabilities and main functions of pySeifert: a Sage toolkit for the computation of $\\hat{Z}$ invariants for Seifert manifolds and related q-series invariants."
   ]
  },
  {
   "cell_type": "markdown",
   "metadata": {},
   "source": [
    "We start by loading PySeifert and defining the Seifert manifold"
   ]
  },
  {
   "cell_type": "code",
   "execution_count": 1,
   "metadata": {},
   "outputs": [
    {
     "data": {
      "text/plain": [
       "Seifert manifold with 3 exceptional fibers.\n",
       "Seifert data:\n",
       "[-1, 1, 2, 1, 3, 1, 9]\n",
       "Plumbing Matrix:\n",
       "[-1  1  1  1]\n",
       "[ 1 -2  0  0]\n",
       "[ 1  0 -3  0]\n",
       "[ 1  0  0 -9]\n",
       "D: 1, m: 18, det(M): 3"
      ]
     },
     "execution_count": 1,
     "metadata": {},
     "output_type": "execute_result"
    }
   ],
   "source": [
    "# Load pySeifert\n",
    "load(\"../../pySeifert.sage\")\n",
    "S = Seifert([-1,1,2,1,3,1,9]);S"
   ]
  },
  {
   "cell_type": "markdown",
   "metadata": {},
   "source": [
    "Printing the variable in which the manifold is stored shows all the information necessary to assess that $S$ is a pseudo-spherical manifold. The plumbing matrix has determinant equal to three yet the lattice dilation factor $D$ is one. A pseudopherical Seifert manifold can also be recognized by the inverse plumbing matrix:"
   ]
  },
  {
   "cell_type": "code",
   "execution_count": 2,
   "metadata": {},
   "outputs": [
    {
     "data": {
      "text/plain": [
       "[ -18   -9   -6   -2]\n",
       "[  -9   -5   -3   -1]\n",
       "[  -6   -3 -7/3 -2/3]\n",
       "[  -2   -1 -2/3 -1/3]"
      ]
     },
     "execution_count": 2,
     "metadata": {},
     "output_type": "execute_result"
    }
   ],
   "source": [
    "S.Minv"
   ]
  },
  {
   "cell_type": "markdown",
   "metadata": {},
   "source": [
    "which has integer entries in the first row (and column, since it is symmetric)."
   ]
  },
  {
   "cell_type": "markdown",
   "metadata": {},
   "source": [
    "Boundary conditions are labeled by:"
   ]
  },
  {
   "cell_type": "code",
   "execution_count": 3,
   "metadata": {},
   "outputs": [
    {
     "data": {
      "text/plain": [
       "[[(-1, -1), (1, 1), (1, 1), (1, 1)], [(1, -2), (1, 1), (-3, 3), (-5, 4)]]"
      ]
     },
     "execution_count": 3,
     "metadata": {},
     "output_type": "execute_result"
    }
   ],
   "source": [
    "B = S.boundary_conditions([\"A\",2], basis = \"weight\"); B"
   ]
  },
  {
   "cell_type": "markdown",
   "metadata": {},
   "source": [
    "Since $S$ has non-unitary determinant, there are non trivial boundary condition In this case $\\mathcal B$ contains the trivial $\\vec{\\underline{b}}_0$ and a non trivial condition $\\vec {\\underline{b}}_1$. For $\\vec{\\underline{b}}_0$ the $\\vec{s}$ values are:"
   ]
  },
  {
   "cell_type": "code",
   "execution_count": 4,
   "metadata": {},
   "outputs": [
    {
     "data": {
      "text/plain": [
       "(36, [(-1, (17, 17), (0, 0)), (-1, (1, 25), (0, 0)), (-1, (25, 1), (0, 0))])"
      ]
     },
     "execution_count": 4,
     "metadata": {},
     "output_type": "execute_result"
    }
   ],
   "source": [
    "b0 = B[0]\n",
    "lVals,sVals,kVals = list(zip(*S.s_values([\"A\",2],b0, basis = \"weight\")))\n",
    "len(sVals),list(zip(lVals,sVals,kVals))[:3]"
   ]
  },
  {
   "cell_type": "markdown",
   "metadata": {},
   "source": [
    "Because the inverse of the plumbing matrix contains non-integer entries, not all $\\vec s $ values are admissible. Here, only $36$ values are admissible."
   ]
  },
  {
   "cell_type": "markdown",
   "metadata": {},
   "source": [
    "For each $\\vec s$ we can compute the associated $\\hat Z$ invariant integrand  $\\tilde{\\chi}_{\\hat{w};\\vec{\\underline{b}}}$. For example, choosing $\\hat w = (1,1,1)$ leads to:"
   ]
  },
  {
   "cell_type": "code",
   "execution_count": 5,
   "metadata": {},
   "outputs": [
    {
     "data": {
      "text/plain": [
       "(z0^3*z1^3 - z0^6/z1^3 - z1^6/z0^3 + z0^3/z1^6 + z1^3/z0^6 - 1/(z0^3*z1^3))*q^77/(z0*z1 - z0^2/z1 - z1^2/z0 + z0/z1^2 + z1/z0^2 - 1/(z0*z1)) - (z0^4*z1 - z0^5/z1 - z1^5/z0^4 + z1^4/z0^5 + z0/z1^5 - 1/(z0*z1^4))*q^75/(z0*z1 - z0^2/z1 - z1^2/z0 + z0/z1^2 + z1/z0^2 - 1/(z0*z1)) - (z0*z1^4 - z1^5/z0 - z0^5/z1^4 + z0^4/z1^5 + z1/z0^5 - 1/(z0^4*z1))*q^75/(z0*z1 - z0^2/z1 - z1^2/z0 + z0/z1^2 + z1/z0^2 - 1/(z0*z1)) - q^69 + (z0^4*z1 - z0^5/z1 - z1^5/z0^4 + z1^4/z0^5 + z0/z1^5 - 1/(z0*z1^4))*q^58/(z0*z1 - z0^2/z1 - z1^2/z0 + z0/z1^2 + z1/z0^2 - 1/(z0*z1)) + (z0*z1^4 - z1^5/z0 - z0^5/z1^4 + z0^4/z1^5 + z1/z0^5 - 1/(z0^4*z1))*q^58/(z0*z1 - z0^2/z1 - z1^2/z0 + z0/z1^2 + z1/z0^2 - 1/(z0*z1)) - 2*(z0^2*z1^2 - z0^4/z1^2 - z1^4/z0^2 + z0^2/z1^4 + z1^2/z0^4 - 1/(z0^2*z1^2))*q^55/(z0*z1 - z0^2/z1 - z1^2/z0 + z0/z1^2 + z1/z0^2 - 1/(z0*z1)) + 2*q^52 + (z0^2*z1^2 - z0^4/z1^2 - z1^4/z0^2 + z0^2/z1^4 + z1^2/z0^4 - 1/(z0^2*z1^2))*q^21/(z0*z1 - z0^2/z1 - z1^2/z0 + z0/z1^2 + z1/z0^2 - 1/(z0*z1)) - 2*q^18 + q"
      ]
     },
     "execution_count": 5,
     "metadata": {},
     "output_type": "execute_result"
    }
   ],
   "source": [
    "wh = [identity_matrix(2) if d == 1 else matrix(2) for d in S.deg]\n",
    "rho = vector([1,1])\n",
    "s = -S.A*matrix([wi*rho for wi in wh]);s\n",
    "chi_tilde = S.chi_tilde([\"A\",2],wh, b0, 100, basis=\"weight\"); chi_tilde"
   ]
  },
  {
   "cell_type": "markdown",
   "metadata": {},
   "source": [
    "For each $\\vec s$ we can also compute the triplet character. Choosing the same $\\hat{w}$ we get:"
   ]
  },
  {
   "cell_type": "code",
   "execution_count": 6,
   "metadata": {},
   "outputs": [
    {
     "data": {
      "text/plain": [
       "(z0^3*z1^3 - z0^6/z1^3 - z1^6/z0^3 + z0^3/z1^6 + z1^3/z0^6 - 1/(z0^3*z1^3))*q^(1369/18)/(z0*z1 - z0^2/z1 - z1^2/z0 + z0/z1^2 + z1/z0^2 - 1/(z0*z1)) - (z0^4*z1 - z0^5/z1 - z1^5/z0^4 + z1^4/z0^5 + z0/z1^5 - 1/(z0*z1^4))*q^(1333/18)/(z0*z1 - z0^2/z1 - z1^2/z0 + z0/z1^2 + z1/z0^2 - 1/(z0*z1)) - (z0*z1^4 - z1^5/z0 - z0^5/z1^4 + z0^4/z1^5 + z1/z0^5 - 1/(z0^4*z1))*q^(1333/18)/(z0*z1 - z0^2/z1 - z1^2/z0 + z0/z1^2 + z1/z0^2 - 1/(z0*z1)) - q^(1225/18) + (z0^4*z1 - z0^5/z1 - z1^5/z0^4 + z1^4/z0^5 + z0/z1^5 - 1/(z0*z1^4))*q^(1027/18)/(z0*z1 - z0^2/z1 - z1^2/z0 + z0/z1^2 + z1/z0^2 - 1/(z0*z1)) + (z0*z1^4 - z1^5/z0 - z0^5/z1^4 + z0^4/z1^5 + z1/z0^5 - 1/(z0^4*z1))*q^(1027/18)/(z0*z1 - z0^2/z1 - z1^2/z0 + z0/z1^2 + z1/z0^2 - 1/(z0*z1)) - 2*(z0^2*z1^2 - z0^4/z1^2 - z1^4/z0^2 + z0^2/z1^4 + z1^2/z0^4 - 1/(z0^2*z1^2))*q^(973/18)/(z0*z1 - z0^2/z1 - z1^2/z0 + z0/z1^2 + z1/z0^2 - 1/(z0*z1)) + 2*q^(919/18) + (z0^2*z1^2 - z0^4/z1^2 - z1^4/z0^2 + z0^2/z1^4 + z1^2/z0^4 - 1/(z0^2*z1^2))*q^(361/18)/(z0*z1 - z0^2/z1 - z1^2/z0 + z0/z1^2 + z1/z0^2 - 1/(z0*z1)) - 2*q^(307/18) + q^(1/18)"
      ]
     },
     "execution_count": 6,
     "metadata": {},
     "output_type": "execute_result"
    }
   ],
   "source": [
    "mu = 1/sqrt(S.m)*(rho-s)\n",
    "trip_ch = triplet_character([\"A\",2],vector([0,0]),mu,S.m,3,100,basis=\"weight\"); trip_ch"
   ]
  },
  {
   "cell_type": "markdown",
   "metadata": {},
   "source": [
    "Therem 4.37 shows that these are the same up to a factor of $q^\\delta$. This can be verified easily:"
   ]
  },
  {
   "cell_type": "code",
   "execution_count": 7,
   "metadata": {},
   "outputs": [
    {
     "data": {
      "text/plain": [
       "0"
      ]
     },
     "execution_count": 7,
     "metadata": {},
     "output_type": "execute_result"
    }
   ],
   "source": [
    "expand(chi_tilde - q^S.delta([\"A\",2])*trip_ch)"
   ]
  },
  {
   "cell_type": "markdown",
   "metadata": {},
   "source": [
    "Finally, we can compute the full $\\hat{Z}$ invariant:"
   ]
  },
  {
   "cell_type": "code",
   "execution_count": 8,
   "metadata": {},
   "outputs": [
    {
     "data": {
      "text/plain": [
       "12*q^100 + 12*q^97 - 24*q^94 - 24*q^93 + 12*q^90 + 12*q^89 - 24*q^86 + 6*q^80 + 12*q^78 - 24*q^74 + 6*q^72 + 12*q^66 + 12*q^65 + 12*q^61 + 12*q^60 + 12*q^59 - 24*q^58 + 12*q^55 - 24*q^46 + 12*q^43 - 24*q^38 + 12*q^36 + 12*q^35 - 24*q^33 + 6*q^24 + 12*q^23 - 24*q^21 + 6*q^20 + 12*q^19 + 12*q^16 - 24*q^9 + 12*q^8 + 6*q^4"
      ]
     },
     "execution_count": 8,
     "metadata": {},
     "output_type": "execute_result"
    }
   ],
   "source": [
    "S.z_hat([\"A\",2],b0,100,basis=\"weight\")"
   ]
  },
  {
   "cell_type": "markdown",
   "metadata": {},
   "source": [
    "For $\\vec{\\underline{b}}_1$ the $\\hat{Z}$ invariant is:"
   ]
  },
  {
   "cell_type": "code",
   "execution_count": 9,
   "metadata": {},
   "outputs": [
    {
     "data": {
      "text/plain": [
       "4*q^(304/3) - 2*q^(295/3) - q^(292/3) - 2*q^(289/3) - 2*q^(283/3) - 2*q^(280/3) + 2*q^(277/3) + 4*q^(274/3) + 2*q^(262/3) - 2*q^(259/3) - 2*q^(253/3) - 2*q^(250/3) - 4*q^(244/3) + 8*q^(235/3) + 4*q^(232/3) - 2*q^(229/3) - 4*q^(223/3) + 4*q^(220/3) - 2*q^(217/3) - 2*q^(214/3) - 4*q^(205/3) + 2*q^(202/3) + 4*q^(199/3) + 4*q^(193/3) - 2*q^(190/3) - 2*q^(187/3) - 2*q^(184/3) + 4*q^(178/3) - 3*q^(172/3) - 2*q^(166/3) - 2*q^(163/3) + 2*q^(160/3) + 8*q^(157/3) - 2*q^(154/3) + 2*q^(148/3) - 4*q^(139/3) - 2*q^(133/3) + 4*q^(130/3) + 4*q^(127/3) - 2*q^(124/3) - 2*q^(115/3) - 2*q^(112/3) - 2*q^(103/3) - q^(100/3) + 2*q^(97/3) - 2*q^(91/3) + 4*q^(88/3) - 2*q^(85/3) - 2*q^(82/3) - 4*q^(79/3) + 4*q^(73/3) + 4*q^(70/3) - 2*q^(67/3) - 2*q^(64/3) - 2*q^(58/3) + 2*q^(55/3) + 4*q^(52/3) - 2*q^(49/3) - 3*q^(40/3) + 4*q^(37/3) + 2*q^(34/3) - 2*q^(28/3) + 4*q^(25/3) - 2*q^(22/3) - 2*q^(19/3) - q^(16/3) - 2*q^(13/3)"
      ]
     },
     "execution_count": 9,
     "metadata": {},
     "output_type": "execute_result"
    }
   ],
   "source": [
    "S.z_hat([\"A\",2],B[1],100,basis=\"weight\")"
   ]
  }
 ],
 "metadata": {
  "kernelspec": {
   "display_name": "SageMath 9.6",
   "language": "sage",
   "name": "sagemath"
  },
  "language_info": {
   "codemirror_mode": {
    "name": "ipython",
    "version": 3
   },
   "file_extension": ".py",
   "mimetype": "text/x-python",
   "name": "python",
   "nbconvert_exporter": "python",
   "pygments_lexer": "ipython3",
   "version": "3.10.4"
  },
  "vscode": {
   "interpreter": {
    "hash": "d0a05f0c313e5e284696bfab0c425f2bd049a2b800b8197cf9fb2674d7ea8ce4"
   }
  }
 },
 "nbformat": 4,
 "nbformat_minor": 2
}
