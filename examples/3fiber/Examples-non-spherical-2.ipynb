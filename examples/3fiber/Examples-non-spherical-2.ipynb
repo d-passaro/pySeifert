{
 "cells": [
  {
   "cell_type": "markdown",
   "metadata": {},
   "source": [
    "# 3-Manifolds and VOA characters\n",
    "## Example section companion notebook"
   ]
  },
  {
   "cell_type": "markdown",
   "metadata": {},
   "source": [
    "Non pseudospherical examples are the most general types of Seifert manifolds. For these, the lattice dilation factor $D$ is greater than one and less-than-or-equal-to the determinant of the plumbing matrix. In this example notebook, we replicate the computations done in writing the fourth paragraph of section 6.1 of arXiv:2201.04640, while at the same time demonstrating the capabilities and main functions of pySeifert: a Sage toolkit for the computation of $\\hat{Z}$ invariants for Seifert manifolds and related q-series invariants."
   ]
  },
  {
   "cell_type": "markdown",
   "metadata": {},
   "source": [
    "We start by loading pySeifert and defining the Seifert manifold"
   ]
  },
  {
   "cell_type": "code",
   "execution_count": 1,
   "metadata": {
    "vscode": {
     "languageId": "python"
    }
   },
   "outputs": [
    {
     "data": {
      "text/plain": [
       "Seifert manifold with 3 exceptional fibers.\n",
       "Seifert data:\n",
       "[0, -1, 3, 2, 7, -1, 2]\n",
       "Plumbing Matrix:\n",
       "[ 0  1  1  0  1]\n",
       "[ 1  3  0  0  0]\n",
       "[ 1  0 -4  1  0]\n",
       "[ 0  0  1 -2  0]\n",
       "[ 1  0  0  0  2]\n",
       "D: 23, m: 42, det(M): -23"
      ]
     },
     "execution_count": 1,
     "metadata": {},
     "output_type": "execute_result"
    }
   ],
   "source": [
    "# Load pySeifert\n",
    "load(\"../../pySeifert.sage\")\n",
    "S = Seifert([0,-1,3,2,7,-1,2]);S"
   ]
  },
  {
   "cell_type": "markdown",
   "metadata": {},
   "source": [
    "Because $D>1$, $S$ is not a pseudospherical Seifert manifold."
   ]
  },
  {
   "cell_type": "markdown",
   "metadata": {},
   "source": [
    "Boundary conditions are labeled by:"
   ]
  },
  {
   "cell_type": "code",
   "execution_count": 2,
   "metadata": {
    "vscode": {
     "languageId": "python"
    }
   },
   "outputs": [
    {
     "data": {
      "text/plain": [
       "[[(-1, -1), (1, 1), (0, 0), (1, 1), (1, 1)],\n",
       " [(1, -2), (3, 0), (-4, 2), (1, 1), (3, 0)],\n",
       " [(1, -2), (3, 0), (-2, 1), (1, 1), (3, 0)],\n",
       " [(1, -2), (3, 0), (0, 0), (-1, 2), (5, -1)],\n",
       " [(1, -2), (5, -1), (0, 0), (-1, 2), (3, 0)],\n",
       " [(1, -2), (7, -2), (0, 0), (1, 1), (3, 0)],\n",
       " [(3, -3), (3, 0), (-6, 3), (1, 1), (5, -1)],\n",
       " [(3, -3), (5, -1), (-6, 3), (1, 1), (3, 0)],\n",
       " [(3, -3), (5, -1), (-4, 2), (-1, 2), (5, -1)],\n",
       " [(3, -3), (5, -1), (-2, 1), (-1, 2), (5, -1)],\n",
       " [(3, -3), (7, -2), (-4, 2), (-1, 2), (3, 0)],\n",
       " [(3, -3), (7, -2), (-2, 1), (1, 1), (5, -1)]]"
      ]
     },
     "execution_count": 2,
     "metadata": {},
     "output_type": "execute_result"
    }
   ],
   "source": [
    "B = S.boundary_conditions([\"A\",2], basis = \"weight\"); B"
   ]
  },
  {
   "cell_type": "markdown",
   "metadata": {},
   "source": [
    "$\\mathcal B$ contains the trivial $\\vec{\\underline{b}}_0$ and a non trivial conditions $\\vec {\\underline{b}}_i$, $i=1,10$. For $\\vec{\\underline{b}}_0$ the $\\vec{s}$ values are:"
   ]
  },
  {
   "cell_type": "code",
   "execution_count": 3,
   "metadata": {
    "vscode": {
     "languageId": "python"
    }
   },
   "outputs": [
    {
     "data": {
      "text/plain": [
       "(216,\n",
       " [(-1, (-29, -29), (2, 2)),\n",
       "  (1, (13, -50), (26, -10)),\n",
       "  (1, (-50, 13), (-10, 26))])"
      ]
     },
     "execution_count": 3,
     "metadata": {},
     "output_type": "execute_result"
    }
   ],
   "source": [
    "b0 = B[0]\n",
    "lVals,sVals,kVals = list(zip(*S.s_values([\"A\",2],b0, basis = \"weight\")))\n",
    "len(sVals),list(zip(lVals,sVals,kVals))[:3]"
   ]
  },
  {
   "cell_type": "markdown",
   "metadata": {},
   "source": [
    "Because the inverse of the plumbing matrix contains non-integer entries, not all $\\vec s $ values are admissible. Here, only $72$ values are admissible."
   ]
  },
  {
   "cell_type": "markdown",
   "metadata": {},
   "source": [
    "For each $\\vec s$ we can compute the associated $\\hat Z$ invariant integrand  $\\tilde{\\chi}_{\\hat{w};\\vec{\\underline{b}}}$. For example, choosing $\\hat w = (1,1,1)$ leads to:"
   ]
  },
  {
   "cell_type": "code",
   "execution_count": 4,
   "metadata": {
    "vscode": {
     "languageId": "python"
    }
   },
   "outputs": [
    {
     "data": {
      "text/plain": [
       "(z0^2*z1^2 - z0^4/z1^2 - z1^4/z0^2 + z0^2/z1^4 + z1^2/z0^4 - 1/(z0^2*z1^2))*q^(298/23)/(z0*z1 - z0^2/z1 - z1^2/z0 + z0/z1^2 + z1/z0^2 - 1/(z0*z1))"
      ]
     },
     "execution_count": 4,
     "metadata": {},
     "output_type": "execute_result"
    }
   ],
   "source": [
    "wh = [identity_matrix(2) if d == 1 else matrix(2) for d in S.deg]\n",
    "rho = vector([1,1])\n",
    "s = -S.d*S.A*matrix([wi*rho for wi in wh]);s\n",
    "chi_tilde = S.chi_tilde([\"A\",2],wh, b0, 100, basis=\"weight\"); chi_tilde"
   ]
  },
  {
   "cell_type": "markdown",
   "metadata": {},
   "source": [
    "For each $\\vec s$ we can also compute the triplet character. Choosing the same $\\hat{w}$ we get:"
   ]
  },
  {
   "cell_type": "code",
   "execution_count": 5,
   "metadata": {
    "vscode": {
     "languageId": "python"
    }
   },
   "outputs": [
    {
     "data": {
      "text/plain": [
       "-2*q^(3823/42) - (z0^2*z1^2 - z0^4/z1^2 - z1^4/z0^2 + z0^2/z1^4 + z1^2/z0^4 - 1/(z0^2*z1^2))*q^(3025/42)/(z0*z1 - z0^2/z1 - z1^2/z0 + z0/z1^2 + z1/z0^2 - 1/(z0*z1)) + 2*q^(1387/42) - q^(169/42)"
      ]
     },
     "execution_count": 5,
     "metadata": {},
     "output_type": "execute_result"
    }
   ],
   "source": [
    "mu = 1/sqrt(S.m)*(rho-s)\n",
    "trip_ch = triplet_character([\"A\",2],vector([0,0]),mu,S.m,3,100,basis=\"weight\"); trip_ch"
   ]
  },
  {
   "cell_type": "markdown",
   "metadata": {},
   "source": [
    "By summing over boundary conditions, properly dilating $\\tau$ and multiplying by $q^\\delta$ we can relate the $\\hat{Z}$ integrand to the triplet character."
   ]
  },
  {
   "cell_type": "code",
   "execution_count": 6,
   "metadata": {
    "vscode": {
     "languageId": "python"
    }
   },
   "outputs": [
    {
     "data": {
      "text/plain": [
       "0"
      ]
     },
     "execution_count": 6,
     "metadata": {},
     "output_type": "execute_result"
    }
   ],
   "source": [
    "chi_tilde_sum = 0\n",
    "cart = cartan_matrix([\"A\",2])\n",
    "for db in itertools.product(range(S.d),repeat=2):\n",
    "    db = cart*vector(db)\n",
    "    chi_tilde_sum += S.chi_tilde([\"A\",2],wh, [b0[0]+db]+b0[1:], 100, basis=\"weight\")\n",
    "\n",
    "dil_chi_tilde = 0\n",
    "delta = S.delta([\"A\",2])\n",
    "for pref, exp in chi_tilde_sum.coefficients(q):\n",
    "    dil_chi_tilde += pref * q^(S.d*(exp-delta))\n",
    "\n",
    "expand(dil_chi_tilde-trip_ch).series(q,100).truncate()"
   ]
  }
 ],
 "metadata": {
  "kernelspec": {
   "display_name": "SageMath 9.6",
   "language": "sage",
   "name": "sagemath"
  },
  "language_info": {
   "codemirror_mode": {
    "name": "ipython",
    "version": 3
   },
   "file_extension": ".py",
   "mimetype": "text/x-python",
   "name": "sage",
   "nbconvert_exporter": "python",
   "pygments_lexer": "ipython3",
   "version": "3.10.4"
  },
  "vscode": {
   "interpreter": {
    "hash": "d0a05f0c313e5e284696bfab0c425f2bd049a2b800b8197cf9fb2674d7ea8ce4"
   }
  }
 },
 "nbformat": 4,
 "nbformat_minor": 2
}
