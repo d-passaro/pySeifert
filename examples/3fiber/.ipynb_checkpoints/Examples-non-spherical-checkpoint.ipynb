{
 "cells": [
  {
   "cell_type": "markdown",
   "metadata": {},
   "source": [
    "# 3-Manifolds and VOA characters\n",
    "## Example section companion notebook"
   ]
  },
  {
   "cell_type": "code",
   "execution_count": 1,
   "metadata": {},
   "outputs": [],
   "source": [
    "# Load packages and pySeifert\n",
    "import numpy as np\n",
    "import itertools\n",
    "load(\"../../pySeifert.sage\")"
   ]
  },
  {
   "cell_type": "markdown",
   "metadata": {},
   "source": [
    "After loading the Seifert class and other packages needed for the computation, we define the Seifert manifold."
   ]
  },
  {
   "cell_type": "code",
   "execution_count": 2,
   "metadata": {},
   "outputs": [
    {
     "data": {
      "text/plain": [
       "Seifert manifold with 3 exceptional fibers.\n",
       "Seifert data:\n",
       "[-1, 1, 3, -1, 2, -1, 2]\n",
       "Plumbing Matrix:\n",
       "[-1  1  1  1]\n",
       "[ 1 -3  0  0]\n",
       "[ 1  0  2  0]\n",
       "[ 1  0  0  2]\n",
       "D: 10, m: 6, det(M): 20"
      ]
     },
     "execution_count": 2,
     "metadata": {},
     "output_type": "execute_result"
    }
   ],
   "source": [
    "S = Seifert([-1,1,3,-1,2,-1,2]);S"
   ]
  },
  {
   "cell_type": "markdown",
   "metadata": {},
   "source": [
    "$S$ is a non spherical manifold. The plumbing matrix has determinant:"
   ]
  },
  {
   "cell_type": "code",
   "execution_count": 3,
   "metadata": {},
   "outputs": [
    {
     "data": {
      "text/plain": [
       "20"
      ]
     },
     "execution_count": 3,
     "metadata": {},
     "output_type": "execute_result"
    }
   ],
   "source": [
    "S.Mdet"
   ]
  },
  {
   "cell_type": "markdown",
   "metadata": {},
   "source": [
    "The inverse of the  plumbing matrix is:"
   ]
  },
  {
   "cell_type": "code",
   "execution_count": 4,
   "metadata": {},
   "outputs": [
    {
     "data": {
      "text/plain": [
       "[ -3/5  -1/5  3/10  3/10]\n",
       "[ -1/5  -2/5  1/10  1/10]\n",
       "[ 3/10  1/10  7/20 -3/20]\n",
       "[ 3/10  1/10 -3/20  7/20]"
      ]
     },
     "execution_count": 4,
     "metadata": {},
     "output_type": "execute_result"
    }
   ],
   "source": [
    "S.Minv"
   ]
  },
  {
   "cell_type": "markdown",
   "metadata": {},
   "source": [
    "Note that the first row (and the first column) have integer entries. This is a feature common to pseudo-spherical manifolds.\n",
    "\n",
    "Boundary conditions are labeled by:"
   ]
  },
  {
   "cell_type": "code",
   "execution_count": 5,
   "metadata": {},
   "outputs": [
    {
     "data": {
      "text/plain": [
       "[[(-1, -1), (1, 1), (1, 1), (1, 1)],\n",
       " [(-1, -1), (1, 1), (3, 0), (3, 0)],\n",
       " [(-1, -1), (1, 1), (3, 0), (5, -1)],\n",
       " [(1, -2), (-3, 3), (3, 0), (3, 0)],\n",
       " [(1, -2), (-3, 3), (3, 0), (5, -1)],\n",
       " [(1, -2), (-1, 2), (5, -1), (3, 0)],\n",
       " [(1, -2), (-1, 2), (5, -1), (5, -1)],\n",
       " [(1, -2), (1, 1), (3, 0), (3, 0)],\n",
       " [(1, -2), (1, 1), (3, 0), (5, -1)],\n",
       " [(3, -3), (-3, 3), (3, 0), (5, -1)],\n",
       " [(3, -3), (-1, 2), (5, -1), (5, -1)]]"
      ]
     },
     "execution_count": 5,
     "metadata": {},
     "output_type": "execute_result"
    }
   ],
   "source": [
    "B = S.boundary_conditions([\"A\",2], basis = \"weight\"); B"
   ]
  },
  {
   "cell_type": "markdown",
   "metadata": {},
   "source": [
    "$\\mathcal B$ contains the trivial $\\vec{\\underline{b}}_0$ and a non trivial condition $\\vec {\\underline{b}}_i$, $i=1,10$. For $\\vec{\\underline{b}}_0$ the $\\vec{s}$ values are:"
   ]
  },
  {
   "cell_type": "code",
   "execution_count": 6,
   "metadata": {},
   "outputs": [
    {
     "data": {
      "text/plain": [
       "(72, [(-1, (-4, -4), (1, 1)), (1, (2, 2), (2, 2)), (-1, (8, -10), (13, -5))])"
      ]
     },
     "execution_count": 6,
     "metadata": {},
     "output_type": "execute_result"
    }
   ],
   "source": [
    "b0 = B[0]\n",
    "sVals = list()\n",
    "lVals = list()\n",
    "kVals = list()\n",
    "for l,s,k in S.s_values([\"A\",2],b0, basis = \"weight\"):\n",
    "    lVals += [l]\n",
    "    sVals += [s]\n",
    "    kVals += [k]\n",
    "len(sVals),list(zip(lVals,sVals,kVals))[:3]"
   ]
  },
  {
   "cell_type": "code",
   "execution_count": 7,
   "metadata": {},
   "outputs": [
    {
     "data": {
      "text/plain": [
       "(1, (4, 4), (9, 9))"
      ]
     },
     "execution_count": 7,
     "metadata": {},
     "output_type": "execute_result"
    }
   ],
   "source": [
    "list(zip(lVals,sVals,kVals))[-1]"
   ]
  },
  {
   "cell_type": "markdown",
   "metadata": {},
   "source": [
    "Because the inverse of the plumbing matrix contains non-integer entries, not all $\\vec s $ values are admissible. Here, only $72$ values are admissible. The $\\delta$ exponential factor for $S$ is:"
   ]
  },
  {
   "cell_type": "code",
   "execution_count": 8,
   "metadata": {},
   "outputs": [
    {
     "data": {
      "text/plain": [
       "-2/3"
      ]
     },
     "execution_count": 8,
     "metadata": {},
     "output_type": "execute_result"
    }
   ],
   "source": [
    "S.delta([\"A\",2])"
   ]
  },
  {
   "cell_type": "markdown",
   "metadata": {},
   "source": [
    "For $\\hat{w}=(1,1,1)$, the $\\vec s$ can be computed as:"
   ]
  },
  {
   "cell_type": "code",
   "execution_count": 9,
   "metadata": {},
   "outputs": [
    {
     "data": {
      "text/plain": [
       "(-4, -4)"
      ]
     },
     "execution_count": 9,
     "metadata": {},
     "output_type": "execute_result"
    }
   ],
   "source": [
    "wh = [identity_matrix(2) if d == 1 else matrix(2) for d in S.deg]\n",
    "rho = vector([1,1])\n",
    "s = -S.d*S.A*matrix([wi*rho for wi in wh]);s"
   ]
  },
  {
   "cell_type": "markdown",
   "metadata": {},
   "source": [
    "With this data, we compute $\\tilde{\\chi}_{\\hat{w};\\vec{\\underline{b}}}$ and the triplet character"
   ]
  },
  {
   "cell_type": "code",
   "execution_count": 10,
   "metadata": {},
   "outputs": [
    {
     "data": {
      "text/plain": [
       "[((1, 1), (-4, -4)),\n",
       " ((2, 2), (2, 2)),\n",
       " ((13, -5), (8, -10)),\n",
       " ((12, -3), (2, 2)),\n",
       " ((-5, 13), (-10, 8)),\n",
       " ((-3, 12), (2, 2)),\n",
       " ((12, -3), (2, 2)),\n",
       " ((11, -1), (-4, 14)),\n",
       " ((-3, 12), (2, 2)),\n",
       " ((-1, 11), (14, -4))]"
      ]
     },
     "execution_count": 10,
     "metadata": {},
     "output_type": "execute_result"
    }
   ],
   "source": [
    "list(zip(kVals,sVals))[:10]"
   ]
  },
  {
   "cell_type": "code",
   "execution_count": 12,
   "metadata": {},
   "outputs": [
    {
     "data": {
      "text/plain": [
       "(z0^11*z1^11 - z0^22/z1^11 - z1^22/z0^11 + z0^11/z1^22 + z1^11/z0^22 - 1/(z0^11*z1^11))*q^81/(z0*z1 - z0^2/z1 - z1^2/z0 + z0/z1^2 + z1/z0^2 - 1/(z0*z1)) - (z0^12*z1^9 - z0^21/z1^9 - z1^21/z0^12 + z1^12/z0^21 + z0^9/z1^21 - 1/(z0^9*z1^12))*q^71/(z0*z1 - z0^2/z1 - z1^2/z0 + z0/z1^2 + z1/z0^2 - 1/(z0*z1)) - (z0^9*z1^12 - z1^21/z0^9 - z0^21/z1^12 + z0^12/z1^21 + z1^9/z0^21 - 1/(z0^12*z1^9))*q^71/(z0*z1 - z0^2/z1 - z1^2/z0 + z0/z1^2 + z1/z0^2 - 1/(z0*z1)) + (z0^11*z1^8 - z0^19/z1^8 - z1^19/z0^11 + z1^11/z0^19 + z0^8/z1^19 - 1/(z0^8*z1^11))*q^51/(z0*z1 - z0^2/z1 - z1^2/z0 + z0/z1^2 + z1/z0^2 - 1/(z0*z1)) + (z0^8*z1^11 - z1^19/z0^8 - z0^19/z1^11 + z0^11/z1^19 + z1^8/z0^19 - 1/(z0^11*z1^8))*q^51/(z0*z1 - z0^2/z1 - z1^2/z0 + z0/z1^2 + z1/z0^2 - 1/(z0*z1)) - (z0^9*z1^9 - z0^18/z1^9 - z1^18/z0^9 + z0^9/z1^18 + z1^9/z0^18 - 1/(z0^9*z1^9))*q^41/(z0*z1 - z0^2/z1 - z1^2/z0 + z0/z1^2 + z1/z0^2 - 1/(z0*z1)) + q"
      ]
     },
     "execution_count": 12,
     "metadata": {},
     "output_type": "execute_result"
    }
   ],
   "source": [
    "S = Seifert([-1,1,3,-1,2,-1,2])\n",
    "B = S.boundary_conditions([\"A\",2], basis = \"weight\"); B\n",
    "b0 = B[0]\n",
    "wh = [identity_matrix(2) if d == 1 else matrix(2) for d in S.deg]\n",
    "rho = vector([1,1])\n",
    "s = -S.A*matrix([wi*rho for wi in wh]);s\n",
    "S.chi_tilde([\"A\",2],wh, b0, 100, basis=\"root\")        "
   ]
  },
  {
   "cell_type": "code",
   "execution_count": 20,
   "metadata": {},
   "outputs": [
    {
     "data": {
      "text/plain": [
       "[ -3/5  -1/5  3/10  3/10]\n",
       "[ -1/5  -2/5  1/10  1/10]\n",
       "[ 3/10  1/10  7/20 -3/20]\n",
       "[ 3/10  1/10 -3/20  7/20]"
      ]
     },
     "execution_count": 20,
     "metadata": {},
     "output_type": "execute_result"
    }
   ],
   "source": [
    "S.Minv"
   ]
  },
  {
   "cell_type": "code",
   "execution_count": 26,
   "metadata": {},
   "outputs": [
    {
     "name": "stdout",
     "output_type": "stream",
     "text": [
      "[1, 10]\n",
      "[-z0^9*z1^9/(z0*z1 - z0^2/z1 - z1^2/z0 + z0/z1^2 + z1/z0^2 - 1/(z0*z1)) + z0^18/((z0*z1 - z0^2/z1 - z1^2/z0 + z0/z1^2 + z1/z0^2 - 1/(z0*z1))*z1^9) + z1^18/((z0*z1 - z0^2/z1 - z1^2/z0 + z0/z1^2 + z1/z0^2 - 1/(z0*z1))*z0^9) - z0^9/((z0*z1 - z0^2/z1 - z1^2/z0 + z0/z1^2 + z1/z0^2 - 1/(z0*z1))*z1^18) - z1^9/((z0*z1 - z0^2/z1 - z1^2/z0 + z0/z1^2 + z1/z0^2 - 1/(z0*z1))*z0^18) + 1/((z0*z1 - z0^2/z1 - z1^2/z0 + z0/z1^2 + z1/z0^2 - 1/(z0*z1))*z0^9*z1^9), 410]\n",
      "[z0^11*z1^8/(z0*z1 - z0^2/z1 - z1^2/z0 + z0/z1^2 + z1/z0^2 - 1/(z0*z1)) + z0^8*z1^11/(z0*z1 - z0^2/z1 - z1^2/z0 + z0/z1^2 + z1/z0^2 - 1/(z0*z1)) - z0^19/((z0*z1 - z0^2/z1 - z1^2/z0 + z0/z1^2 + z1/z0^2 - 1/(z0*z1))*z1^8) - z1^19/((z0*z1 - z0^2/z1 - z1^2/z0 + z0/z1^2 + z1/z0^2 - 1/(z0*z1))*z0^8) - z0^19/((z0*z1 - z0^2/z1 - z1^2/z0 + z0/z1^2 + z1/z0^2 - 1/(z0*z1))*z1^11) - z1^19/((z0*z1 - z0^2/z1 - z1^2/z0 + z0/z1^2 + z1/z0^2 - 1/(z0*z1))*z0^11) + z0^11/((z0*z1 - z0^2/z1 - z1^2/z0 + z0/z1^2 + z1/z0^2 - 1/(z0*z1))*z1^19) + z1^11/((z0*z1 - z0^2/z1 - z1^2/z0 + z0/z1^2 + z1/z0^2 - 1/(z0*z1))*z0^19) + z0^8/((z0*z1 - z0^2/z1 - z1^2/z0 + z0/z1^2 + z1/z0^2 - 1/(z0*z1))*z1^19) + z1^8/((z0*z1 - z0^2/z1 - z1^2/z0 + z0/z1^2 + z1/z0^2 - 1/(z0*z1))*z0^19) - 1/((z0*z1 - z0^2/z1 - z1^2/z0 + z0/z1^2 + z1/z0^2 - 1/(z0*z1))*z0^8*z1^11) - 1/((z0*z1 - z0^2/z1 - z1^2/z0 + z0/z1^2 + z1/z0^2 - 1/(z0*z1))*z0^11*z1^8), 510]\n",
      "[-z0^12*z1^9/(z0*z1 - z0^2/z1 - z1^2/z0 + z0/z1^2 + z1/z0^2 - 1/(z0*z1)) - z0^9*z1^12/(z0*z1 - z0^2/z1 - z1^2/z0 + z0/z1^2 + z1/z0^2 - 1/(z0*z1)) + z0^21/((z0*z1 - z0^2/z1 - z1^2/z0 + z0/z1^2 + z1/z0^2 - 1/(z0*z1))*z1^9) + z1^21/((z0*z1 - z0^2/z1 - z1^2/z0 + z0/z1^2 + z1/z0^2 - 1/(z0*z1))*z0^9) + z0^21/((z0*z1 - z0^2/z1 - z1^2/z0 + z0/z1^2 + z1/z0^2 - 1/(z0*z1))*z1^12) + z1^21/((z0*z1 - z0^2/z1 - z1^2/z0 + z0/z1^2 + z1/z0^2 - 1/(z0*z1))*z0^12) - z0^12/((z0*z1 - z0^2/z1 - z1^2/z0 + z0/z1^2 + z1/z0^2 - 1/(z0*z1))*z1^21) - z1^12/((z0*z1 - z0^2/z1 - z1^2/z0 + z0/z1^2 + z1/z0^2 - 1/(z0*z1))*z0^21) - z0^9/((z0*z1 - z0^2/z1 - z1^2/z0 + z0/z1^2 + z1/z0^2 - 1/(z0*z1))*z1^21) - z1^9/((z0*z1 - z0^2/z1 - z1^2/z0 + z0/z1^2 + z1/z0^2 - 1/(z0*z1))*z0^21) + 1/((z0*z1 - z0^2/z1 - z1^2/z0 + z0/z1^2 + z1/z0^2 - 1/(z0*z1))*z0^9*z1^12) + 1/((z0*z1 - z0^2/z1 - z1^2/z0 + z0/z1^2 + z1/z0^2 - 1/(z0*z1))*z0^12*z1^9), 710]\n"
     ]
    }
   ],
   "source": [
    "mu = 1/sqrt(S.m)*(rho-s*S.d)\n",
    "for pref, exp in (q^(S.d*S.delta([\"A\",2]))*triplet_character([\"A\",2],vector([0,0]),mu,S.m,3,750,basis=\"weight\")).coefficients(q):\n",
    "    if exp in [10,410,510,710]:\n",
    "        print([pref,exp])"
   ]
  },
  {
   "cell_type": "code",
   "execution_count": null,
   "metadata": {},
   "outputs": [],
   "source": []
  }
 ],
 "metadata": {
  "kernelspec": {
   "display_name": "SageMath 9.6",
   "language": "sage",
   "name": "sagemath"
  },
  "language_info": {
   "codemirror_mode": {
    "name": "ipython",
    "version": 3
   },
   "file_extension": ".py",
   "mimetype": "text/x-python",
   "name": "python",
   "nbconvert_exporter": "python",
   "pygments_lexer": "ipython3",
   "version": "3.10.4"
  },
  "vscode": {
   "interpreter": {
    "hash": "d0a05f0c313e5e284696bfab0c425f2bd049a2b800b8197cf9fb2674d7ea8ce4"
   }
  }
 },
 "nbformat": 4,
 "nbformat_minor": 2
}
