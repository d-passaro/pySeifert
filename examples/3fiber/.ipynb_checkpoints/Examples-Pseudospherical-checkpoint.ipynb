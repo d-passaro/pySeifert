{
 "cells": [
  {
   "cell_type": "markdown",
   "metadata": {},
   "source": [
    "# 3-Manifolds and VOA characters\n",
    "## Example section companion notebook"
   ]
  },
  {
   "cell_type": "code",
   "execution_count": 1,
   "metadata": {
    "vscode": {
     "languageId": "python"
    }
   },
   "outputs": [],
   "source": [
    "# Load packages and pySeifert\n",
    "import numpy as np\n",
    "import itertools\n",
    "load(\"../../pySeifert.sage\")"
   ]
  },
  {
   "cell_type": "markdown",
   "metadata": {},
   "source": [
    "After loading the Seifert class and other packages needed for the computation, we define the Seifert manifold."
   ]
  },
  {
   "cell_type": "code",
   "execution_count": 2,
   "metadata": {
    "vscode": {
     "languageId": "python"
    }
   },
   "outputs": [
    {
     "data": {
      "text/plain": [
       "Seifert manifold with 3 exceptional fibers.\n",
       "Seifert data:\n",
       "[-1, 1, 2, 1, 3, 1, 9]\n",
       "Plumbing Matrix:\n",
       "[-1  1  1  1]\n",
       "[ 1 -2  0  0]\n",
       "[ 1  0 -3  0]\n",
       "[ 1  0  0 -9]\n",
       "D: 1, m: 18, det(M): 3"
      ]
     },
     "execution_count": 2,
     "metadata": {},
     "output_type": "execute_result"
    }
   ],
   "source": [
    "S = Seifert([-1,1,2,1,3,1,9]);S"
   ]
  },
  {
   "cell_type": "markdown",
   "metadata": {},
   "source": [
    "$S$ is a pseudo-spherical manifold. The plumbing matrix has determinant. The determinant of the plumbing matrix is 3, yet the inverse fo the plumbing matrix:"
   ]
  },
  {
   "cell_type": "code",
   "execution_count": 4,
   "metadata": {
    "vscode": {
     "languageId": "python"
    }
   },
   "outputs": [
    {
     "data": {
      "text/plain": [
       "[ -18   -9   -6   -2]\n",
       "[  -9   -5   -3   -1]\n",
       "[  -6   -3 -7/3 -2/3]\n",
       "[  -2   -1 -2/3 -1/3]"
      ]
     },
     "execution_count": 4,
     "metadata": {},
     "output_type": "execute_result"
    }
   ],
   "source": [
    "S.Minv"
   ]
  },
  {
   "cell_type": "markdown",
   "metadata": {},
   "source": [
    "has integer entries in the first row (and column).\n",
    "\n",
    "Boundary conditions are labeled by:"
   ]
  },
  {
   "cell_type": "code",
   "execution_count": 3,
   "metadata": {
    "vscode": {
     "languageId": "python"
    }
   },
   "outputs": [
    {
     "data": {
      "text/plain": [
       "[[(-1, -1), (1, 1), (1, 1), (1, 1)], [(1, -2), (1, 1), (-3, 3), (-5, 4)]]"
      ]
     },
     "execution_count": 3,
     "metadata": {},
     "output_type": "execute_result"
    }
   ],
   "source": [
    "B = S.boundary_conditions([\"A\",2], basis = \"weight\"); B"
   ]
  },
  {
   "cell_type": "markdown",
   "metadata": {},
   "source": [
    "$\\mathcal B$ contains the trivial $\\vec{\\underline{b}}_0$ and a non trivial condition $\\vec {\\underline{b}}_1$. For $\\vec{\\underline{b}}_0$ the $\\vec{s}$ values are:"
   ]
  },
  {
   "cell_type": "code",
   "execution_count": 4,
   "metadata": {
    "vscode": {
     "languageId": "python"
    }
   },
   "outputs": [
    {
     "data": {
      "text/plain": [
       "(36, [(-1, (17, 17), (0, 0)), (-1, (1, 25), (0, 0)), (-1, (25, 1), (0, 0))])"
      ]
     },
     "execution_count": 4,
     "metadata": {},
     "output_type": "execute_result"
    }
   ],
   "source": [
    "b0 = B[0]\n",
    "sVals = list()\n",
    "lVals = list()\n",
    "kVals = list()\n",
    "for l,s,k in S.s_values([\"A\",2],b0, basis = \"weight\"):\n",
    "    lVals += [l]\n",
    "    sVals += [s]\n",
    "    kVals += [k]\n",
    "len(sVals),list(zip(lVals,sVals,kVals))[:3]"
   ]
  },
  {
   "cell_type": "markdown",
   "metadata": {},
   "source": [
    "Because the inverse of the plumbing matrix contains non-integer entries, not all $\\vec s $ values are admissible. Here, only $36$ values are admissible. The $\\delta$ exponential factor for $S$ is:"
   ]
  },
  {
   "cell_type": "code",
   "execution_count": 6,
   "metadata": {
    "vscode": {
     "languageId": "python"
    }
   },
   "outputs": [
    {
     "data": {
      "text/plain": [
       "17/18"
      ]
     },
     "execution_count": 6,
     "metadata": {},
     "output_type": "execute_result"
    }
   ],
   "source": [
    "S.delta([\"A\",2])"
   ]
  },
  {
   "cell_type": "markdown",
   "metadata": {},
   "source": [
    "For $\\hat{w}=(1,1,1)$, the $\\vec s$ can be computed as:"
   ]
  },
  {
   "cell_type": "code",
   "execution_count": 7,
   "metadata": {
    "vscode": {
     "languageId": "python"
    }
   },
   "outputs": [
    {
     "data": {
      "text/plain": [
       "(17, 17)"
      ]
     },
     "execution_count": 7,
     "metadata": {},
     "output_type": "execute_result"
    }
   ],
   "source": [
    "wh = [identity_matrix(2) if d == 1 else matrix(2) for d in S.deg]\n",
    "rho = vector([1,1])\n",
    "s = -S.A*matrix([wi*rho for wi in wh]);s"
   ]
  },
  {
   "cell_type": "markdown",
   "metadata": {},
   "source": [
    "With this data, we compute $\\tilde{\\chi}_{\\hat{w};\\vec{\\underline{b}}}$ and the triplet character"
   ]
  },
  {
   "cell_type": "code",
   "execution_count": 8,
   "metadata": {
    "vscode": {
     "languageId": "python"
    }
   },
   "outputs": [
    {
     "data": {
      "text/plain": [
       "(z0^3*z1^3 - z0^6/z1^3 - z1^6/z0^3 + z0^3/z1^6 + z1^3/z0^6 - 1/(z0^3*z1^3))*q^77/(z0*z1 - z0^2/z1 - z1^2/z0 + z0/z1^2 + z1/z0^2 - 1/(z0*z1)) - (z0^4*z1 - z0^5/z1 - z1^5/z0^4 + z1^4/z0^5 + z0/z1^5 - 1/(z0*z1^4))*q^75/(z0*z1 - z0^2/z1 - z1^2/z0 + z0/z1^2 + z1/z0^2 - 1/(z0*z1)) - (z0*z1^4 - z1^5/z0 - z0^5/z1^4 + z0^4/z1^5 + z1/z0^5 - 1/(z0^4*z1))*q^75/(z0*z1 - z0^2/z1 - z1^2/z0 + z0/z1^2 + z1/z0^2 - 1/(z0*z1)) - q^69 + (z0^4*z1 - z0^5/z1 - z1^5/z0^4 + z1^4/z0^5 + z0/z1^5 - 1/(z0*z1^4))*q^58/(z0*z1 - z0^2/z1 - z1^2/z0 + z0/z1^2 + z1/z0^2 - 1/(z0*z1)) + (z0*z1^4 - z1^5/z0 - z0^5/z1^4 + z0^4/z1^5 + z1/z0^5 - 1/(z0^4*z1))*q^58/(z0*z1 - z0^2/z1 - z1^2/z0 + z0/z1^2 + z1/z0^2 - 1/(z0*z1)) - 2*(z0^2*z1^2 - z0^4/z1^2 - z1^4/z0^2 + z0^2/z1^4 + z1^2/z0^4 - 1/(z0^2*z1^2))*q^55/(z0*z1 - z0^2/z1 - z1^2/z0 + z0/z1^2 + z1/z0^2 - 1/(z0*z1)) + 2*q^52 + (z0^2*z1^2 - z0^4/z1^2 - z1^4/z0^2 + z0^2/z1^4 + z1^2/z0^4 - 1/(z0^2*z1^2))*q^21/(z0*z1 - z0^2/z1 - z1^2/z0 + z0/z1^2 + z1/z0^2 - 1/(z0*z1)) - 2*q^18 + q"
      ]
     },
     "execution_count": 8,
     "metadata": {},
     "output_type": "execute_result"
    }
   ],
   "source": [
    "S.chi_tilde([\"A\",2],wh, b0, 100, basis=\"weight\")"
   ]
  },
  {
   "cell_type": "code",
   "execution_count": 9,
   "metadata": {
    "vscode": {
     "languageId": "python"
    }
   },
   "outputs": [
    {
     "data": {
      "text/plain": [
       "(z0^3*z1^3/(z0*z1 - z0^2/z1 - z1^2/z0 + z0/z1^2 + z1/z0^2 - 1/(z0*z1)) - z0^6/((z0*z1 - z0^2/z1 - z1^2/z0 + z0/z1^2 + z1/z0^2 - 1/(z0*z1))*z1^3) - z1^6/((z0*z1 - z0^2/z1 - z1^2/z0 + z0/z1^2 + z1/z0^2 - 1/(z0*z1))*z0^3) + z0^3/((z0*z1 - z0^2/z1 - z1^2/z0 + z0/z1^2 + z1/z0^2 - 1/(z0*z1))*z1^6) + z1^3/((z0*z1 - z0^2/z1 - z1^2/z0 + z0/z1^2 + z1/z0^2 - 1/(z0*z1))*z0^6) - 1/((z0*z1 - z0^2/z1 - z1^2/z0 + z0/z1^2 + z1/z0^2 - 1/(z0*z1))*z0^3*z1^3))*q^77 - (z0^4*z1/(z0*z1 - z0^2/z1 - z1^2/z0 + z0/z1^2 + z1/z0^2 - 1/(z0*z1)) + z0*z1^4/(z0*z1 - z0^2/z1 - z1^2/z0 + z0/z1^2 + z1/z0^2 - 1/(z0*z1)) - z0^5/((z0*z1 - z0^2/z1 - z1^2/z0 + z0/z1^2 + z1/z0^2 - 1/(z0*z1))*z1) - z1^5/((z0*z1 - z0^2/z1 - z1^2/z0 + z0/z1^2 + z1/z0^2 - 1/(z0*z1))*z0) - z0^5/((z0*z1 - z0^2/z1 - z1^2/z0 + z0/z1^2 + z1/z0^2 - 1/(z0*z1))*z1^4) - z1^5/((z0*z1 - z0^2/z1 - z1^2/z0 + z0/z1^2 + z1/z0^2 - 1/(z0*z1))*z0^4) + z0^4/((z0*z1 - z0^2/z1 - z1^2/z0 + z0/z1^2 + z1/z0^2 - 1/(z0*z1))*z1^5) + z1^4/((z0*z1 - z0^2/z1 - z1^2/z0 + z0/z1^2 + z1/z0^2 - 1/(z0*z1))*z0^5) + z0/((z0*z1 - z0^2/z1 - z1^2/z0 + z0/z1^2 + z1/z0^2 - 1/(z0*z1))*z1^5) + z1/((z0*z1 - z0^2/z1 - z1^2/z0 + z0/z1^2 + z1/z0^2 - 1/(z0*z1))*z0^5) - 1/((z0*z1 - z0^2/z1 - z1^2/z0 + z0/z1^2 + z1/z0^2 - 1/(z0*z1))*z0*z1^4) - 1/((z0*z1 - z0^2/z1 - z1^2/z0 + z0/z1^2 + z1/z0^2 - 1/(z0*z1))*z0^4*z1))*q^75 - q^69 + (z0^4*z1/(z0*z1 - z0^2/z1 - z1^2/z0 + z0/z1^2 + z1/z0^2 - 1/(z0*z1)) + z0*z1^4/(z0*z1 - z0^2/z1 - z1^2/z0 + z0/z1^2 + z1/z0^2 - 1/(z0*z1)) - z0^5/((z0*z1 - z0^2/z1 - z1^2/z0 + z0/z1^2 + z1/z0^2 - 1/(z0*z1))*z1) - z1^5/((z0*z1 - z0^2/z1 - z1^2/z0 + z0/z1^2 + z1/z0^2 - 1/(z0*z1))*z0) - z0^5/((z0*z1 - z0^2/z1 - z1^2/z0 + z0/z1^2 + z1/z0^2 - 1/(z0*z1))*z1^4) - z1^5/((z0*z1 - z0^2/z1 - z1^2/z0 + z0/z1^2 + z1/z0^2 - 1/(z0*z1))*z0^4) + z0^4/((z0*z1 - z0^2/z1 - z1^2/z0 + z0/z1^2 + z1/z0^2 - 1/(z0*z1))*z1^5) + z1^4/((z0*z1 - z0^2/z1 - z1^2/z0 + z0/z1^2 + z1/z0^2 - 1/(z0*z1))*z0^5) + z0/((z0*z1 - z0^2/z1 - z1^2/z0 + z0/z1^2 + z1/z0^2 - 1/(z0*z1))*z1^5) + z1/((z0*z1 - z0^2/z1 - z1^2/z0 + z0/z1^2 + z1/z0^2 - 1/(z0*z1))*z0^5) - 1/((z0*z1 - z0^2/z1 - z1^2/z0 + z0/z1^2 + z1/z0^2 - 1/(z0*z1))*z0*z1^4) - 1/((z0*z1 - z0^2/z1 - z1^2/z0 + z0/z1^2 + z1/z0^2 - 1/(z0*z1))*z0^4*z1))*q^58 - 2*(z0^2*z1^2/(z0*z1 - z0^2/z1 - z1^2/z0 + z0/z1^2 + z1/z0^2 - 1/(z0*z1)) - z0^4/((z0*z1 - z0^2/z1 - z1^2/z0 + z0/z1^2 + z1/z0^2 - 1/(z0*z1))*z1^2) - z1^4/((z0*z1 - z0^2/z1 - z1^2/z0 + z0/z1^2 + z1/z0^2 - 1/(z0*z1))*z0^2) + z0^2/((z0*z1 - z0^2/z1 - z1^2/z0 + z0/z1^2 + z1/z0^2 - 1/(z0*z1))*z1^4) + z1^2/((z0*z1 - z0^2/z1 - z1^2/z0 + z0/z1^2 + z1/z0^2 - 1/(z0*z1))*z0^4) - 1/((z0*z1 - z0^2/z1 - z1^2/z0 + z0/z1^2 + z1/z0^2 - 1/(z0*z1))*z0^2*z1^2))*q^55 + 2*q^52 + (z0^2*z1^2/(z0*z1 - z0^2/z1 - z1^2/z0 + z0/z1^2 + z1/z0^2 - 1/(z0*z1)) - z0^4/((z0*z1 - z0^2/z1 - z1^2/z0 + z0/z1^2 + z1/z0^2 - 1/(z0*z1))*z1^2) - z1^4/((z0*z1 - z0^2/z1 - z1^2/z0 + z0/z1^2 + z1/z0^2 - 1/(z0*z1))*z0^2) + z0^2/((z0*z1 - z0^2/z1 - z1^2/z0 + z0/z1^2 + z1/z0^2 - 1/(z0*z1))*z1^4) + z1^2/((z0*z1 - z0^2/z1 - z1^2/z0 + z0/z1^2 + z1/z0^2 - 1/(z0*z1))*z0^4) - 1/((z0*z1 - z0^2/z1 - z1^2/z0 + z0/z1^2 + z1/z0^2 - 1/(z0*z1))*z0^2*z1^2))*q^21 - 2*q^18 + q"
      ]
     },
     "execution_count": 9,
     "metadata": {},
     "output_type": "execute_result"
    }
   ],
   "source": [
    "mu = 1/sqrt(S.m)*(rho-s)\n",
    "(q^(S.delta([\"A\",2]))*triplet_character([\"A\",2],vector([0,0]),mu,S.m,3,100,basis=\"weight\")).series(q,100).truncate()"
   ]
  },
  {
   "cell_type": "markdown",
   "metadata": {},
   "source": [
    "These are the same. The $\\tilde{\\chi}_{\\hat{w};\\vec{\\underline{b}}}$ can be summed over $\\hat{w}$ to obtain the $\\hat{Z}$ invariant"
   ]
  },
  {
   "cell_type": "code",
   "execution_count": 12,
   "metadata": {
    "vscode": {
     "languageId": "python"
    }
   },
   "outputs": [
    {
     "data": {
      "text/plain": [
       "12*q^97 + 12*q^94 - 24*q^91 - 24*q^90 + 12*q^87 + 12*q^86 - 24*q^83 + 6*q^77 + 12*q^75 - 24*q^71 + 6*q^69 + 12*q^63 + 12*q^62 + 12*q^58 + 12*q^57 + 12*q^56 - 24*q^55 + 12*q^52 - 24*q^43 + 12*q^40 - 24*q^35 + 12*q^33 + 12*q^32 - 24*q^30 + 6*q^21 + 12*q^20 - 24*q^18 + 6*q^17 + 12*q^16 + 12*q^13 - 24*q^6 + 12*q^5 + 6*q"
      ]
     },
     "execution_count": 12,
     "metadata": {},
     "output_type": "execute_result"
    }
   ],
   "source": [
    "S.z_hat([\"A\",2],b0,100,basis=\"weight\")"
   ]
  },
  {
   "cell_type": "markdown",
   "metadata": {},
   "source": [
    "Likewise for $\\vec{\\underline{b}}_1$ we get:"
   ]
  },
  {
   "cell_type": "code",
   "execution_count": 13,
   "metadata": {
    "vscode": {
     "languageId": "python"
    }
   },
   "outputs": [
    {
     "data": {
      "text/plain": [
       "(-2)*q + (-1)*q^2 + (-2)*q^3 + (-2)*q^4 + 4*q^5 + (-2)*q^6 + 2*q^8 + 4*q^9 + (-3)*q^10 + (-2)*q^13 + 4*q^14 + 2*q^15 + (-2)*q^16 + (-2)*q^18 + (-2)*q^19 + Order(q^20)"
      ]
     },
     "execution_count": 13,
     "metadata": {},
     "output_type": "execute_result"
    }
   ],
   "source": [
    "(q^(-1/3)*S.z_hat([\"A\",2],B[1],100,basis=\"weight\")).series(q)"
   ]
  }
 ],
 "metadata": {
  "kernelspec": {
   "display_name": "SageMath 9.6",
   "language": "sage",
   "name": "sagemath"
  },
  "language_info": {
   "codemirror_mode": {
    "name": "ipython",
    "version": 3
   },
   "file_extension": ".py",
   "mimetype": "text/x-python",
   "name": "python",
   "nbconvert_exporter": "python",
   "pygments_lexer": "ipython3",
   "version": "3.10.4"
  },
  "vscode": {
   "interpreter": {
    "hash": "d0a05f0c313e5e284696bfab0c425f2bd049a2b800b8197cf9fb2674d7ea8ce4"
   }
  }
 },
 "nbformat": 4,
 "nbformat_minor": 2
}
