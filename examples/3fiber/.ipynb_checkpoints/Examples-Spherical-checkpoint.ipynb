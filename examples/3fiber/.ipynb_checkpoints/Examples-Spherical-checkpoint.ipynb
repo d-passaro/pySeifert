{
 "cells": [
  {
   "cell_type": "markdown",
   "metadata": {},
   "source": [
    "# 3-Manifolds and VOA characters\n",
    "## Example section companion notebook"
   ]
  },
  {
   "cell_type": "code",
   "execution_count": 1,
   "metadata": {
    "vscode": {
     "languageId": "python"
    }
   },
   "outputs": [],
   "source": [
    "# Load packages and pySeifert\n",
    "load(\"../../pySeifert.sage\")"
   ]
  },
  {
   "cell_type": "markdown",
   "metadata": {},
   "source": [
    "After loading the Seifert class and other packages needed for the computation, we can define the Seifert manifold."
   ]
  },
  {
   "cell_type": "code",
   "execution_count": 2,
   "metadata": {
    "vscode": {
     "languageId": "python"
    }
   },
   "outputs": [
    {
     "data": {
      "text/plain": [
       "Seifert manifold with 3 exceptional fibers.\n",
       "Seifert data:\n",
       "[-1, 3, 5, 2, 7, 1, 9]\n",
       "Plumbing Matrix:\n",
       "[-1  1  0  1  0  1]\n",
       "[ 1 -2  1  0  0  0]\n",
       "[ 0  1 -3  0  0  0]\n",
       "[ 1  0  0 -4  1  0]\n",
       "[ 0  0  0  1 -2  0]\n",
       "[ 1  0  0  0  0 -9]\n",
       "D: 1, m: 315, det(M): 1"
      ]
     },
     "execution_count": 2,
     "metadata": {},
     "output_type": "execute_result"
    }
   ],
   "source": [
    "S = Seifert([-1,3,5,2,7,1,9]);S"
   ]
  },
  {
   "cell_type": "markdown",
   "metadata": {},
   "source": [
    "$S$ is a spherical manifold therefore the plumbing matrix is unitary and we have $D=1$.\n",
    "We can proceed by computing the $\\mathcal B$ set and the $\\vec s$ values for $A_2$."
   ]
  },
  {
   "cell_type": "code",
   "execution_count": 3,
   "metadata": {
    "vscode": {
     "languageId": "python"
    }
   },
   "outputs": [
    {
     "data": {
      "text/plain": [
       "[[(-1, -1), (0, 0), (1, 1), (0, 0), (1, 1), (1, 1)]]"
      ]
     },
     "execution_count": 3,
     "metadata": {},
     "output_type": "execute_result"
    }
   ],
   "source": [
    "B = S.boundary_conditions([\"A\",2], basis = \"weight\"); B"
   ]
  },
  {
   "cell_type": "markdown",
   "metadata": {},
   "source": [
    "$\\mathcal B$ only contains the trivial $\\vec{\\underline{b}}_0$. This is expected because $S$ is a Brieskorn sphere."
   ]
  },
  {
   "cell_type": "code",
   "execution_count": 4,
   "metadata": {
    "vscode": {
     "languageId": "python"
    }
   },
   "outputs": [
    {
     "data": {
      "text/plain": [
       "(216,\n",
       " [(-1, (143, 143), (0, 0)), (1, (73, 178), (0, 0)), (1, (178, 73), (0, 0))])"
      ]
     },
     "execution_count": 4,
     "metadata": {},
     "output_type": "execute_result"
    }
   ],
   "source": [
    "b0 = B[0]\n",
    "sVals = list()\n",
    "lVals = list()\n",
    "kVals = list()\n",
    "for l,s,k in S.s_values([\"A\",2],b0, basis = \"weight\"):\n",
    "    lVals += [l]\n",
    "    sVals += [s]\n",
    "    kVals += [k]\n",
    "len(sVals),list(zip(lVals,sVals,kVals))[:3]"
   ]
  },
  {
   "cell_type": "markdown",
   "metadata": {},
   "source": [
    "There are $6^3=216$ admissible $\\vec s$ values. Furthermore, all $\\vec \\kappa_{\\hat{w};\\vec{\\underline{b}}}$ are $(0,0)$ because $D=1$. We can restrict the set of $\\vec s$ values to the the range $0<s\\leq m$."
   ]
  },
  {
   "cell_type": "code",
   "execution_count": 5,
   "metadata": {
    "vscode": {
     "languageId": "python"
    }
   },
   "outputs": [
    {
     "data": {
      "text/plain": [
       "(36, [(143, 143), (73, 178), (178, 73)])"
      ]
     },
     "execution_count": 5,
     "metadata": {},
     "output_type": "execute_result"
    }
   ],
   "source": [
    "in_range_sVals = list()\n",
    "for s in sVals:\n",
    "    if 0<s[0]<=S.m and 0<s[1]<=S.m:\n",
    "        in_range_sVals.append(s)\n",
    "len(in_range_sVals),in_range_sVals[:3]"
   ]
  },
  {
   "cell_type": "markdown",
   "metadata": {},
   "source": [
    "The $\\delta$ exponential factor for $S$ is:"
   ]
  },
  {
   "cell_type": "code",
   "execution_count": 6,
   "metadata": {
    "vscode": {
     "languageId": "python"
    }
   },
   "outputs": [
    {
     "data": {
      "text/plain": [
       "341/315"
      ]
     },
     "execution_count": 6,
     "metadata": {},
     "output_type": "execute_result"
    }
   ],
   "source": [
    "S.delta([\"A\",2])"
   ]
  },
  {
   "cell_type": "markdown",
   "metadata": {},
   "source": [
    "For $\\hat{w}=(1,1,1)$, the $\\vec s$ can be computed as:"
   ]
  },
  {
   "cell_type": "code",
   "execution_count": 7,
   "metadata": {
    "vscode": {
     "languageId": "python"
    }
   },
   "outputs": [
    {
     "data": {
      "text/plain": [
       "(143, 143)"
      ]
     },
     "execution_count": 7,
     "metadata": {},
     "output_type": "execute_result"
    }
   ],
   "source": [
    "wh = [identity_matrix(2) if d == 1 else matrix(2) for d in S.deg]\n",
    "rho = vector([1,1])\n",
    "s = -S.A*matrix([wi*rho for wi in wh]);s"
   ]
  },
  {
   "cell_type": "markdown",
   "metadata": {},
   "source": [
    "With this data, we compute $\\tilde{\\chi}_{\\hat{w};\\vec{\\underline{b}}}$:"
   ]
  },
  {
   "cell_type": "code",
   "execution_count": 8,
   "metadata": {
    "vscode": {
     "languageId": "python"
    }
   },
   "outputs": [
    {
     "data": {
      "text/plain": [
       "(z0^2*z1^2 - z0^4/z1^2 - z1^4/z0^2 + z0^2/z1^4 + z1^2/z0^4 - 1/(z0^2*z1^2))*q^754/(z0*z1 - z0^2/z1 - z1^2/z0 + z0/z1^2 + z1/z0^2 - 1/(z0*z1)) - q^667 + 2*q^524 - 2*q^238 + q^95"
      ]
     },
     "execution_count": 8,
     "metadata": {},
     "output_type": "execute_result"
    }
   ],
   "source": [
    "S.chi_tilde([\"A\",2],wh, b0, 1000, basis=\"weight\")"
   ]
  },
  {
   "cell_type": "markdown",
   "metadata": {},
   "source": [
    "... and the triplet character. To aide in comparison with $\\tilde{\\chi}_{\\hat{w};\\vec{\\underline{b}}}$, we multiply by $q^{\\delta}$ and expand the series in $q$"
   ]
  },
  {
   "cell_type": "code",
   "execution_count": 9,
   "metadata": {
    "vscode": {
     "languageId": "python"
    }
   },
   "outputs": [
    {
     "data": {
      "text/plain": [
       "(z0^2*z1^2/(z0*z1 - z0^2/z1 - z1^2/z0 + z0/z1^2 + z1/z0^2 - 1/(z0*z1)) - z0^4/((z0*z1 - z0^2/z1 - z1^2/z0 + z0/z1^2 + z1/z0^2 - 1/(z0*z1))*z1^2) - z1^4/((z0*z1 - z0^2/z1 - z1^2/z0 + z0/z1^2 + z1/z0^2 - 1/(z0*z1))*z0^2) + z0^2/((z0*z1 - z0^2/z1 - z1^2/z0 + z0/z1^2 + z1/z0^2 - 1/(z0*z1))*z1^4) + z1^2/((z0*z1 - z0^2/z1 - z1^2/z0 + z0/z1^2 + z1/z0^2 - 1/(z0*z1))*z0^4) - 1/((z0*z1 - z0^2/z1 - z1^2/z0 + z0/z1^2 + z1/z0^2 - 1/(z0*z1))*z0^2*z1^2))*q^754 - q^667 + 2*q^524 - 2*q^238 + q^95"
      ]
     },
     "execution_count": 9,
     "metadata": {},
     "output_type": "execute_result"
    }
   ],
   "source": [
    "mu = 1/sqrt(S.m)*(rho-s)\n",
    "(q^(S.delta([\"A\",2]))*triplet_character([\"A\",2],vector([0,0]),mu,S.m*S.d,3,1000,basis=\"weight\")).series(q,1000).truncate()"
   ]
  },
  {
   "cell_type": "markdown",
   "metadata": {},
   "source": [
    "They are the same. \n",
    "Finally, we can compute the full $\\hat{Z}$ invariant:"
   ]
  },
  {
   "cell_type": "code",
   "execution_count": null,
   "metadata": {
    "vscode": {
     "languageId": "python"
    }
   },
   "outputs": [],
   "source": [
    "S.z_hat([\"A\",2],b0,300,basis=\"weight\")"
   ]
  }
 ],
 "metadata": {
  "kernelspec": {
   "display_name": "SageMath 9.6",
   "language": "sage",
   "name": "sagemath"
  },
  "language_info": {
   "codemirror_mode": {
    "name": "ipython",
    "version": 3
   },
   "file_extension": ".py",
   "mimetype": "text/x-python",
   "name": "python",
   "nbconvert_exporter": "python",
   "pygments_lexer": "ipython3",
   "version": "3.10.4"
  },
  "vscode": {
   "interpreter": {
    "hash": "d0a05f0c313e5e284696bfab0c425f2bd049a2b800b8197cf9fb2674d7ea8ce4"
   }
  }
 },
 "nbformat": 4,
 "nbformat_minor": 2
}
